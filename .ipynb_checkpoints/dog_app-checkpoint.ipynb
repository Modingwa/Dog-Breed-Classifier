{
 "cells": [
  {
   "cell_type": "markdown",
   "metadata": {},
   "source": [
    "# Data Scientist Nanodegree\n",
    "\n",
    "## Convolutional Neural Networks\n",
    "\n",
    "## Project: Write an Algorithm for a Dog Identification App \n",
    "\n",
    "\n",
    "This notebook walks you through one of the most popular Udacity projects across machine learning and artificial intellegence nanodegree programs.  The goal is to classify images of dogs according to their breed.  \n",
    "\n",
    "If you are looking for a more guided capstone project related to deep learning and convolutional neural networks, this might be just it.  Notice that even if you follow the notebook to creating your classifier, you must still create a blog post or deploy an application to fulfill the requirements of the capstone project.\n",
    "\n",
    "Also notice, you may be able to use only parts of this notebook (for example certain coding portions or the data) without completing all parts and still meet all requirements of the capstone project.\n",
    "\n",
    "---\n",
    "\n",
    "In this notebook, some template code has already been provided for you, and you will need to implement additional functionality to successfully complete this project. You will not need to modify the included code beyond what is requested. Sections that begin with **'(IMPLEMENTATION)'** in the header indicate that the following block of code will require additional functionality which you must provide. Instructions will be provided for each section, and the specifics of the implementation are marked in the code block with a 'TODO' statement. Please be sure to read the instructions carefully! \n",
    "\n",
    "In addition to implementing code, there will be questions that you must answer which relate to the project and your implementation. Each section where you will answer a question is preceded by a **'Question X'** header. Carefully read each question and provide thorough answers in the following text boxes that begin with **'Answer:'**. Your project submission will be evaluated based on your answers to each of the questions and the implementation you provide.\n",
    "\n",
    ">**Note:** Code and Markdown cells can be executed using the **Shift + Enter** keyboard shortcut.  Markdown cells can be edited by double-clicking the cell to enter edit mode.\n",
    "\n",
    "The rubric contains _optional_ \"Stand Out Suggestions\" for enhancing the project beyond the minimum requirements. If you decide to pursue the \"Stand Out Suggestions\", you should include the code in this IPython notebook.\n",
    "\n",
    "\n",
    "\n",
    "---\n",
    "### Why We're Here \n",
    "\n",
    "In this notebook, you will make the first steps towards developing an algorithm that could be used as part of a mobile or web app.  At the end of this project, your code will accept any user-supplied image as input.  If a dog is detected in the image, it will provide an estimate of the dog's breed.  If a human is detected, it will provide an estimate of the dog breed that is most resembling.  The image below displays potential sample output of your finished project (... but we expect that each student's algorithm will behave differently!). \n",
    "\n",
    "![Sample Dog Output](images/sample_dog_output.png)\n",
    "\n",
    "In this real-world setting, you will need to piece together a series of models to perform different tasks; for instance, the algorithm that detects humans in an image will be different from the CNN that infers dog breed.  There are many points of possible failure, and no perfect algorithm exists.  Your imperfect solution will nonetheless create a fun user experience!\n",
    "\n",
    "### The Road Ahead\n",
    "\n",
    "We break the notebook into separate steps.  Feel free to use the links below to navigate the notebook.\n",
    "\n",
    "* [Step 0](#step0): Import Datasets\n",
    "* [Step 1](#step1): Detect Humans\n",
    "* [Step 2](#step2): Detect Dogs\n",
    "* [Step 3](#step3): Create a CNN to Classify Dog Breeds (from Scratch)\n",
    "* [Step 4](#step4): Use a CNN to Classify Dog Breeds (using Transfer Learning)\n",
    "* [Step 5](#step5): Create a CNN to Classify Dog Breeds (using Transfer Learning)\n",
    "* [Step 6](#step6): Write your Algorithm\n",
    "* [Step 7](#step7): Test Your Algorithm\n",
    "\n",
    "---\n",
    "<a id='step0'></a>\n",
    "## Step 0: Import Datasets\n",
    "\n",
    "### Import Dog Dataset\n",
    "\n",
    "In the code cell below, we import a dataset of dog images.  We populate a few variables through the use of the `load_files` function from the scikit-learn library:\n",
    "- `train_files`, `valid_files`, `test_files` - numpy arrays containing file paths to images\n",
    "- `train_targets`, `valid_targets`, `test_targets` - numpy arrays containing onehot-encoded classification labels \n",
    "- `dog_names` - list of string-valued dog breed names for translating labels"
   ]
  },
  {
   "cell_type": "code",
   "execution_count": 1,
   "metadata": {
    "scrolled": true
   },
   "outputs": [
    {
     "name": "stderr",
     "output_type": "stream",
     "text": [
      "Using TensorFlow backend.\n"
     ]
    },
    {
     "name": "stdout",
     "output_type": "stream",
     "text": [
      "There are 133 total dog categories.\n",
      "There are 8351 total dog images.\n",
      "\n",
      "There are 6680 training dog images.\n",
      "There are 835 validation dog images.\n",
      "There are 836 test dog images.\n"
     ]
    }
   ],
   "source": [
    "from sklearn.datasets import load_files       \n",
    "from keras.utils import np_utils\n",
    "import numpy as np\n",
    "from glob import glob\n",
    "\n",
    "# define function to load train, test, and validation datasets\n",
    "def load_dataset(path):\n",
    "    data = load_files(path)\n",
    "    dog_files = np.array(data['filenames'])\n",
    "    dog_targets = np_utils.to_categorical(np.array(data['target']), 133)\n",
    "    return dog_files, dog_targets\n",
    "\n",
    "# load train, test, and validation datasets\n",
    "train_files, train_targets = load_dataset('data/dogImages/train')\n",
    "valid_files, valid_targets = load_dataset('data/dogImages/valid')\n",
    "test_files, test_targets = load_dataset('data/dogImages/test')\n",
    "\n",
    "# load list of dog names\n",
    "dog_names = [item[20:-1] for item in sorted(glob(\"data/dogImages/train/*/\"))]\n",
    "\n",
    "# print statistics about the dataset\n",
    "print('There are %d total dog categories.' % len(dog_names))\n",
    "print('There are %s total dog images.\\n' % len(np.hstack([train_files, valid_files, test_files])))\n",
    "print('There are %d training dog images.' % len(train_files))\n",
    "print('There are %d validation dog images.' % len(valid_files))\n",
    "print('There are %d test dog images.'% len(test_files))"
   ]
  },
  {
   "cell_type": "code",
   "execution_count": 2,
   "metadata": {},
   "outputs": [
    {
     "name": "stdout",
     "output_type": "stream",
     "text": [
      "[name: \"/device:CPU:0\"\n",
      "device_type: \"CPU\"\n",
      "memory_limit: 268435456\n",
      "locality {\n",
      "}\n",
      "incarnation: 418292772685743267\n",
      ", name: \"/device:GPU:0\"\n",
      "device_type: \"GPU\"\n",
      "memory_limit: 4842782720\n",
      "locality {\n",
      "  bus_id: 1\n",
      "  links {\n",
      "  }\n",
      "}\n",
      "incarnation: 9999884901847041424\n",
      "physical_device_desc: \"device: 0, name: GeForce RTX 2060, pci bus id: 0000:01:00.0, compute capability: 7.5\"\n",
      "]\n"
     ]
    }
   ],
   "source": [
    "from tensorflow.python.client import device_lib\n",
    "print(device_lib.list_local_devices())"
   ]
  },
  {
   "cell_type": "markdown",
   "metadata": {},
   "source": [
    "### Import Human Dataset\n",
    "\n",
    "In the code cell below, we import a dataset of human images, where the file paths are stored in the numpy array `human_files`."
   ]
  },
  {
   "cell_type": "code",
   "execution_count": 3,
   "metadata": {},
   "outputs": [
    {
     "name": "stdout",
     "output_type": "stream",
     "text": [
      "There are 13233 total human images.\n"
     ]
    }
   ],
   "source": [
    "import random\n",
    "random.seed(8675309)\n",
    "\n",
    "# load filenames in shuffled human dataset\n",
    "human_files = np.array(glob(\"data/lfw/*/*\"))\n",
    "random.shuffle(human_files)\n",
    "\n",
    "# print statistics about the dataset\n",
    "print('There are %d total human images.' % len(human_files))"
   ]
  },
  {
   "cell_type": "markdown",
   "metadata": {},
   "source": [
    "---\n",
    "<a id='step1'></a>\n",
    "## Step 1: Detect Humans\n",
    "\n",
    "We use OpenCV's implementation of [Haar feature-based cascade classifiers](http://docs.opencv.org/trunk/d7/d8b/tutorial_py_face_detection.html) to detect human faces in images.  OpenCV provides many pre-trained face detectors, stored as XML files on [github](https://github.com/opencv/opencv/tree/master/data/haarcascades).  We have downloaded one of these detectors and stored it in the `haarcascades` directory.\n",
    "\n",
    "In the next code cell, we demonstrate how to use this detector to find human faces in a sample image."
   ]
  },
  {
   "cell_type": "code",
   "execution_count": 4,
   "metadata": {},
   "outputs": [
    {
     "name": "stdout",
     "output_type": "stream",
     "text": [
      "Number of faces detected: 1\n"
     ]
    },
    {
     "data": {
      "image/png": "[encoded data removed]",
      "text/plain": [
       "<Figure size 432x288 with 1 Axes>"
      ]
     },
     "metadata": {
      "needs_background": "light"
     },
     "output_type": "display_data"
    }
   ],
   "source": [
    "import cv2                \n",
    "import matplotlib.pyplot as plt                        \n",
    "%matplotlib inline                               \n",
    "\n",
    "# extract pre-trained face detector\n",
    "face_cascade = cv2.CascadeClassifier('haarcascades/haarcascade_frontalface_alt.xml')\n",
    "\n",
    "# load color (BGR) image\n",
    "img = cv2.imread(human_files[4])\n",
    "# convert BGR image to grayscale\n",
    "gray = cv2.cvtColor(img, cv2.COLOR_BGR2GRAY)\n",
    "\n",
    "# find faces in image\n",
    "faces = face_cascade.detectMultiScale(gray)\n",
    "\n",
    "# print number of faces detected in the image\n",
    "print('Number of faces detected:', len(faces))\n",
    "\n",
    "# get bounding box for each detected face\n",
    "for (x,y,w,h) in faces:\n",
    "    # add bounding box to color image\n",
    "    cv2.rectangle(img,(x,y),(x+w,y+h),(255,0,0),2)\n",
    "    \n",
    "# convert BGR image to RGB for plotting\n",
    "cv_rgb = cv2.cvtColor(img, cv2.COLOR_BGR2RGB)\n",
    "\n",
    "# display the image, along with bounding box\n",
    "plt.imshow(cv_rgb)\n",
    "plt.show()"
   ]
  },
  {
   "cell_type": "markdown",
   "metadata": {},
   "source": [
    "Before using any of the face detectors, it is standard procedure to convert the images to grayscale.  The `detectMultiScale` function executes the classifier stored in `face_cascade` and takes the grayscale image as a parameter.  \n",
    "\n",
    "In the above code, `faces` is a numpy array of detected faces, where each row corresponds to a detected face.  Each detected face is a 1D array with four entries that specifies the bounding box of the detected face.  The first two entries in the array (extracted in the above code as `x` and `y`) specify the horizontal and vertical positions of the top left corner of the bounding box.  The last two entries in the array (extracted here as `w` and `h`) specify the width and height of the box.\n",
    "\n",
    "### Write a Human Face Detector\n",
    "\n",
    "We can use this procedure to write a function that returns `True` if a human face is detected in an image and `False` otherwise.  This function, aptly named `face_detector`, takes a string-valued file path to an image as input and appears in the code block below."
   ]
  },
  {
   "cell_type": "code",
   "execution_count": 5,
   "metadata": {},
   "outputs": [],
   "source": [
    "# returns \"True\" if face is detected in image stored at img_path\n",
    "def face_detector(img_path):\n",
    "    img = cv2.imread(img_path)\n",
    "    gray = cv2.cvtColor(img, cv2.COLOR_BGR2GRAY)\n",
    "    faces = face_cascade.detectMultiScale(gray)\n",
    "    return len(faces) > 0"
   ]
  },
  {
   "cell_type": "markdown",
   "metadata": {},
   "source": [
    "### (IMPLEMENTATION) Assess the Human Face Detector\n",
    "\n",
    "__Question 1:__ Use the code cell below to test the performance of the `face_detector` function.  \n",
    "- What percentage of the first 100 images in `human_files` have a detected human face?  \n",
    "- What percentage of the first 100 images in `dog_files` have a detected human face? \n",
    "\n",
    "Ideally, we would like 100% of human images with a detected face and 0% of dog images with a detected face.  You will see that our algorithm falls short of this goal, but still gives acceptable performance.  We extract the file paths for the first 100 images from each of the datasets and store them in the numpy arrays `human_files_short` and `dog_files_short`.\n",
    "\n",
    "__Answer:__ "
   ]
  },
  {
   "cell_type": "code",
   "execution_count": 6,
   "metadata": {},
   "outputs": [
    {
     "name": "stdout",
     "output_type": "stream",
     "text": [
      "Percentage of the first 100 images in human_files that have a detected human face: 99.0 %\n",
      "Percentage of the first 100 images in dog_files that have a detected human face: 12.0 %\n"
     ]
    }
   ],
   "source": [
    "human_files_short = human_files[:100]\n",
    "dog_files_short = train_files[:100]\n",
    "# Do NOT modify the code above this line.\n",
    "\n",
    "## TODO: Test the performance of the face_detector algorithm \n",
    "## on the images in human_files_short and dog_files_short.\n",
    "\n",
    "is_face = [face_detector(image_path) for image_path in human_files_short]\n",
    "is_face_percent = 100*len(human_files_short[is_face])/len(human_files_short)\n",
    "print('Percentage of the first 100 images in human_files that have a detected human face:', is_face_percent , '%')\n",
    "\n",
    "is_face = [face_detector(image_path) for image_path in dog_files_short]\n",
    "is_face_percent = 100*len(dog_files_short[is_face])/len(dog_files_short)\n",
    "print('Percentage of the first 100 images in dog_files that have a detected human face:', is_face_percent , '%')"
   ]
  },
  {
   "cell_type": "markdown",
   "metadata": {},
   "source": [
    "__Question 2:__ This algorithmic choice necessitates that we communicate to the user that we accept human images only when they provide a clear view of a face (otherwise, we risk having unneccessarily frustrated users!). In your opinion, is this a reasonable expectation to pose on the user? If not, can you think of a way to detect humans in images that does not necessitate an image with a clearly presented face?\n",
    "\n",
    "__Answer:__\n",
    "\n",
    "We suggest the face detector from OpenCV as a potential way to detect human images in your algorithm, but you are free to explore other approaches, especially approaches that make use of deep learning :).  Please use the code cell below to design and test your own face detection algorithm.  If you decide to pursue this _optional_ task, report performance on each of the datasets."
   ]
  },
  {
   "cell_type": "code",
   "execution_count": 7,
   "metadata": {},
   "outputs": [],
   "source": [
    "## (Optional) TODO: Report the performance of another  \n",
    "## face detection algorithm on the LFW dataset\n",
    "### Feel free to use as many code cells as needed.\n"
   ]
  },
  {
   "cell_type": "markdown",
   "metadata": {},
   "source": [
    "---\n",
    "<a id='step2'></a>\n",
    "## Step 2: Detect Dogs\n",
    "\n",
    "In this section, we use a pre-trained [ResNet-50](http://ethereon.github.io/netscope/#/gist/db945b393d40bfa26006) model to detect dogs in images.  Our first line of code downloads the ResNet-50 model, along with weights that have been trained on [ImageNet](http://www.image-net.org/), a very large, very popular dataset used for image classification and other vision tasks.  ImageNet contains over 10 million URLs, each linking to an image containing an object from one of [1000 categories](https://gist.github.com/yrevar/942d3a0ac09ec9e5eb3a).  Given an image, this pre-trained ResNet-50 model returns a prediction (derived from the available categories in ImageNet) for the object that is contained in the image."
   ]
  },
  {
   "cell_type": "code",
   "execution_count": 8,
   "metadata": {},
   "outputs": [
    {
     "name": "stdout",
     "output_type": "stream",
     "text": [
      "WARNING:tensorflow:From C:\\Users\\Charles\\Anaconda3\\envs\\dnn_gpu\\lib\\site-packages\\tensorflow\\python\\framework\\op_def_library.py:263: colocate_with (from tensorflow.python.framework.ops) is deprecated and will be removed in a future version.\n",
      "Instructions for updating:\n",
      "Colocations handled automatically by placer.\n"
     ]
    }
   ],
   "source": [
    "from keras.applications.resnet50 import ResNet50\n",
    "\n",
    "# define ResNet50 model\n",
    "ResNet50_model = ResNet50(weights='imagenet')"
   ]
  },
  {
   "cell_type": "markdown",
   "metadata": {},
   "source": [
    "### Pre-process the Data\n",
    "\n",
    "When using TensorFlow as backend, Keras CNNs require a 4D array (which we'll also refer to as a 4D tensor) as input, with shape\n",
    "\n",
    "$$\n",
    "(\\text{nb_samples}, \\text{rows}, \\text{columns}, \\text{channels}),\n",
    "$$\n",
    "\n",
    "where `nb_samples` corresponds to the total number of images (or samples), and `rows`, `columns`, and `channels` correspond to the number of rows, columns, and channels for each image, respectively.  \n",
    "\n",
    "The `path_to_tensor` function below takes a string-valued file path to a color image as input and returns a 4D tensor suitable for supplying to a Keras CNN.  The function first loads the image and resizes it to a square image that is $224 \\times 224$ pixels.  Next, the image is converted to an array, which is then resized to a 4D tensor.  In this case, since we are working with color images, each image has three channels.  Likewise, since we are processing a single image (or sample), the returned tensor will always have shape\n",
    "\n",
    "$$\n",
    "(1, 224, 224, 3).\n",
    "$$\n",
    "\n",
    "The `paths_to_tensor` function takes a numpy array of string-valued image paths as input and returns a 4D tensor with shape \n",
    "\n",
    "$$\n",
    "(\\text{nb_samples}, 224, 224, 3).\n",
    "$$\n",
    "\n",
    "Here, `nb_samples` is the number of samples, or number of images, in the supplied array of image paths.  It is best to think of `nb_samples` as the number of 3D tensors (where each 3D tensor corresponds to a different image) in your dataset!"
   ]
  },
  {
   "cell_type": "code",
   "execution_count": 9,
   "metadata": {},
   "outputs": [],
   "source": [
    "from keras.preprocessing import image\n",
    "from tqdm import tqdm\n",
    "import PIL\n",
    "from PIL import Image\n",
    "\n",
    "def path_to_tensor(img_path):\n",
    "    # loads RGB image as PIL.Image.Image type\n",
    "    img = image.load_img(img_path, target_size=(224, 224))\n",
    "    # convert PIL.Image.Image type to 3D tensor with shape (224, 224, 3)\n",
    "    x = image.img_to_array(img)\n",
    "    # convert 3D tensor to 4D tensor with shape (1, 224, 224, 3) and return 4D tensor\n",
    "    return np.expand_dims(x, axis=0)\n",
    "\n",
    "def paths_to_tensor(img_paths):\n",
    "    list_of_tensors = [path_to_tensor(img_path) for img_path in tqdm(img_paths)]\n",
    "    return np.vstack(list_of_tensors)"
   ]
  },
  {
   "cell_type": "markdown",
   "metadata": {},
   "source": [
    "### Making Predictions with ResNet-50\n",
    "\n",
    "Getting the 4D tensor ready for ResNet-50, and for any other pre-trained model in Keras, requires some additional processing.  First, the RGB image is converted to BGR by reordering the channels.  All pre-trained models have the additional normalization step that the mean pixel (expressed in RGB as $[103.939, 116.779, 123.68]$ and calculated from all pixels in all images in ImageNet) must be subtracted from every pixel in each image.  This is implemented in the imported function `preprocess_input`.  If you're curious, you can check the code for `preprocess_input` [here](https://github.com/fchollet/keras/blob/master/keras/applications/imagenet_utils.py).\n",
    "\n",
    "Now that we have a way to format our image for supplying to ResNet-50, we are now ready to use the model to extract the predictions.  This is accomplished with the `predict` method, which returns an array whose $i$-th entry is the model's predicted probability that the image belongs to the $i$-th ImageNet category.  This is implemented in the `ResNet50_predict_labels` function below.\n",
    "\n",
    "By taking the argmax of the predicted probability vector, we obtain an integer corresponding to the model's predicted object class, which we can identify with an object category through the use of this [dictionary](https://gist.github.com/yrevar/942d3a0ac09ec9e5eb3a). "
   ]
  },
  {
   "cell_type": "code",
   "execution_count": 10,
   "metadata": {},
   "outputs": [],
   "source": [
    "from keras.applications.resnet50 import preprocess_input, decode_predictions\n",
    "\n",
    "def ResNet50_predict_labels(img_path):\n",
    "    # returns prediction vector for image located at img_path\n",
    "    img = preprocess_input(path_to_tensor(img_path))\n",
    "    return np.argmax(ResNet50_model.predict(img))"
   ]
  },
  {
   "cell_type": "markdown",
   "metadata": {},
   "source": [
    "### Write a Dog Detector\n",
    "\n",
    "While looking at the [dictionary](https://gist.github.com/yrevar/942d3a0ac09ec9e5eb3a), you will notice that the categories corresponding to dogs appear in an uninterrupted sequence and correspond to dictionary keys 151-268, inclusive, to include all categories from `'Chihuahua'` to `'Mexican hairless'`.  Thus, in order to check to see if an image is predicted to contain a dog by the pre-trained ResNet-50 model, we need only check if the `ResNet50_predict_labels` function above returns a value between 151 and 268 (inclusive).\n",
    "\n",
    "We use these ideas to complete the `dog_detector` function below, which returns `True` if a dog is detected in an image (and `False` if not)."
   ]
  },
  {
   "cell_type": "code",
   "execution_count": 11,
   "metadata": {},
   "outputs": [],
   "source": [
    "### returns \"True\" if a dog is detected in the image stored at img_path\n",
    "def dog_detector(img_path):\n",
    "    prediction = ResNet50_predict_labels(img_path)\n",
    "    return ((prediction <= 268) & (prediction >= 151)) "
   ]
  },
  {
   "cell_type": "markdown",
   "metadata": {},
   "source": [
    "### (IMPLEMENTATION) Assess the Dog Detector\n",
    "\n",
    "__Question 3:__ Use the code cell below to test the performance of your `dog_detector` function.  \n",
    "- What percentage of the images in `human_files_short` have a detected dog?  \n",
    "- What percentage of the images in `dog_files_short` have a detected dog?\n",
    "\n",
    "__Answer:__ "
   ]
  },
  {
   "cell_type": "code",
   "execution_count": 12,
   "metadata": {
    "scrolled": false
   },
   "outputs": [
    {
     "name": "stdout",
     "output_type": "stream",
     "text": [
      "Percentage of the first 100 images in human_files that have a detected dog: 1.0 %\n",
      "Percentage of the first 100 images in dog_files that have a detected dog: 100.0 %\n"
     ]
    }
   ],
   "source": [
    "### TODO: Test the performance of the dog_detector function\n",
    "### on the images in human_files_short and dog_files_short.\n",
    "is_dog = [dog_detector(image_path) for image_path in human_files_short]\n",
    "is_dog_percent = 100*len(human_files_short[is_dog])/human_files_short.shape[0]\n",
    "print('Percentage of the first 100 images in human_files that have a detected dog:', is_dog_percent , '%')\n",
    "\n",
    "is_dog = [dog_detector(image_path) for image_path in dog_files_short]\n",
    "is_dog_percent = 100*len(dog_files_short[is_dog])/dog_files_short.shape[0]\n",
    "print('Percentage of the first 100 images in dog_files that have a detected dog:', is_dog_percent , '%')"
   ]
  },
  {
   "cell_type": "markdown",
   "metadata": {},
   "source": [
    "---\n",
    "<a id='step3'></a>\n",
    "## Step 3: Create a CNN to Classify Dog Breeds (from Scratch)\n",
    "\n",
    "Now that we have functions for detecting humans and dogs in images, we need a way to predict breed from images.  In this step, you will create a CNN that classifies dog breeds.  You must create your CNN _from scratch_ (so, you can't use transfer learning _yet_!), and you must attain a test accuracy of at least 1%.  In Step 5 of this notebook, you will have the opportunity to use transfer learning to create a CNN that attains greatly improved accuracy.\n",
    "\n",
    "Be careful with adding too many trainable layers!  More parameters means longer training, which means you are more likely to need a GPU to accelerate the training process.  Thankfully, Keras provides a handy estimate of the time that each epoch is likely to take; you can extrapolate this estimate to figure out how long it will take for your algorithm to train. \n",
    "\n",
    "We mention that the task of assigning breed to dogs from images is considered exceptionally challenging.  To see why, consider that *even a human* would have great difficulty in distinguishing between a Brittany and a Welsh Springer Spaniel.  \n",
    "\n",
    "Brittany | Welsh Springer Spaniel\n",
    "- | - \n",
    "<img src=\"images/Brittany_02625.jpg\" width=\"100\"> | <img src=\"images/Welsh_springer_spaniel_08203.jpg\" width=\"200\">\n",
    "\n",
    "It is not difficult to find other dog breed pairs with minimal inter-class variation (for instance, Curly-Coated Retrievers and American Water Spaniels).  \n",
    "\n",
    "Curly-Coated Retriever | American Water Spaniel\n",
    "- | -\n",
    "<img src=\"images/Curly-coated_retriever_03896.jpg\" width=\"200\"> | <img src=\"images/American_water_spaniel_00648.jpg\" width=\"200\">\n",
    "\n",
    "\n",
    "Likewise, recall that labradors come in yellow, chocolate, and black.  Your vision-based algorithm will have to conquer this high intra-class variation to determine how to classify all of these different shades as the same breed.  \n",
    "\n",
    "Yellow Labrador | Chocolate Labrador | Black Labrador\n",
    "- | -\n",
    "<img src=\"images/Labrador_retriever_06457.jpg\" width=\"150\"> | <img src=\"images/Labrador_retriever_06455.jpg\" width=\"240\"> | <img src=\"images/Labrador_retriever_06449.jpg\" width=\"220\">\n",
    "\n",
    "We also mention that random chance presents an exceptionally low bar: setting aside the fact that the classes are slightly imabalanced, a random guess will provide a correct answer roughly 1 in 133 times, which corresponds to an accuracy of less than 1%.  \n",
    "\n",
    "Remember that the practice is far ahead of the theory in deep learning.  Experiment with many different architectures, and trust your intuition.  And, of course, have fun! \n",
    "\n",
    "### Pre-process the Data\n",
    "\n",
    "We rescale the images by dividing every pixel in every image by 255."
   ]
  },
  {
   "cell_type": "code",
   "execution_count": 13,
   "metadata": {},
   "outputs": [
    {
     "name": "stderr",
     "output_type": "stream",
     "text": [
      "100%|█████████████████████████████████████████████████████████████████████████████| 6680/6680 [00:43<00:00, 152.67it/s]\n",
      "100%|███████████████████████████████████████████████████████████████████████████████| 835/835 [00:04<00:00, 168.73it/s]\n",
      "100%|███████████████████████████████████████████████████████████████████████████████| 836/836 [00:04<00:00, 167.83it/s]\n"
     ]
    }
   ],
   "source": [
    "from PIL import ImageFile                            \n",
    "ImageFile.LOAD_TRUNCATED_IMAGES = True                 \n",
    "\n",
    "# pre-process the data for Keras\n",
    "train_tensors = paths_to_tensor(train_files).astype('float32')/255\n",
    "valid_tensors = paths_to_tensor(valid_files).astype('float32')/255\n",
    "test_tensors = paths_to_tensor(test_files).astype('float32')/255"
   ]
  },
  {
   "cell_type": "markdown",
   "metadata": {},
   "source": [
    "### (IMPLEMENTATION) Model Architecture\n",
    "\n",
    "Create a CNN to classify dog breed.  At the end of your code cell block, summarize the layers of your model by executing the line:\n",
    "    \n",
    "        model.summary()\n",
    "\n",
    "We have imported some Python modules to get you started, but feel free to import as many modules as you need.  If you end up getting stuck, here's a hint that specifies a model that trains relatively fast on CPU and attains >1% test accuracy in 5 epochs:\n",
    "\n",
    "![Sample CNN](images/sample_cnn.png)\n",
    "           \n",
    "__Question 4:__ Outline the steps you took to get to your final CNN architecture and your reasoning at each step.  If you chose to use the hinted architecture above, describe why you think that CNN architecture should work well for the image classification task.\n",
    "\n",
    "__Answer:__ "
   ]
  },
  {
   "cell_type": "code",
   "execution_count": 30,
   "metadata": {},
   "outputs": [
    {
     "name": "stdout",
     "output_type": "stream",
     "text": [
      "Model: \"sequential_4\"\n",
      "_________________________________________________________________\n",
      "Layer (type)                 Output Shape              Param #   \n",
      "=================================================================\n",
      "conv2d_11 (Conv2D)           (None, 224, 224, 32)      896       \n",
      "_________________________________________________________________\n",
      "activation_64 (Activation)   (None, 224, 224, 32)      0         \n",
      "_________________________________________________________________\n",
      "batch_normalization_8 (Batch (None, 224, 224, 32)      896       \n",
      "_________________________________________________________________\n",
      "conv2d_12 (Conv2D)           (None, 224, 224, 32)      9248      \n",
      "_________________________________________________________________\n",
      "activation_65 (Activation)   (None, 224, 224, 32)      0         \n",
      "_________________________________________________________________\n",
      "batch_normalization_9 (Batch (None, 224, 224, 32)      896       \n",
      "_________________________________________________________________\n",
      "max_pooling2d_6 (MaxPooling2 (None, 112, 112, 32)      0         \n",
      "_________________________________________________________________\n",
      "dropout_7 (Dropout)          (None, 112, 112, 32)      0         \n",
      "_________________________________________________________________\n",
      "conv2d_13 (Conv2D)           (None, 112, 112, 64)      18496     \n",
      "_________________________________________________________________\n",
      "activation_66 (Activation)   (None, 112, 112, 64)      0         \n",
      "_________________________________________________________________\n",
      "batch_normalization_10 (Batc (None, 112, 112, 64)      448       \n",
      "_________________________________________________________________\n",
      "conv2d_14 (Conv2D)           (None, 112, 112, 64)      36928     \n",
      "_________________________________________________________________\n",
      "activation_67 (Activation)   (None, 112, 112, 64)      0         \n",
      "_________________________________________________________________\n",
      "batch_normalization_11 (Batc (None, 112, 112, 64)      448       \n",
      "_________________________________________________________________\n",
      "max_pooling2d_7 (MaxPooling2 (None, 56, 56, 64)        0         \n",
      "_________________________________________________________________\n",
      "dropout_8 (Dropout)          (None, 56, 56, 64)        0         \n",
      "_________________________________________________________________\n",
      "conv2d_15 (Conv2D)           (None, 56, 56, 128)       73856     \n",
      "_________________________________________________________________\n",
      "activation_68 (Activation)   (None, 56, 56, 128)       0         \n",
      "_________________________________________________________________\n",
      "batch_normalization_12 (Batc (None, 56, 56, 128)       224       \n",
      "_________________________________________________________________\n",
      "conv2d_16 (Conv2D)           (None, 56, 56, 128)       147584    \n",
      "_________________________________________________________________\n",
      "activation_69 (Activation)   (None, 56, 56, 128)       0         \n",
      "_________________________________________________________________\n",
      "batch_normalization_13 (Batc (None, 56, 56, 128)       224       \n",
      "_________________________________________________________________\n",
      "max_pooling2d_8 (MaxPooling2 (None, 28, 28, 128)       0         \n",
      "_________________________________________________________________\n",
      "dropout_9 (Dropout)          (None, 28, 28, 128)       0         \n",
      "_________________________________________________________________\n",
      "conv2d_17 (Conv2D)           (None, 28, 28, 256)       295168    \n",
      "_________________________________________________________________\n",
      "activation_70 (Activation)   (None, 28, 28, 256)       0         \n",
      "_________________________________________________________________\n",
      "batch_normalization_14 (Batc (None, 28, 28, 256)       112       \n",
      "_________________________________________________________________\n",
      "conv2d_18 (Conv2D)           (None, 28, 28, 256)       590080    \n",
      "_________________________________________________________________\n",
      "activation_71 (Activation)   (None, 28, 28, 256)       0         \n",
      "_________________________________________________________________\n",
      "batch_normalization_15 (Batc (None, 28, 28, 256)       112       \n",
      "_________________________________________________________________\n",
      "max_pooling2d_9 (MaxPooling2 (None, 14, 14, 256)       0         \n",
      "_________________________________________________________________\n",
      "dropout_10 (Dropout)         (None, 14, 14, 256)       0         \n",
      "_________________________________________________________________\n",
      "flatten_3 (Flatten)          (None, 50176)             0         \n",
      "_________________________________________________________________\n",
      "dense_5 (Dense)              (None, 512)               25690624  \n",
      "_________________________________________________________________\n",
      "activation_72 (Activation)   (None, 512)               0         \n",
      "_________________________________________________________________\n",
      "batch_normalization_16 (Batc (None, 512)               2048      \n",
      "_________________________________________________________________\n",
      "dropout_11 (Dropout)         (None, 512)               0         \n",
      "_________________________________________________________________\n",
      "dense_6 (Dense)              (None, 133)               68229     \n",
      "_________________________________________________________________\n",
      "activation_73 (Activation)   (None, 133)               0         \n",
      "=================================================================\n",
      "Total params: 26,936,517\n",
      "Trainable params: 26,933,813\n",
      "Non-trainable params: 2,704\n",
      "_________________________________________________________________\n"
     ]
    }
   ],
   "source": [
    "from keras.layers import Conv2D, MaxPooling2D, GlobalAveragePooling2D, BatchNormalization\n",
    "from keras.layers import Dropout, Flatten, Dense, Activation\n",
    "from keras.models import Sequential\n",
    "from keras.optimizers import SGD\n",
    "from keras.utils import np_utils\n",
    "\n",
    "### TODO: Define your architecture\n",
    "\n",
    "# define a custom class that uses keras Sequential model\n",
    "class CustomCNN:\n",
    "    def assemble(data_input_shape, num_classes):\n",
    "        # initialize the model\n",
    "        model = Sequential()\n",
    "        \n",
    "        input_shape = data_input_shape\n",
    "        \n",
    "\n",
    "        ## first layer : Conv -> Relu -> Conv -> Relu -> Pool\n",
    "        model.add(Conv2D(32, (3, 3), padding=\"same\", input_shape=input_shape))\n",
    "        model.add(Activation(\"relu\"))\n",
    "        model.add(BatchNormalization(axis=1))\n",
    "        model.add(Conv2D(32, (3, 3), padding=\"same\"))\n",
    "        model.add(Activation(\"relu\"))\n",
    "        model.add(BatchNormalization(axis=1))\n",
    "        model.add(MaxPooling2D(pool_size=(2, 2)))\n",
    "        model.add(Dropout(0.25))\n",
    "\n",
    "        # second layer: Conv -> Relu -> Conv -> Relu -> Pool\n",
    "        model.add(Conv2D(64, (3, 3), padding=\"same\"))\n",
    "        model.add(Activation(\"relu\"))\n",
    "        model.add(BatchNormalization(axis=1))\n",
    "        model.add(Conv2D(64, (3, 3), padding=\"same\"))\n",
    "        model.add(Activation(\"relu\"))\n",
    "        model.add(BatchNormalization(axis=1))\n",
    "        model.add(MaxPooling2D(pool_size=(2, 2)))\n",
    "        model.add(Dropout(0.25))\n",
    "\n",
    "        # third layer: Conv -> Relu -> Conv -> Relu -> Pool\n",
    "        model.add(Conv2D(128, (3, 3), padding=\"same\"))\n",
    "        model.add(Activation(\"relu\"))\n",
    "        model.add(BatchNormalization(axis=1))\n",
    "        model.add(Conv2D(128, (3, 3), padding=\"same\"))\n",
    "        model.add(Activation(\"relu\"))\n",
    "        model.add(BatchNormalization(axis=1))\n",
    "        model.add(MaxPooling2D(pool_size=(2, 2)))\n",
    "        model.add(Dropout(0.25))\n",
    "        \n",
    "        # fourth layer: Conv -> Relu -> Conv -> Relu -> Pool\n",
    "        model.add(Conv2D(256, (3, 3), padding=\"same\"))\n",
    "        model.add(Activation(\"relu\"))\n",
    "        model.add(BatchNormalization(axis=1))\n",
    "        model.add(Conv2D(256, (3, 3), padding=\"same\"))\n",
    "        model.add(Activation(\"relu\"))\n",
    "        model.add(BatchNormalization(axis=1))\n",
    "        model.add(MaxPooling2D(pool_size=(2, 2)))\n",
    "        model.add(Dropout(0.25))\n",
    "        \n",
    "        # first and only layer set of Fc -> Relu\n",
    "        model.add(Flatten())\n",
    "        model.add(Dense(512))\n",
    "        model.add(Activation(\"relu\"))\n",
    "        model.add(BatchNormalization())\n",
    "        model.add(Dropout(0.5))\n",
    "\n",
    "        # softmax classifier\n",
    "        model.add(Dense(num_classes))\n",
    "        model.add(Activation(\"softmax\"))\n",
    "\n",
    "        # return the constructed network architecture\n",
    "        return model\n",
    "\n",
    "# set model hyperparameters \n",
    "batch_size = 32 \n",
    "num_classes = 133 \n",
    "\n",
    "# build model\n",
    "model = CustomCNN.assemble(train_tensors.shape[1:], num_classes)\n",
    "\n",
    "model.summary()"
   ]
  },
  {
   "cell_type": "markdown",
   "metadata": {},
   "source": [
    "### Compile the Model"
   ]
  },
  {
   "cell_type": "code",
   "execution_count": 31,
   "metadata": {},
   "outputs": [],
   "source": [
    "model.compile(optimizer='rmsprop', loss='categorical_crossentropy', metrics=['accuracy'])"
   ]
  },
  {
   "cell_type": "markdown",
   "metadata": {},
   "source": [
    "### (IMPLEMENTATION) Train the Model\n",
    "\n",
    "Train your model in the code cell below.  Use model checkpointing to save the model that attains the best validation loss.\n",
    "\n",
    "You are welcome to [augment the training data](https://blog.keras.io/building-powerful-image-classification-models-using-very-little-data.html), but this is not a requirement. "
   ]
  },
  {
   "cell_type": "code",
   "execution_count": 32,
   "metadata": {
    "scrolled": false
   },
   "outputs": [
    {
     "name": "stdout",
     "output_type": "stream",
     "text": [
      "Train on 6680 samples, validate on 835 samples\n",
      "Epoch 1/5\n"
     ]
    },
    {
     "ename": "ResourceExhaustedError",
     "evalue": "OOM when allocating tensor with shape[20,128,56,56] and type float on /job:localhost/replica:0/task:0/device:GPU:0 by allocator GPU_0_bfc\n\t [[{{node conv2d_15/convolution}}]]\nHint: If you want to see a list of allocated tensors when OOM happens, add report_tensor_allocations_upon_oom to RunOptions for current allocation info.\n\n\t [[{{node metrics_2/acc/Mean}}]]\nHint: If you want to see a list of allocated tensors when OOM happens, add report_tensor_allocations_upon_oom to RunOptions for current allocation info.\n",
     "output_type": "error",
     "traceback": [
      "\u001b[1;31m---------------------------------------------------------------------------\u001b[0m",
      "\u001b[1;31mResourceExhaustedError\u001b[0m                    Traceback (most recent call last)",
      "\u001b[1;32m<ipython-input-32-ee33d5e06a4c>\u001b[0m in \u001b[0;36m<module>\u001b[1;34m\u001b[0m\n\u001b[0;32m     12\u001b[0m model.fit(train_tensors, train_targets, \n\u001b[0;32m     13\u001b[0m           \u001b[0mvalidation_data\u001b[0m\u001b[1;33m=\u001b[0m\u001b[1;33m(\u001b[0m\u001b[0mvalid_tensors\u001b[0m\u001b[1;33m,\u001b[0m \u001b[0mvalid_targets\u001b[0m\u001b[1;33m)\u001b[0m\u001b[1;33m,\u001b[0m\u001b[1;33m\u001b[0m\u001b[1;33m\u001b[0m\u001b[0m\n\u001b[1;32m---> 14\u001b[1;33m           epochs=epochs, batch_size=20, callbacks=[checkpointer], verbose=1)\n\u001b[0m",
      "\u001b[1;32m~\\Anaconda3\\envs\\dnn_gpu\\lib\\site-packages\\keras\\engine\\training.py\u001b[0m in \u001b[0;36mfit\u001b[1;34m(self, x, y, batch_size, epochs, verbose, callbacks, validation_split, validation_data, shuffle, class_weight, sample_weight, initial_epoch, steps_per_epoch, validation_steps, validation_freq, max_queue_size, workers, use_multiprocessing, **kwargs)\u001b[0m\n\u001b[0;32m   1176\u001b[0m                                         \u001b[0msteps_per_epoch\u001b[0m\u001b[1;33m=\u001b[0m\u001b[0msteps_per_epoch\u001b[0m\u001b[1;33m,\u001b[0m\u001b[1;33m\u001b[0m\u001b[1;33m\u001b[0m\u001b[0m\n\u001b[0;32m   1177\u001b[0m                                         \u001b[0mvalidation_steps\u001b[0m\u001b[1;33m=\u001b[0m\u001b[0mvalidation_steps\u001b[0m\u001b[1;33m,\u001b[0m\u001b[1;33m\u001b[0m\u001b[1;33m\u001b[0m\u001b[0m\n\u001b[1;32m-> 1178\u001b[1;33m                                         validation_freq=validation_freq)\n\u001b[0m\u001b[0;32m   1179\u001b[0m \u001b[1;33m\u001b[0m\u001b[0m\n\u001b[0;32m   1180\u001b[0m     def evaluate(self,\n",
      "\u001b[1;32m~\\Anaconda3\\envs\\dnn_gpu\\lib\\site-packages\\keras\\engine\\training_arrays.py\u001b[0m in \u001b[0;36mfit_loop\u001b[1;34m(model, fit_function, fit_inputs, out_labels, batch_size, epochs, verbose, callbacks, val_function, val_inputs, shuffle, callback_metrics, initial_epoch, steps_per_epoch, validation_steps, validation_freq)\u001b[0m\n\u001b[0;32m    202\u001b[0m                     \u001b[0mins_batch\u001b[0m\u001b[1;33m[\u001b[0m\u001b[0mi\u001b[0m\u001b[1;33m]\u001b[0m \u001b[1;33m=\u001b[0m \u001b[0mins_batch\u001b[0m\u001b[1;33m[\u001b[0m\u001b[0mi\u001b[0m\u001b[1;33m]\u001b[0m\u001b[1;33m.\u001b[0m\u001b[0mtoarray\u001b[0m\u001b[1;33m(\u001b[0m\u001b[1;33m)\u001b[0m\u001b[1;33m\u001b[0m\u001b[1;33m\u001b[0m\u001b[0m\n\u001b[0;32m    203\u001b[0m \u001b[1;33m\u001b[0m\u001b[0m\n\u001b[1;32m--> 204\u001b[1;33m                 \u001b[0mouts\u001b[0m \u001b[1;33m=\u001b[0m \u001b[0mfit_function\u001b[0m\u001b[1;33m(\u001b[0m\u001b[0mins_batch\u001b[0m\u001b[1;33m)\u001b[0m\u001b[1;33m\u001b[0m\u001b[1;33m\u001b[0m\u001b[0m\n\u001b[0m\u001b[0;32m    205\u001b[0m                 \u001b[0mouts\u001b[0m \u001b[1;33m=\u001b[0m \u001b[0mto_list\u001b[0m\u001b[1;33m(\u001b[0m\u001b[0mouts\u001b[0m\u001b[1;33m)\u001b[0m\u001b[1;33m\u001b[0m\u001b[1;33m\u001b[0m\u001b[0m\n\u001b[0;32m    206\u001b[0m                 \u001b[1;32mfor\u001b[0m \u001b[0ml\u001b[0m\u001b[1;33m,\u001b[0m \u001b[0mo\u001b[0m \u001b[1;32min\u001b[0m \u001b[0mzip\u001b[0m\u001b[1;33m(\u001b[0m\u001b[0mout_labels\u001b[0m\u001b[1;33m,\u001b[0m \u001b[0mouts\u001b[0m\u001b[1;33m)\u001b[0m\u001b[1;33m:\u001b[0m\u001b[1;33m\u001b[0m\u001b[1;33m\u001b[0m\u001b[0m\n",
      "\u001b[1;32m~\\Anaconda3\\envs\\dnn_gpu\\lib\\site-packages\\keras\\backend\\tensorflow_backend.py\u001b[0m in \u001b[0;36m__call__\u001b[1;34m(self, inputs)\u001b[0m\n\u001b[0;32m   2977\u001b[0m                     \u001b[1;32mreturn\u001b[0m \u001b[0mself\u001b[0m\u001b[1;33m.\u001b[0m\u001b[0m_legacy_call\u001b[0m\u001b[1;33m(\u001b[0m\u001b[0minputs\u001b[0m\u001b[1;33m)\u001b[0m\u001b[1;33m\u001b[0m\u001b[1;33m\u001b[0m\u001b[0m\n\u001b[0;32m   2978\u001b[0m \u001b[1;33m\u001b[0m\u001b[0m\n\u001b[1;32m-> 2979\u001b[1;33m             \u001b[1;32mreturn\u001b[0m \u001b[0mself\u001b[0m\u001b[1;33m.\u001b[0m\u001b[0m_call\u001b[0m\u001b[1;33m(\u001b[0m\u001b[0minputs\u001b[0m\u001b[1;33m)\u001b[0m\u001b[1;33m\u001b[0m\u001b[1;33m\u001b[0m\u001b[0m\n\u001b[0m\u001b[0;32m   2980\u001b[0m         \u001b[1;32melse\u001b[0m\u001b[1;33m:\u001b[0m\u001b[1;33m\u001b[0m\u001b[1;33m\u001b[0m\u001b[0m\n\u001b[0;32m   2981\u001b[0m             \u001b[1;32mif\u001b[0m \u001b[0mpy_any\u001b[0m\u001b[1;33m(\u001b[0m\u001b[0mis_tensor\u001b[0m\u001b[1;33m(\u001b[0m\u001b[0mx\u001b[0m\u001b[1;33m)\u001b[0m \u001b[1;32mfor\u001b[0m \u001b[0mx\u001b[0m \u001b[1;32min\u001b[0m \u001b[0minputs\u001b[0m\u001b[1;33m)\u001b[0m\u001b[1;33m:\u001b[0m\u001b[1;33m\u001b[0m\u001b[1;33m\u001b[0m\u001b[0m\n",
      "\u001b[1;32m~\\Anaconda3\\envs\\dnn_gpu\\lib\\site-packages\\keras\\backend\\tensorflow_backend.py\u001b[0m in \u001b[0;36m_call\u001b[1;34m(self, inputs)\u001b[0m\n\u001b[0;32m   2935\u001b[0m             \u001b[0mfetched\u001b[0m \u001b[1;33m=\u001b[0m \u001b[0mself\u001b[0m\u001b[1;33m.\u001b[0m\u001b[0m_callable_fn\u001b[0m\u001b[1;33m(\u001b[0m\u001b[1;33m*\u001b[0m\u001b[0marray_vals\u001b[0m\u001b[1;33m,\u001b[0m \u001b[0mrun_metadata\u001b[0m\u001b[1;33m=\u001b[0m\u001b[0mself\u001b[0m\u001b[1;33m.\u001b[0m\u001b[0mrun_metadata\u001b[0m\u001b[1;33m)\u001b[0m\u001b[1;33m\u001b[0m\u001b[1;33m\u001b[0m\u001b[0m\n\u001b[0;32m   2936\u001b[0m         \u001b[1;32melse\u001b[0m\u001b[1;33m:\u001b[0m\u001b[1;33m\u001b[0m\u001b[1;33m\u001b[0m\u001b[0m\n\u001b[1;32m-> 2937\u001b[1;33m             \u001b[0mfetched\u001b[0m \u001b[1;33m=\u001b[0m \u001b[0mself\u001b[0m\u001b[1;33m.\u001b[0m\u001b[0m_callable_fn\u001b[0m\u001b[1;33m(\u001b[0m\u001b[1;33m*\u001b[0m\u001b[0marray_vals\u001b[0m\u001b[1;33m)\u001b[0m\u001b[1;33m\u001b[0m\u001b[1;33m\u001b[0m\u001b[0m\n\u001b[0m\u001b[0;32m   2938\u001b[0m         \u001b[1;32mreturn\u001b[0m \u001b[0mfetched\u001b[0m\u001b[1;33m[\u001b[0m\u001b[1;33m:\u001b[0m\u001b[0mlen\u001b[0m\u001b[1;33m(\u001b[0m\u001b[0mself\u001b[0m\u001b[1;33m.\u001b[0m\u001b[0moutputs\u001b[0m\u001b[1;33m)\u001b[0m\u001b[1;33m]\u001b[0m\u001b[1;33m\u001b[0m\u001b[1;33m\u001b[0m\u001b[0m\n\u001b[0;32m   2939\u001b[0m \u001b[1;33m\u001b[0m\u001b[0m\n",
      "\u001b[1;32m~\\Anaconda3\\envs\\dnn_gpu\\lib\\site-packages\\tensorflow\\python\\client\\session.py\u001b[0m in \u001b[0;36m__call__\u001b[1;34m(self, *args, **kwargs)\u001b[0m\n\u001b[0;32m   1437\u001b[0m           ret = tf_session.TF_SessionRunCallable(\n\u001b[0;32m   1438\u001b[0m               \u001b[0mself\u001b[0m\u001b[1;33m.\u001b[0m\u001b[0m_session\u001b[0m\u001b[1;33m.\u001b[0m\u001b[0m_session\u001b[0m\u001b[1;33m,\u001b[0m \u001b[0mself\u001b[0m\u001b[1;33m.\u001b[0m\u001b[0m_handle\u001b[0m\u001b[1;33m,\u001b[0m \u001b[0margs\u001b[0m\u001b[1;33m,\u001b[0m \u001b[0mstatus\u001b[0m\u001b[1;33m,\u001b[0m\u001b[1;33m\u001b[0m\u001b[1;33m\u001b[0m\u001b[0m\n\u001b[1;32m-> 1439\u001b[1;33m               run_metadata_ptr)\n\u001b[0m\u001b[0;32m   1440\u001b[0m         \u001b[1;32mif\u001b[0m \u001b[0mrun_metadata\u001b[0m\u001b[1;33m:\u001b[0m\u001b[1;33m\u001b[0m\u001b[1;33m\u001b[0m\u001b[0m\n\u001b[0;32m   1441\u001b[0m           \u001b[0mproto_data\u001b[0m \u001b[1;33m=\u001b[0m \u001b[0mtf_session\u001b[0m\u001b[1;33m.\u001b[0m\u001b[0mTF_GetBuffer\u001b[0m\u001b[1;33m(\u001b[0m\u001b[0mrun_metadata_ptr\u001b[0m\u001b[1;33m)\u001b[0m\u001b[1;33m\u001b[0m\u001b[1;33m\u001b[0m\u001b[0m\n",
      "\u001b[1;32m~\\Anaconda3\\envs\\dnn_gpu\\lib\\site-packages\\tensorflow\\python\\framework\\errors_impl.py\u001b[0m in \u001b[0;36m__exit__\u001b[1;34m(self, type_arg, value_arg, traceback_arg)\u001b[0m\n\u001b[0;32m    526\u001b[0m             \u001b[1;32mNone\u001b[0m\u001b[1;33m,\u001b[0m \u001b[1;32mNone\u001b[0m\u001b[1;33m,\u001b[0m\u001b[1;33m\u001b[0m\u001b[1;33m\u001b[0m\u001b[0m\n\u001b[0;32m    527\u001b[0m             \u001b[0mcompat\u001b[0m\u001b[1;33m.\u001b[0m\u001b[0mas_text\u001b[0m\u001b[1;33m(\u001b[0m\u001b[0mc_api\u001b[0m\u001b[1;33m.\u001b[0m\u001b[0mTF_Message\u001b[0m\u001b[1;33m(\u001b[0m\u001b[0mself\u001b[0m\u001b[1;33m.\u001b[0m\u001b[0mstatus\u001b[0m\u001b[1;33m.\u001b[0m\u001b[0mstatus\u001b[0m\u001b[1;33m)\u001b[0m\u001b[1;33m)\u001b[0m\u001b[1;33m,\u001b[0m\u001b[1;33m\u001b[0m\u001b[1;33m\u001b[0m\u001b[0m\n\u001b[1;32m--> 528\u001b[1;33m             c_api.TF_GetCode(self.status.status))\n\u001b[0m\u001b[0;32m    529\u001b[0m     \u001b[1;31m# Delete the underlying status object from memory otherwise it stays alive\u001b[0m\u001b[1;33m\u001b[0m\u001b[1;33m\u001b[0m\u001b[1;33m\u001b[0m\u001b[0m\n\u001b[0;32m    530\u001b[0m     \u001b[1;31m# as there is a reference to status from this from the traceback due to\u001b[0m\u001b[1;33m\u001b[0m\u001b[1;33m\u001b[0m\u001b[1;33m\u001b[0m\u001b[0m\n",
      "\u001b[1;31mResourceExhaustedError\u001b[0m: OOM when allocating tensor with shape[20,128,56,56] and type float on /job:localhost/replica:0/task:0/device:GPU:0 by allocator GPU_0_bfc\n\t [[{{node conv2d_15/convolution}}]]\nHint: If you want to see a list of allocated tensors when OOM happens, add report_tensor_allocations_upon_oom to RunOptions for current allocation info.\n\n\t [[{{node metrics_2/acc/Mean}}]]\nHint: If you want to see a list of allocated tensors when OOM happens, add report_tensor_allocations_upon_oom to RunOptions for current allocation info.\n"
     ]
    }
   ],
   "source": [
    "from keras.callbacks import ModelCheckpoint  \n",
    "\n",
    "### TODO: specify the number of epochs that you would like to use to train the model.\n",
    "\n",
    "epochs = 5\n",
    "\n",
    "### Do NOT modify the code below this line.\n",
    "\n",
    "checkpointer = ModelCheckpoint(filepath='saved_models/weights.best.from_scratch.hdf5', \n",
    "                               verbose=1, save_best_only=True)\n",
    "\n",
    "model.fit(train_tensors, train_targets, \n",
    "          validation_data=(valid_tensors, valid_targets),\n",
    "          epochs=epochs, batch_size=20, callbacks=[checkpointer], verbose=1)"
   ]
  },
  {
   "cell_type": "markdown",
   "metadata": {},
   "source": [
    "### Load the Model with the Best Validation Loss"
   ]
  },
  {
   "cell_type": "code",
   "execution_count": 26,
   "metadata": {},
   "outputs": [],
   "source": [
    "model.load_weights('saved_models/weights.best.from_scratch.hdf5')"
   ]
  },
  {
   "cell_type": "markdown",
   "metadata": {},
   "source": [
    "### Test the Model\n",
    "\n",
    "Try out your model on the test dataset of dog images.  Ensure that your test accuracy is greater than 1%."
   ]
  },
  {
   "cell_type": "code",
   "execution_count": 27,
   "metadata": {},
   "outputs": [
    {
     "name": "stdout",
     "output_type": "stream",
     "text": [
      "Test accuracy: 1.0766%\n"
     ]
    }
   ],
   "source": [
    "# get index of predicted dog breed for each image in test set\n",
    "dog_breed_predictions = [np.argmax(model.predict(np.expand_dims(tensor, axis=0))) for tensor in test_tensors]\n",
    "\n",
    "# report test accuracy\n",
    "test_accuracy = 100*np.sum(np.array(dog_breed_predictions)==np.argmax(test_targets, axis=1))/len(dog_breed_predictions)\n",
    "print('Test accuracy: %.4f%%' % test_accuracy)"
   ]
  },
  {
   "cell_type": "markdown",
   "metadata": {},
   "source": [
    "---\n",
    "<a id='step4'></a>\n",
    "## Step 4: Use a CNN to Classify Dog Breeds\n",
    "\n",
    "To reduce training time without sacrificing accuracy, we show you how to train a CNN using transfer learning.  In the following step, you will get a chance to use transfer learning to train your own CNN.\n",
    "\n",
    "### Obtain Bottleneck Features"
   ]
  },
  {
   "cell_type": "code",
   "execution_count": 25,
   "metadata": {},
   "outputs": [],
   "source": [
    "bottleneck_features = np.load('bottleneck_features/DogVGG16Data.npz')\n",
    "train_VGG16 = bottleneck_features['train']\n",
    "valid_VGG16 = bottleneck_features['valid']\n",
    "test_VGG16 = bottleneck_features['test']"
   ]
  },
  {
   "cell_type": "markdown",
   "metadata": {},
   "source": [
    "### Model Architecture\n",
    "\n",
    "The model uses the the pre-trained VGG-16 model as a fixed feature extractor, where the last convolutional output of VGG-16 is fed as input to our model.  We only add a global average pooling layer and a fully connected layer, where the latter contains one node for each dog category and is equipped with a softmax."
   ]
  },
  {
   "cell_type": "code",
   "execution_count": 26,
   "metadata": {},
   "outputs": [
    {
     "name": "stdout",
     "output_type": "stream",
     "text": [
      "Model: \"sequential_2\"\n",
      "_________________________________________________________________\n",
      "Layer (type)                 Output Shape              Param #   \n",
      "=================================================================\n",
      "global_average_pooling2d_1 ( (None, 512)               0         \n",
      "_________________________________________________________________\n",
      "dense_3 (Dense)              (None, 133)               68229     \n",
      "=================================================================\n",
      "Total params: 68,229\n",
      "Trainable params: 68,229\n",
      "Non-trainable params: 0\n",
      "_________________________________________________________________\n"
     ]
    }
   ],
   "source": [
    "VGG16_model = Sequential()\n",
    "VGG16_model.add(GlobalAveragePooling2D(input_shape=train_VGG16.shape[1:]))\n",
    "VGG16_model.add(Dense(133, activation='softmax'))\n",
    "\n",
    "VGG16_model.summary()"
   ]
  },
  {
   "cell_type": "markdown",
   "metadata": {},
   "source": [
    "### Compile the Model"
   ]
  },
  {
   "cell_type": "code",
   "execution_count": 27,
   "metadata": {},
   "outputs": [],
   "source": [
    "VGG16_model.compile(loss='categorical_crossentropy', optimizer='rmsprop', metrics=['accuracy'])"
   ]
  },
  {
   "cell_type": "markdown",
   "metadata": {},
   "source": [
    "### Train the Model"
   ]
  },
  {
   "cell_type": "code",
   "execution_count": 28,
   "metadata": {
    "scrolled": false
   },
   "outputs": [
    {
     "name": "stdout",
     "output_type": "stream",
     "text": [
      "Train on 6680 samples, validate on 835 samples\n",
      "Epoch 1/20\n",
      "6680/6680 [==============================] - ETA: 4:18 - loss: 14.2458 - acc: 0.0000e+ - ETA: 22s - loss: 14.5927 - acc: 0.0167     - ETA: 10s - loss: 14.4338 - acc: 0.020 - ETA: 7s - loss: 14.3063 - acc: 0.024 - ETA: 6s - loss: 14.0741 - acc: 0.02 - ETA: 4s - loss: 14.0692 - acc: 0.02 - ETA: 3s - loss: 13.9012 - acc: 0.02 - ETA: 3s - loss: 13.7251 - acc: 0.03 - ETA: 2s - loss: 13.6066 - acc: 0.03 - ETA: 2s - loss: 13.5376 - acc: 0.04 - ETA: 2s - loss: 13.4256 - acc: 0.04 - ETA: 1s - loss: 13.3040 - acc: 0.05 - ETA: 1s - loss: 13.2146 - acc: 0.05 - ETA: 1s - loss: 13.1475 - acc: 0.05 - ETA: 1s - loss: 13.0460 - acc: 0.06 - ETA: 1s - loss: 12.9242 - acc: 0.06 - ETA: 1s - loss: 12.8229 - acc: 0.07 - ETA: 0s - loss: 12.6749 - acc: 0.08 - ETA: 0s - loss: 12.5809 - acc: 0.08 - ETA: 0s - loss: 12.5332 - acc: 0.08 - ETA: 0s - loss: 12.4843 - acc: 0.09 - ETA: 0s - loss: 12.4042 - acc: 0.09 - ETA: 0s - loss: 12.3293 - acc: 0.09 - ETA: 0s - loss: 12.2560 - acc: 0.10 - ETA: 0s - loss: 12.1578 - acc: 0.10 - ETA: 0s - loss: 12.0932 - acc: 0.11 - ETA: 0s - loss: 11.9994 - acc: 0.11 - ETA: 0s - loss: 11.9120 - acc: 0.12 - 2s 366us/step - loss: 11.8571 - acc: 0.1268 - val_loss: 9.9766 - val_acc: 0.2551\n",
      "\n",
      "Epoch 00001: val_loss improved from inf to 9.97655, saving model to saved_models/weights.best.VGG16.hdf5\n",
      "Epoch 2/20\n",
      "6680/6680 [==============================] - ETA: 1s - loss: 8.5646 - acc: 0.400 - ETA: 1s - loss: 9.4402 - acc: 0.310 - ETA: 1s - loss: 9.6249 - acc: 0.283 - ETA: 1s - loss: 9.5496 - acc: 0.285 - ETA: 1s - loss: 9.6164 - acc: 0.287 - ETA: 1s - loss: 9.7374 - acc: 0.281 - ETA: 1s - loss: 9.6853 - acc: 0.284 - ETA: 1s - loss: 9.6653 - acc: 0.286 - ETA: 1s - loss: 9.6672 - acc: 0.289 - ETA: 0s - loss: 9.7626 - acc: 0.285 - ETA: 0s - loss: 9.7641 - acc: 0.288 - ETA: 0s - loss: 9.7704 - acc: 0.286 - ETA: 0s - loss: 9.7788 - acc: 0.288 - ETA: 0s - loss: 9.7335 - acc: 0.293 - ETA: 0s - loss: 9.6809 - acc: 0.296 - ETA: 0s - loss: 9.6941 - acc: 0.295 - ETA: 0s - loss: 9.6177 - acc: 0.299 - ETA: 0s - loss: 9.6160 - acc: 0.299 - ETA: 0s - loss: 9.5662 - acc: 0.303 - ETA: 0s - loss: 9.5542 - acc: 0.303 - ETA: 0s - loss: 9.5138 - acc: 0.306 - ETA: 0s - loss: 9.4656 - acc: 0.310 - ETA: 0s - loss: 9.4571 - acc: 0.310 - ETA: 0s - loss: 9.4700 - acc: 0.310 - ETA: 0s - loss: 9.4756 - acc: 0.309 - ETA: 0s - loss: 9.4511 - acc: 0.310 - ETA: 0s - loss: 9.4622 - acc: 0.311 - ETA: 0s - loss: 9.4738 - acc: 0.311 - 2s 239us/step - loss: 9.4674 - acc: 0.3123 - val_loss: 9.2918 - val_acc: 0.3210\n",
      "\n",
      "Epoch 00002: val_loss improved from 9.97655 to 9.29176, saving model to saved_models/weights.best.VGG16.hdf5\n",
      "Epoch 3/20\n",
      "6680/6680 [==============================] - ETA: 1s - loss: 8.8508 - acc: 0.350 - ETA: 1s - loss: 9.2071 - acc: 0.364 - ETA: 1s - loss: 9.1531 - acc: 0.357 - ETA: 1s - loss: 8.7261 - acc: 0.384 - ETA: 1s - loss: 8.8579 - acc: 0.382 - ETA: 1s - loss: 9.0006 - acc: 0.374 - ETA: 1s - loss: 8.9623 - acc: 0.375 - ETA: 1s - loss: 8.8782 - acc: 0.379 - ETA: 0s - loss: 8.8079 - acc: 0.380 - ETA: 0s - loss: 8.9099 - acc: 0.372 - ETA: 0s - loss: 8.9591 - acc: 0.369 - ETA: 0s - loss: 8.9523 - acc: 0.366 - ETA: 0s - loss: 8.9863 - acc: 0.366 - ETA: 0s - loss: 9.0185 - acc: 0.365 - ETA: 0s - loss: 8.9734 - acc: 0.369 - ETA: 0s - loss: 8.9539 - acc: 0.370 - ETA: 0s - loss: 8.9437 - acc: 0.372 - ETA: 0s - loss: 8.9597 - acc: 0.372 - ETA: 0s - loss: 8.9838 - acc: 0.371 - ETA: 0s - loss: 8.9868 - acc: 0.371 - ETA: 0s - loss: 8.9690 - acc: 0.372 - ETA: 0s - loss: 8.9639 - acc: 0.372 - ETA: 0s - loss: 8.9361 - acc: 0.374 - ETA: 0s - loss: 8.9326 - acc: 0.374 - ETA: 0s - loss: 8.9018 - acc: 0.377 - ETA: 0s - loss: 8.9051 - acc: 0.376 - ETA: 0s - loss: 8.8993 - acc: 0.377 - ETA: 0s - loss: 8.8782 - acc: 0.378 - 2s 236us/step - loss: 8.8647 - acc: 0.3789 - val_loss: 8.8757 - val_acc: 0.3701\n",
      "\n",
      "Epoch 00003: val_loss improved from 9.29176 to 8.87573, saving model to saved_models/weights.best.VGG16.hdf5\n",
      "Epoch 4/20\n",
      "6680/6680 [==============================] - ETA: 1s - loss: 9.8471 - acc: 0.350 - ETA: 1s - loss: 8.9462 - acc: 0.403 - ETA: 1s - loss: 8.6612 - acc: 0.423 - ETA: 1s - loss: 8.6509 - acc: 0.418 - ETA: 1s - loss: 8.8670 - acc: 0.404 - ETA: 1s - loss: 8.9336 - acc: 0.401 - ETA: 1s - loss: 8.8791 - acc: 0.404 - ETA: 1s - loss: 8.7673 - acc: 0.411 - ETA: 0s - loss: 8.7387 - acc: 0.414 - ETA: 0s - loss: 8.7322 - acc: 0.415 - ETA: 0s - loss: 8.6568 - acc: 0.418 - ETA: 0s - loss: 8.6131 - acc: 0.420 - ETA: 0s - loss: 8.5506 - acc: 0.425 - ETA: 0s - loss: 8.5580 - acc: 0.424 - ETA: 0s - loss: 8.5792 - acc: 0.420 - ETA: 0s - loss: 8.6121 - acc: 0.419 - ETA: 0s - loss: 8.5669 - acc: 0.423 - ETA: 0s - loss: 8.4994 - acc: 0.425 - ETA: 0s - loss: 8.5011 - acc: 0.425 - ETA: 0s - loss: 8.4935 - acc: 0.426 - ETA: 0s - loss: 8.5159 - acc: 0.425 - ETA: 0s - loss: 8.5487 - acc: 0.423 - ETA: 0s - loss: 8.5812 - acc: 0.422 - ETA: 0s - loss: 8.5273 - acc: 0.425 - ETA: 0s - loss: 8.5389 - acc: 0.424 - ETA: 0s - loss: 8.5369 - acc: 0.423 - ETA: 0s - loss: 8.5671 - acc: 0.421 - ETA: 0s - loss: 8.5904 - acc: 0.419 - ETA: 0s - loss: 8.6130 - acc: 0.417 - 2s 244us/step - loss: 8.6104 - acc: 0.4171 - val_loss: 8.8190 - val_acc: 0.3796\n",
      "\n",
      "Epoch 00004: val_loss improved from 8.87573 to 8.81901, saving model to saved_models/weights.best.VGG16.hdf5\n",
      "Epoch 5/20\n",
      "6680/6680 [==============================] - ETA: 1s - loss: 7.4054 - acc: 0.500 - ETA: 1s - loss: 9.1813 - acc: 0.415 - ETA: 1s - loss: 8.6689 - acc: 0.436 - ETA: 1s - loss: 8.5888 - acc: 0.437 - ETA: 1s - loss: 8.4146 - acc: 0.444 - ETA: 1s - loss: 8.4406 - acc: 0.440 - ETA: 1s - loss: 8.3949 - acc: 0.441 - ETA: 1s - loss: 8.1822 - acc: 0.455 - ETA: 0s - loss: 8.2243 - acc: 0.451 - ETA: 0s - loss: 8.2799 - acc: 0.449 - ETA: 0s - loss: 8.3241 - acc: 0.448 - ETA: 0s - loss: 8.4100 - acc: 0.443 - ETA: 0s - loss: 8.3431 - acc: 0.446 - ETA: 0s - loss: 8.3742 - acc: 0.443 - ETA: 0s - loss: 8.4227 - acc: 0.441 - ETA: 0s - loss: 8.3971 - acc: 0.442 - ETA: 0s - loss: 8.3750 - acc: 0.445 - ETA: 0s - loss: 8.3465 - acc: 0.447 - ETA: 0s - loss: 8.3661 - acc: 0.445 - ETA: 0s - loss: 8.3573 - acc: 0.445 - ETA: 0s - loss: 8.3902 - acc: 0.444 - ETA: 0s - loss: 8.3949 - acc: 0.443 - ETA: 0s - loss: 8.3816 - acc: 0.443 - ETA: 0s - loss: 8.3720 - acc: 0.444 - ETA: 0s - loss: 8.3795 - acc: 0.444 - ETA: 0s - loss: 8.3877 - acc: 0.443 - ETA: 0s - loss: 8.3807 - acc: 0.444 - 2s 227us/step - loss: 8.3816 - acc: 0.4437 - val_loss: 8.7238 - val_acc: 0.3808\n",
      "\n",
      "Epoch 00005: val_loss improved from 8.81901 to 8.72379, saving model to saved_models/weights.best.VGG16.hdf5\n",
      "Epoch 6/20\n",
      "6680/6680 [==============================] - ETA: 1s - loss: 5.6445 - acc: 0.650 - ETA: 1s - loss: 8.0755 - acc: 0.476 - ETA: 1s - loss: 8.4098 - acc: 0.458 - ETA: 1s - loss: 8.3656 - acc: 0.457 - ETA: 1s - loss: 8.4633 - acc: 0.452 - ETA: 1s - loss: 8.4534 - acc: 0.451 - ETA: 1s - loss: 8.4375 - acc: 0.452 - ETA: 1s - loss: 8.3977 - acc: 0.454 - ETA: 0s - loss: 8.3128 - acc: 0.458 - ETA: 0s - loss: 8.3725 - acc: 0.454 - ETA: 0s - loss: 8.3219 - acc: 0.455 - ETA: 0s - loss: 8.3010 - acc: 0.457 - ETA: 0s - loss: 8.2831 - acc: 0.458 - ETA: 0s - loss: 8.2734 - acc: 0.459 - ETA: 0s - loss: 8.2275 - acc: 0.463 - ETA: 0s - loss: 8.2848 - acc: 0.460 - ETA: 0s - loss: 8.3078 - acc: 0.459 - ETA: 0s - loss: 8.3052 - acc: 0.459 - ETA: 0s - loss: 8.3060 - acc: 0.459 - ETA: 0s - loss: 8.3121 - acc: 0.459 - ETA: 0s - loss: 8.3044 - acc: 0.460 - ETA: 0s - loss: 8.3480 - acc: 0.456 - ETA: 0s - loss: 8.3386 - acc: 0.457 - ETA: 0s - loss: 8.3355 - acc: 0.457 - ETA: 0s - loss: 8.3275 - acc: 0.457 - ETA: 0s - loss: 8.2939 - acc: 0.459 - ETA: 0s - loss: 8.3076 - acc: 0.457 - ETA: 0s - loss: 8.2926 - acc: 0.457 - 2s 234us/step - loss: 8.2919 - acc: 0.4579 - val_loss: 8.6187 - val_acc: 0.3988\n",
      "\n",
      "Epoch 00006: val_loss improved from 8.72379 to 8.61874, saving model to saved_models/weights.best.VGG16.hdf5\n",
      "Epoch 7/20\n",
      "6680/6680 [==============================] - ETA: 1s - loss: 5.6461 - acc: 0.650 - ETA: 1s - loss: 8.5793 - acc: 0.461 - ETA: 1s - loss: 8.0183 - acc: 0.496 - ETA: 1s - loss: 7.8861 - acc: 0.500 - ETA: 1s - loss: 7.9334 - acc: 0.496 - ETA: 1s - loss: 7.9514 - acc: 0.493 - ETA: 1s - loss: 7.9707 - acc: 0.492 - ETA: 1s - loss: 7.9909 - acc: 0.490 - ETA: 1s - loss: 8.1409 - acc: 0.479 - ETA: 1s - loss: 8.0631 - acc: 0.484 - ETA: 0s - loss: 8.0546 - acc: 0.484 - ETA: 0s - loss: 8.1029 - acc: 0.481 - ETA: 0s - loss: 8.1604 - acc: 0.477 - ETA: 0s - loss: 8.1726 - acc: 0.475 - ETA: 0s - loss: 8.1260 - acc: 0.477 - ETA: 0s - loss: 8.1565 - acc: 0.475 - ETA: 0s - loss: 8.1511 - acc: 0.474 - ETA: 0s - loss: 8.1779 - acc: 0.471 - ETA: 0s - loss: 8.1801 - acc: 0.472 - ETA: 0s - loss: 8.2005 - acc: 0.471 - ETA: 0s - loss: 8.2104 - acc: 0.470 - ETA: 0s - loss: 8.1780 - acc: 0.472 - ETA: 0s - loss: 8.1356 - acc: 0.474 - ETA: 0s - loss: 8.1437 - acc: 0.473 - ETA: 0s - loss: 8.1341 - acc: 0.473 - ETA: 0s - loss: 8.1116 - acc: 0.474 - ETA: 0s - loss: 8.1363 - acc: 0.473 - ETA: 0s - loss: 8.1459 - acc: 0.472 - 2s 232us/step - loss: 8.1459 - acc: 0.4723 - val_loss: 8.5057 - val_acc: 0.4024\n",
      "\n",
      "Epoch 00007: val_loss improved from 8.61874 to 8.50572, saving model to saved_models/weights.best.VGG16.hdf5\n",
      "Epoch 8/20\n",
      "6680/6680 [==============================] - ETA: 1s - loss: 7.2556 - acc: 0.550 - ETA: 1s - loss: 7.7220 - acc: 0.504 - ETA: 1s - loss: 7.7669 - acc: 0.500 - ETA: 1s - loss: 7.8882 - acc: 0.489 - ETA: 1s - loss: 7.9310 - acc: 0.489 - ETA: 1s - loss: 7.9751 - acc: 0.488 - ETA: 1s - loss: 7.8017 - acc: 0.498 - ETA: 0s - loss: 7.7695 - acc: 0.499 - ETA: 0s - loss: 7.8646 - acc: 0.494 - ETA: 0s - loss: 7.9103 - acc: 0.491 - ETA: 0s - loss: 7.9638 - acc: 0.487 - ETA: 0s - loss: 7.9579 - acc: 0.486 - ETA: 0s - loss: 7.9660 - acc: 0.486 - ETA: 0s - loss: 7.9494 - acc: 0.487 - ETA: 0s - loss: 7.9500 - acc: 0.488 - ETA: 0s - loss: 7.9909 - acc: 0.485 - ETA: 0s - loss: 8.0351 - acc: 0.482 - ETA: 0s - loss: 8.0418 - acc: 0.481 - ETA: 0s - loss: 8.0647 - acc: 0.479 - ETA: 0s - loss: 8.0326 - acc: 0.482 - ETA: 0s - loss: 8.0290 - acc: 0.482 - ETA: 0s - loss: 8.0543 - acc: 0.481 - ETA: 0s - loss: 8.0515 - acc: 0.481 - ETA: 0s - loss: 8.0612 - acc: 0.480 - ETA: 0s - loss: 8.0327 - acc: 0.482 - ETA: 0s - loss: 8.0482 - acc: 0.480 - ETA: 0s - loss: 8.0406 - acc: 0.480 - 1s 223us/step - loss: 8.0421 - acc: 0.4796 - val_loss: 8.5240 - val_acc: 0.3892\n",
      "\n",
      "Epoch 00008: val_loss did not improve from 8.50572\n",
      "Epoch 9/20\n",
      "6680/6680 [==============================] - ETA: 1s - loss: 6.7786 - acc: 0.500 - ETA: 1s - loss: 8.3336 - acc: 0.450 - ETA: 1s - loss: 8.0110 - acc: 0.482 - ETA: 1s - loss: 8.3725 - acc: 0.461 - ETA: 1s - loss: 8.5278 - acc: 0.452 - ETA: 1s - loss: 8.4339 - acc: 0.460 - ETA: 1s - loss: 8.3321 - acc: 0.463 - ETA: 1s - loss: 8.4140 - acc: 0.458 - ETA: 0s - loss: 8.2707 - acc: 0.468 - ETA: 1s - loss: 8.2299 - acc: 0.471 - ETA: 1s - loss: 8.1631 - acc: 0.476 - ETA: 0s - loss: 8.0851 - acc: 0.480 - ETA: 0s - loss: 8.0683 - acc: 0.481 - ETA: 0s - loss: 8.0233 - acc: 0.482 - ETA: 0s - loss: 8.0218 - acc: 0.483 - ETA: 0s - loss: 8.0114 - acc: 0.483 - ETA: 0s - loss: 7.9715 - acc: 0.484 - ETA: 0s - loss: 7.9918 - acc: 0.483 - ETA: 0s - loss: 8.0102 - acc: 0.482 - ETA: 0s - loss: 7.9858 - acc: 0.483 - ETA: 0s - loss: 7.9653 - acc: 0.484 - ETA: 0s - loss: 7.9384 - acc: 0.486 - ETA: 0s - loss: 7.9256 - acc: 0.487 - ETA: 0s - loss: 7.9449 - acc: 0.486 - ETA: 0s - loss: 7.9242 - acc: 0.487 - ETA: 0s - loss: 7.9377 - acc: 0.486 - ETA: 0s - loss: 7.9512 - acc: 0.485 - ETA: 0s - loss: 7.9718 - acc: 0.484 - 2s 231us/step - loss: 7.9776 - acc: 0.4838 - val_loss: 8.4213 - val_acc: 0.4072\n",
      "\n",
      "Epoch 00009: val_loss improved from 8.50572 to 8.42128, saving model to saved_models/weights.best.VGG16.hdf5\n",
      "Epoch 10/20\n",
      "6680/6680 [==============================] - ETA: 1s - loss: 6.6522 - acc: 0.550 - ETA: 1s - loss: 8.3232 - acc: 0.460 - ETA: 1s - loss: 8.2671 - acc: 0.471 - ETA: 1s - loss: 8.1172 - acc: 0.483 - ETA: 1s - loss: 8.0125 - acc: 0.490 - ETA: 1s - loss: 8.0951 - acc: 0.484 - ETA: 1s - loss: 8.0599 - acc: 0.487 - ETA: 1s - loss: 8.0393 - acc: 0.489 - ETA: 0s - loss: 8.0662 - acc: 0.488 - ETA: 0s - loss: 8.0274 - acc: 0.489 - ETA: 0s - loss: 7.9530 - acc: 0.492 - ETA: 0s - loss: 7.9444 - acc: 0.492 - ETA: 0s - loss: 7.9556 - acc: 0.492 - ETA: 0s - loss: 8.0050 - acc: 0.490 - ETA: 0s - loss: 8.0103 - acc: 0.490 - ETA: 0s - loss: 7.9998 - acc: 0.490 - ETA: 0s - loss: 7.9609 - acc: 0.492 - ETA: 0s - loss: 7.9303 - acc: 0.494 - ETA: 0s - loss: 7.8718 - acc: 0.497 - ETA: 0s - loss: 7.8732 - acc: 0.496 - ETA: 0s - loss: 7.8559 - acc: 0.498 - ETA: 0s - loss: 7.8573 - acc: 0.497 - ETA: 0s - loss: 7.8788 - acc: 0.496 - ETA: 0s - loss: 7.8486 - acc: 0.498 - ETA: 0s - loss: 7.8753 - acc: 0.497 - ETA: 0s - loss: 7.8890 - acc: 0.496 - ETA: 0s - loss: 7.9006 - acc: 0.496 - 2s 226us/step - loss: 7.9042 - acc: 0.4960 - val_loss: 8.3415 - val_acc: 0.4168\n",
      "\n",
      "Epoch 00010: val_loss improved from 8.42128 to 8.34152, saving model to saved_models/weights.best.VGG16.hdf5\n",
      "Epoch 11/20\n",
      "6680/6680 [==============================] - ETA: 1s - loss: 8.0974 - acc: 0.500 - ETA: 1s - loss: 7.6731 - acc: 0.523 - ETA: 1s - loss: 7.7059 - acc: 0.517 - ETA: 1s - loss: 7.5447 - acc: 0.521 - ETA: 1s - loss: 7.6141 - acc: 0.519 - ETA: 1s - loss: 7.8122 - acc: 0.508 - ETA: 1s - loss: 7.7896 - acc: 0.510 - ETA: 1s - loss: 7.8191 - acc: 0.508 - ETA: 0s - loss: 7.8267 - acc: 0.508 - ETA: 0s - loss: 7.7898 - acc: 0.509 - ETA: 0s - loss: 7.8085 - acc: 0.508 - ETA: 0s - loss: 7.7873 - acc: 0.508 - ETA: 0s - loss: 7.7579 - acc: 0.509 - ETA: 0s - loss: 7.7525 - acc: 0.509 - ETA: 0s - loss: 7.7434 - acc: 0.509 - ETA: 0s - loss: 7.7654 - acc: 0.508 - ETA: 0s - loss: 7.8078 - acc: 0.505 - ETA: 0s - loss: 7.8338 - acc: 0.504 - ETA: 0s - loss: 7.8491 - acc: 0.502 - ETA: 0s - loss: 7.8408 - acc: 0.502 - ETA: 0s - loss: 7.8590 - acc: 0.500 - ETA: 0s - loss: 7.8557 - acc: 0.501 - ETA: 0s - loss: 7.8555 - acc: 0.501 - ETA: 0s - loss: 7.8235 - acc: 0.502 - ETA: 0s - loss: 7.8467 - acc: 0.501 - ETA: 0s - loss: 7.8548 - acc: 0.500 - ETA: 0s - loss: 7.8125 - acc: 0.502 - 2s 225us/step - loss: 7.8191 - acc: 0.5025 - val_loss: 8.2515 - val_acc: 0.4144\n",
      "\n",
      "Epoch 00011: val_loss improved from 8.34152 to 8.25151, saving model to saved_models/weights.best.VGG16.hdf5\n",
      "Epoch 12/20\n",
      "6680/6680 [==============================] - ETA: 1s - loss: 6.4487 - acc: 0.600 - ETA: 1s - loss: 8.0764 - acc: 0.496 - ETA: 1s - loss: 7.7146 - acc: 0.509 - ETA: 1s - loss: 7.3206 - acc: 0.536 - ETA: 1s - loss: 7.4963 - acc: 0.525 - ETA: 1s - loss: 7.6358 - acc: 0.514 - ETA: 1s - loss: 7.6059 - acc: 0.516 - ETA: 1s - loss: 7.6958 - acc: 0.509 - ETA: 1s - loss: 7.6943 - acc: 0.509 - ETA: 1s - loss: 7.7142 - acc: 0.509 - ETA: 0s - loss: 7.6183 - acc: 0.515 - ETA: 0s - loss: 7.5407 - acc: 0.518 - ETA: 0s - loss: 7.5259 - acc: 0.519 - ETA: 0s - loss: 7.5043 - acc: 0.520 - ETA: 0s - loss: 7.5044 - acc: 0.520 - ETA: 0s - loss: 7.5714 - acc: 0.516 - ETA: 0s - loss: 7.5607 - acc: 0.517 - ETA: 0s - loss: 7.5389 - acc: 0.519 - ETA: 0s - loss: 7.5320 - acc: 0.518 - ETA: 0s - loss: 7.5661 - acc: 0.515 - ETA: 0s - loss: 7.5687 - acc: 0.513 - ETA: 0s - loss: 7.5843 - acc: 0.512 - ETA: 0s - loss: 7.5927 - acc: 0.512 - ETA: 0s - loss: 7.6416 - acc: 0.509 - ETA: 0s - loss: 7.6332 - acc: 0.510 - ETA: 0s - loss: 7.6277 - acc: 0.509 - ETA: 0s - loss: 7.6251 - acc: 0.509 - ETA: 0s - loss: 7.6207 - acc: 0.510 - 2s 236us/step - loss: 7.6273 - acc: 0.5102 - val_loss: 8.0718 - val_acc: 0.4287\n",
      "\n",
      "Epoch 00012: val_loss improved from 8.25151 to 8.07185, saving model to saved_models/weights.best.VGG16.hdf5\n",
      "Epoch 13/20\n"
     ]
    },
    {
     "name": "stdout",
     "output_type": "stream",
     "text": [
      "6680/6680 [==============================] - ETA: 1s - loss: 8.8650 - acc: 0.450 - ETA: 1s - loss: 7.8991 - acc: 0.503 - ETA: 1s - loss: 8.3731 - acc: 0.472 - ETA: 1s - loss: 8.1608 - acc: 0.483 - ETA: 1s - loss: 8.0420 - acc: 0.492 - ETA: 1s - loss: 8.0204 - acc: 0.491 - ETA: 1s - loss: 7.8358 - acc: 0.500 - ETA: 1s - loss: 7.7427 - acc: 0.506 - ETA: 0s - loss: 7.7145 - acc: 0.506 - ETA: 0s - loss: 7.7165 - acc: 0.507 - ETA: 0s - loss: 7.7278 - acc: 0.507 - ETA: 0s - loss: 7.6778 - acc: 0.510 - ETA: 0s - loss: 7.6240 - acc: 0.514 - ETA: 0s - loss: 7.5784 - acc: 0.517 - ETA: 0s - loss: 7.5589 - acc: 0.518 - ETA: 0s - loss: 7.5223 - acc: 0.519 - ETA: 0s - loss: 7.5114 - acc: 0.520 - ETA: 0s - loss: 7.5138 - acc: 0.519 - ETA: 0s - loss: 7.5373 - acc: 0.517 - ETA: 0s - loss: 7.5384 - acc: 0.517 - ETA: 0s - loss: 7.5686 - acc: 0.516 - ETA: 0s - loss: 7.5742 - acc: 0.515 - ETA: 0s - loss: 7.5050 - acc: 0.519 - ETA: 0s - loss: 7.4682 - acc: 0.522 - ETA: 0s - loss: 7.4625 - acc: 0.523 - ETA: 0s - loss: 7.4673 - acc: 0.523 - ETA: 0s - loss: 7.4900 - acc: 0.522 - 2s 230us/step - loss: 7.4849 - acc: 0.5223 - val_loss: 8.0147 - val_acc: 0.4443\n",
      "\n",
      "Epoch 00013: val_loss improved from 8.07185 to 8.01471, saving model to saved_models/weights.best.VGG16.hdf5\n",
      "Epoch 14/20\n",
      "6680/6680 [==============================] - ETA: 1s - loss: 4.8763 - acc: 0.700 - ETA: 1s - loss: 7.3091 - acc: 0.539 - ETA: 1s - loss: 7.3180 - acc: 0.538 - ETA: 1s - loss: 7.5444 - acc: 0.525 - ETA: 1s - loss: 7.5841 - acc: 0.523 - ETA: 1s - loss: 7.7571 - acc: 0.512 - ETA: 1s - loss: 7.8498 - acc: 0.506 - ETA: 1s - loss: 7.7442 - acc: 0.513 - ETA: 1s - loss: 7.6943 - acc: 0.516 - ETA: 1s - loss: 7.6340 - acc: 0.520 - ETA: 1s - loss: 7.6722 - acc: 0.518 - ETA: 1s - loss: 7.6236 - acc: 0.521 - ETA: 0s - loss: 7.5679 - acc: 0.524 - ETA: 0s - loss: 7.5358 - acc: 0.525 - ETA: 0s - loss: 7.4882 - acc: 0.528 - ETA: 0s - loss: 7.4662 - acc: 0.529 - ETA: 0s - loss: 7.4830 - acc: 0.527 - ETA: 0s - loss: 7.4916 - acc: 0.526 - ETA: 0s - loss: 7.5188 - acc: 0.524 - ETA: 0s - loss: 7.4876 - acc: 0.526 - ETA: 0s - loss: 7.5135 - acc: 0.525 - ETA: 0s - loss: 7.5300 - acc: 0.524 - ETA: 0s - loss: 7.5132 - acc: 0.525 - ETA: 0s - loss: 7.4850 - acc: 0.527 - ETA: 0s - loss: 7.4851 - acc: 0.526 - ETA: 0s - loss: 7.4642 - acc: 0.527 - ETA: 0s - loss: 7.4664 - acc: 0.527 - ETA: 0s - loss: 7.4549 - acc: 0.528 - ETA: 0s - loss: 7.4558 - acc: 0.528 - 2s 249us/step - loss: 7.4559 - acc: 0.5280 - val_loss: 7.9760 - val_acc: 0.4431\n",
      "\n",
      "Epoch 00014: val_loss improved from 8.01471 to 7.97603, saving model to saved_models/weights.best.VGG16.hdf5\n",
      "Epoch 15/20\n",
      "6680/6680 [==============================] - ETA: 1s - loss: 4.8382 - acc: 0.700 - ETA: 1s - loss: 7.0693 - acc: 0.561 - ETA: 1s - loss: 6.8862 - acc: 0.572 - ETA: 1s - loss: 7.0409 - acc: 0.560 - ETA: 1s - loss: 7.2581 - acc: 0.548 - ETA: 1s - loss: 7.3173 - acc: 0.541 - ETA: 1s - loss: 7.3871 - acc: 0.536 - ETA: 1s - loss: 7.3353 - acc: 0.538 - ETA: 0s - loss: 7.3990 - acc: 0.535 - ETA: 0s - loss: 7.3084 - acc: 0.540 - ETA: 0s - loss: 7.2612 - acc: 0.542 - ETA: 0s - loss: 7.2631 - acc: 0.542 - ETA: 0s - loss: 7.3052 - acc: 0.540 - ETA: 0s - loss: 7.3011 - acc: 0.540 - ETA: 0s - loss: 7.2616 - acc: 0.543 - ETA: 0s - loss: 7.3497 - acc: 0.538 - ETA: 0s - loss: 7.3473 - acc: 0.538 - ETA: 0s - loss: 7.4159 - acc: 0.533 - ETA: 0s - loss: 7.4147 - acc: 0.533 - ETA: 0s - loss: 7.3987 - acc: 0.534 - ETA: 0s - loss: 7.3956 - acc: 0.534 - ETA: 0s - loss: 7.3953 - acc: 0.534 - ETA: 0s - loss: 7.4082 - acc: 0.533 - ETA: 0s - loss: 7.3767 - acc: 0.534 - ETA: 0s - loss: 7.3774 - acc: 0.534 - ETA: 0s - loss: 7.3953 - acc: 0.533 - ETA: 0s - loss: 7.4044 - acc: 0.532 - ETA: 0s - loss: 7.4324 - acc: 0.530 - 2s 230us/step - loss: 7.4367 - acc: 0.5307 - val_loss: 8.0552 - val_acc: 0.4455\n",
      "\n",
      "Epoch 00015: val_loss did not improve from 7.97603\n",
      "Epoch 16/20\n",
      "6680/6680 [==============================] - ETA: 1s - loss: 8.8691 - acc: 0.450 - ETA: 1s - loss: 7.6458 - acc: 0.517 - ETA: 1s - loss: 7.3563 - acc: 0.537 - ETA: 1s - loss: 7.4053 - acc: 0.535 - ETA: 1s - loss: 7.3757 - acc: 0.537 - ETA: 1s - loss: 7.5014 - acc: 0.530 - ETA: 1s - loss: 7.4211 - acc: 0.536 - ETA: 1s - loss: 7.3260 - acc: 0.541 - ETA: 0s - loss: 7.3423 - acc: 0.540 - ETA: 0s - loss: 7.3782 - acc: 0.537 - ETA: 0s - loss: 7.3428 - acc: 0.539 - ETA: 0s - loss: 7.3643 - acc: 0.537 - ETA: 0s - loss: 7.4611 - acc: 0.532 - ETA: 0s - loss: 7.3905 - acc: 0.536 - ETA: 0s - loss: 7.3804 - acc: 0.537 - ETA: 0s - loss: 7.3865 - acc: 0.536 - ETA: 0s - loss: 7.4209 - acc: 0.534 - ETA: 0s - loss: 7.4274 - acc: 0.534 - ETA: 0s - loss: 7.4256 - acc: 0.534 - ETA: 0s - loss: 7.4388 - acc: 0.533 - ETA: 0s - loss: 7.4348 - acc: 0.534 - ETA: 0s - loss: 7.4116 - acc: 0.535 - ETA: 0s - loss: 7.4118 - acc: 0.535 - ETA: 0s - loss: 7.4188 - acc: 0.534 - ETA: 0s - loss: 7.4375 - acc: 0.533 - ETA: 0s - loss: 7.4414 - acc: 0.533 - ETA: 0s - loss: 7.4409 - acc: 0.533 - ETA: 0s - loss: 7.4306 - acc: 0.533 - 2s 236us/step - loss: 7.4157 - acc: 0.5344 - val_loss: 8.0547 - val_acc: 0.4395\n",
      "\n",
      "Epoch 00016: val_loss did not improve from 7.97603\n",
      "Epoch 17/20\n",
      "6680/6680 [==============================] - ETA: 1s - loss: 7.2532 - acc: 0.550 - ETA: 1s - loss: 7.4867 - acc: 0.525 - ETA: 1s - loss: 7.4013 - acc: 0.533 - ETA: 1s - loss: 7.2506 - acc: 0.543 - ETA: 1s - loss: 7.3406 - acc: 0.537 - ETA: 1s - loss: 7.3311 - acc: 0.537 - ETA: 1s - loss: 7.3143 - acc: 0.539 - ETA: 1s - loss: 7.3163 - acc: 0.538 - ETA: 1s - loss: 7.3849 - acc: 0.531 - ETA: 1s - loss: 7.3475 - acc: 0.534 - ETA: 1s - loss: 7.3812 - acc: 0.533 - ETA: 0s - loss: 7.2385 - acc: 0.541 - ETA: 0s - loss: 7.2186 - acc: 0.542 - ETA: 0s - loss: 7.2229 - acc: 0.542 - ETA: 0s - loss: 7.1946 - acc: 0.544 - ETA: 0s - loss: 7.1901 - acc: 0.543 - ETA: 0s - loss: 7.2209 - acc: 0.541 - ETA: 0s - loss: 7.2137 - acc: 0.541 - ETA: 0s - loss: 7.2290 - acc: 0.541 - ETA: 0s - loss: 7.2878 - acc: 0.537 - ETA: 0s - loss: 7.3135 - acc: 0.536 - ETA: 0s - loss: 7.3317 - acc: 0.534 - ETA: 0s - loss: 7.3056 - acc: 0.536 - ETA: 0s - loss: 7.3205 - acc: 0.535 - ETA: 0s - loss: 7.3402 - acc: 0.534 - ETA: 0s - loss: 7.3707 - acc: 0.532 - ETA: 0s - loss: 7.3689 - acc: 0.532 - ETA: 0s - loss: 7.3297 - acc: 0.534 - ETA: 0s - loss: 7.3467 - acc: 0.533 - 2s 250us/step - loss: 7.3540 - acc: 0.5326 - val_loss: 8.0479 - val_acc: 0.4395\n",
      "\n",
      "Epoch 00017: val_loss did not improve from 7.97603\n",
      "Epoch 18/20\n",
      "6680/6680 [==============================] - ETA: 1s - loss: 4.8357 - acc: 0.700 - ETA: 1s - loss: 7.2551 - acc: 0.550 - ETA: 1s - loss: 7.7431 - acc: 0.518 - ETA: 1s - loss: 7.8391 - acc: 0.510 - ETA: 1s - loss: 7.8361 - acc: 0.511 - ETA: 1s - loss: 7.7515 - acc: 0.516 - ETA: 1s - loss: 7.7444 - acc: 0.515 - ETA: 1s - loss: 7.6562 - acc: 0.520 - ETA: 0s - loss: 7.7287 - acc: 0.515 - ETA: 0s - loss: 7.6996 - acc: 0.517 - ETA: 0s - loss: 7.7154 - acc: 0.516 - ETA: 0s - loss: 7.7519 - acc: 0.515 - ETA: 0s - loss: 7.6807 - acc: 0.519 - ETA: 0s - loss: 7.6632 - acc: 0.520 - ETA: 0s - loss: 7.6349 - acc: 0.522 - ETA: 0s - loss: 7.6528 - acc: 0.521 - ETA: 0s - loss: 7.5896 - acc: 0.525 - ETA: 0s - loss: 7.5589 - acc: 0.526 - ETA: 0s - loss: 7.5347 - acc: 0.528 - ETA: 0s - loss: 7.4913 - acc: 0.530 - ETA: 0s - loss: 7.4657 - acc: 0.531 - ETA: 0s - loss: 7.4566 - acc: 0.532 - ETA: 0s - loss: 7.4599 - acc: 0.531 - ETA: 0s - loss: 7.4456 - acc: 0.532 - ETA: 0s - loss: 7.4293 - acc: 0.533 - ETA: 0s - loss: 7.3752 - acc: 0.537 - ETA: 0s - loss: 7.3639 - acc: 0.537 - ETA: 0s - loss: 7.3344 - acc: 0.539 - 2s 234us/step - loss: 7.3099 - acc: 0.5407 - val_loss: 7.9077 - val_acc: 0.4491\n",
      "\n",
      "Epoch 00018: val_loss improved from 7.97603 to 7.90771, saving model to saved_models/weights.best.VGG16.hdf5\n",
      "Epoch 19/20\n",
      "6680/6680 [==============================] - ETA: 1s - loss: 7.4390 - acc: 0.500 - ETA: 1s - loss: 6.5000 - acc: 0.576 - ETA: 1s - loss: 6.5934 - acc: 0.576 - ETA: 1s - loss: 6.6688 - acc: 0.572 - ETA: 1s - loss: 6.5962 - acc: 0.575 - ETA: 1s - loss: 6.8319 - acc: 0.563 - ETA: 1s - loss: 7.0067 - acc: 0.553 - ETA: 1s - loss: 7.0434 - acc: 0.552 - ETA: 1s - loss: 7.1393 - acc: 0.545 - ETA: 1s - loss: 7.2709 - acc: 0.537 - ETA: 1s - loss: 7.2247 - acc: 0.540 - ETA: 0s - loss: 7.1604 - acc: 0.544 - ETA: 0s - loss: 7.0944 - acc: 0.549 - ETA: 0s - loss: 7.0799 - acc: 0.550 - ETA: 0s - loss: 7.0701 - acc: 0.551 - ETA: 0s - loss: 7.0169 - acc: 0.555 - ETA: 0s - loss: 7.0401 - acc: 0.554 - ETA: 0s - loss: 7.0868 - acc: 0.551 - ETA: 0s - loss: 7.1302 - acc: 0.548 - ETA: 0s - loss: 7.1464 - acc: 0.547 - ETA: 0s - loss: 7.1176 - acc: 0.549 - ETA: 0s - loss: 7.1164 - acc: 0.549 - ETA: 0s - loss: 7.1239 - acc: 0.549 - ETA: 0s - loss: 7.1394 - acc: 0.548 - ETA: 0s - loss: 7.1477 - acc: 0.548 - ETA: 0s - loss: 7.1661 - acc: 0.547 - ETA: 0s - loss: 7.1709 - acc: 0.546 - ETA: 0s - loss: 7.1896 - acc: 0.545 - ETA: 0s - loss: 7.1691 - acc: 0.547 - 2s 240us/step - loss: 7.1654 - acc: 0.5473 - val_loss: 7.7708 - val_acc: 0.4587\n",
      "\n",
      "Epoch 00019: val_loss improved from 7.90771 to 7.77076, saving model to saved_models/weights.best.VGG16.hdf5\n",
      "Epoch 20/20\n",
      "6680/6680 [==============================] - ETA: 1s - loss: 5.7815 - acc: 0.600 - ETA: 1s - loss: 7.6109 - acc: 0.525 - ETA: 1s - loss: 7.7675 - acc: 0.516 - ETA: 1s - loss: 7.5247 - acc: 0.530 - ETA: 1s - loss: 7.2159 - acc: 0.550 - ETA: 1s - loss: 7.1464 - acc: 0.554 - ETA: 1s - loss: 7.1644 - acc: 0.553 - ETA: 0s - loss: 6.9764 - acc: 0.564 - ETA: 0s - loss: 6.9187 - acc: 0.568 - ETA: 0s - loss: 6.9800 - acc: 0.564 - ETA: 0s - loss: 7.1075 - acc: 0.556 - ETA: 0s - loss: 7.1174 - acc: 0.555 - ETA: 0s - loss: 7.0921 - acc: 0.557 - ETA: 0s - loss: 7.0952 - acc: 0.556 - ETA: 0s - loss: 7.1485 - acc: 0.553 - ETA: 0s - loss: 7.1534 - acc: 0.552 - ETA: 0s - loss: 7.1641 - acc: 0.552 - ETA: 0s - loss: 7.1584 - acc: 0.552 - ETA: 0s - loss: 7.1307 - acc: 0.554 - ETA: 0s - loss: 7.1410 - acc: 0.553 - ETA: 0s - loss: 7.1712 - acc: 0.551 - ETA: 0s - loss: 7.1824 - acc: 0.551 - ETA: 0s - loss: 7.2107 - acc: 0.549 - ETA: 0s - loss: 7.2043 - acc: 0.549 - ETA: 0s - loss: 7.2095 - acc: 0.548 - ETA: 0s - loss: 7.1879 - acc: 0.550 - ETA: 0s - loss: 7.1730 - acc: 0.551 - ETA: 0s - loss: 7.1567 - acc: 0.552 - 2s 230us/step - loss: 7.1403 - acc: 0.5531 - val_loss: 7.8562 - val_acc: 0.4527\n",
      "\n",
      "Epoch 00020: val_loss did not improve from 7.77076\n"
     ]
    },
    {
     "data": {
      "text/plain": [
       "<keras.callbacks.History at 0x28c924aaf60>"
      ]
     },
     "execution_count": 28,
     "metadata": {},
     "output_type": "execute_result"
    }
   ],
   "source": [
    "checkpointer = ModelCheckpoint(filepath='saved_models/weights.best.VGG16.hdf5', \n",
    "                               verbose=1, save_best_only=True)\n",
    "\n",
    "VGG16_model.fit(train_VGG16, train_targets, \n",
    "          validation_data=(valid_VGG16, valid_targets),\n",
    "          epochs=20, batch_size=20, callbacks=[checkpointer], verbose=1)"
   ]
  },
  {
   "cell_type": "markdown",
   "metadata": {},
   "source": [
    "### Load the Model with the Best Validation Loss"
   ]
  },
  {
   "cell_type": "code",
   "execution_count": 25,
   "metadata": {},
   "outputs": [
    {
     "ename": "NameError",
     "evalue": "name 'VGG16_model' is not defined",
     "output_type": "error",
     "traceback": [
      "\u001b[1;31m---------------------------------------------------------------------------\u001b[0m",
      "\u001b[1;31mNameError\u001b[0m                                 Traceback (most recent call last)",
      "\u001b[1;32m<ipython-input-25-21eb06a67dbe>\u001b[0m in \u001b[0;36m<module>\u001b[1;34m\u001b[0m\n\u001b[1;32m----> 1\u001b[1;33m \u001b[0mVGG16_model\u001b[0m\u001b[1;33m.\u001b[0m\u001b[0mload_weights\u001b[0m\u001b[1;33m(\u001b[0m\u001b[1;34m'saved_models/weights.best.VGG16.hdf5'\u001b[0m\u001b[1;33m)\u001b[0m\u001b[1;33m\u001b[0m\u001b[1;33m\u001b[0m\u001b[0m\n\u001b[0m",
      "\u001b[1;31mNameError\u001b[0m: name 'VGG16_model' is not defined"
     ]
    }
   ],
   "source": [
    "VGG16_model.load_weights('saved_models/weights.best.VGG16.hdf5')"
   ]
  },
  {
   "cell_type": "markdown",
   "metadata": {},
   "source": [
    "### Test the Model\n",
    "\n",
    "Now, we can use the CNN to test how well it identifies breed within our test dataset of dog images.  We print the test accuracy below."
   ]
  },
  {
   "cell_type": "code",
   "execution_count": 30,
   "metadata": {},
   "outputs": [
    {
     "name": "stdout",
     "output_type": "stream",
     "text": [
      "Test accuracy: 45.3349%\n"
     ]
    }
   ],
   "source": [
    "# get index of predicted dog breed for each image in test set\n",
    "VGG16_predictions = [np.argmax(VGG16_model.predict(np.expand_dims(feature, axis=0))) for feature in test_VGG16]\n",
    "\n",
    "# report test accuracy\n",
    "test_accuracy = 100*np.sum(np.array(VGG16_predictions)==np.argmax(test_targets, axis=1))/len(VGG16_predictions)\n",
    "print('Test accuracy: %.4f%%' % test_accuracy)"
   ]
  },
  {
   "cell_type": "markdown",
   "metadata": {},
   "source": [
    "### Predict Dog Breed with the Model"
   ]
  },
  {
   "cell_type": "code",
   "execution_count": 32,
   "metadata": {},
   "outputs": [],
   "source": [
    "from extract_bottleneck_features import *\n",
    "\n",
    "def VGG16_predict_breed(img_path):\n",
    "    # extract bottleneck features\n",
    "    bottleneck_feature = extract_VGG16(path_to_tensor(img_path))\n",
    "    # obtain predicted vector\n",
    "    predicted_vector = VGG16_model.predict(bottleneck_feature)\n",
    "    # return dog breed that is predicted by the model\n",
    "    return dog_names[np.argmax(predicted_vector)]"
   ]
  },
  {
   "cell_type": "markdown",
   "metadata": {},
   "source": [
    "---\n",
    "<a id='step5'></a>\n",
    "## Step 5: Create a CNN to Classify Dog Breeds (using Transfer Learning)\n",
    "\n",
    "You will now use transfer learning to create a CNN that can identify dog breed from images.  Your CNN must attain at least 60% accuracy on the test set.\n",
    "\n",
    "In Step 4, we used transfer learning to create a CNN using VGG-16 bottleneck features.  In this section, you must use the bottleneck features from a different pre-trained model.  To make things easier for you, we have pre-computed the features for all of the networks that are currently available in Keras:\n",
    "- [VGG-19](https://s3-us-west-1.amazonaws.com/udacity-aind/dog-project/DogVGG19Data.npz) bottleneck features\n",
    "- [ResNet-50](https://s3-us-west-1.amazonaws.com/udacity-aind/dog-project/DogResnet50Data.npz) bottleneck features\n",
    "- [Inception](https://s3-us-west-1.amazonaws.com/udacity-aind/dog-project/DogInceptionV3Data.npz) bottleneck features\n",
    "- [Xception](https://s3-us-west-1.amazonaws.com/udacity-aind/dog-project/DogXceptionData.npz) bottleneck features\n",
    "\n",
    "The files are encoded as such:\n",
    "\n",
    "    Dog{network}Data.npz\n",
    "    \n",
    "where `{network}`, in the above filename, can be one of `VGG19`, `Resnet50`, `InceptionV3`, or `Xception`.  Pick one of the above architectures, download the corresponding bottleneck features, and store the downloaded file in the `bottleneck_features/` folder in the repository.\n",
    "\n",
    "### (IMPLEMENTATION) Obtain Bottleneck Features\n",
    "\n",
    "In the code block below, extract the bottleneck features corresponding to the train, test, and validation sets by running the following:\n",
    "\n",
    "    bottleneck_features = np.load('bottleneck_features/Dog{network}Data.npz')\n",
    "    train_{network} = bottleneck_features['train']\n",
    "    valid_{network} = bottleneck_features['valid']\n",
    "    test_{network} = bottleneck_features['test']"
   ]
  },
  {
   "cell_type": "code",
   "execution_count": null,
   "metadata": {
    "collapsed": true
   },
   "outputs": [],
   "source": [
    "### TODO: Obtain bottleneck features from another pre-trained CNN."
   ]
  },
  {
   "cell_type": "markdown",
   "metadata": {},
   "source": [
    "### (IMPLEMENTATION) Model Architecture\n",
    "\n",
    "Create a CNN to classify dog breed.  At the end of your code cell block, summarize the layers of your model by executing the line:\n",
    "    \n",
    "        <your model's name>.summary()\n",
    "   \n",
    "__Question 5:__ Outline the steps you took to get to your final CNN architecture and your reasoning at each step.  Describe why you think the architecture is suitable for the current problem.\n",
    "\n",
    "__Answer:__ \n",
    "\n"
   ]
  },
  {
   "cell_type": "code",
   "execution_count": null,
   "metadata": {
    "collapsed": true
   },
   "outputs": [],
   "source": [
    "### TODO: Define your architecture."
   ]
  },
  {
   "cell_type": "markdown",
   "metadata": {},
   "source": [
    "### (IMPLEMENTATION) Compile the Model"
   ]
  },
  {
   "cell_type": "code",
   "execution_count": null,
   "metadata": {
    "collapsed": true
   },
   "outputs": [],
   "source": [
    "### TODO: Compile the model."
   ]
  },
  {
   "cell_type": "markdown",
   "metadata": {},
   "source": [
    "### (IMPLEMENTATION) Train the Model\n",
    "\n",
    "Train your model in the code cell below.  Use model checkpointing to save the model that attains the best validation loss.  \n",
    "\n",
    "You are welcome to [augment the training data](https://blog.keras.io/building-powerful-image-classification-models-using-very-little-data.html), but this is not a requirement. "
   ]
  },
  {
   "cell_type": "code",
   "execution_count": null,
   "metadata": {
    "collapsed": true
   },
   "outputs": [],
   "source": [
    "### TODO: Train the model."
   ]
  },
  {
   "cell_type": "markdown",
   "metadata": {},
   "source": [
    "### (IMPLEMENTATION) Load the Model with the Best Validation Loss"
   ]
  },
  {
   "cell_type": "code",
   "execution_count": null,
   "metadata": {
    "collapsed": true
   },
   "outputs": [],
   "source": [
    "### TODO: Load the model weights with the best validation loss."
   ]
  },
  {
   "cell_type": "markdown",
   "metadata": {},
   "source": [
    "### (IMPLEMENTATION) Test the Model\n",
    "\n",
    "Try out your model on the test dataset of dog images. Ensure that your test accuracy is greater than 60%."
   ]
  },
  {
   "cell_type": "code",
   "execution_count": null,
   "metadata": {
    "collapsed": true
   },
   "outputs": [],
   "source": [
    "### TODO: Calculate classification accuracy on the test dataset."
   ]
  },
  {
   "cell_type": "markdown",
   "metadata": {},
   "source": [
    "### (IMPLEMENTATION) Predict Dog Breed with the Model\n",
    "\n",
    "Write a function that takes an image path as input and returns the dog breed (`Affenpinscher`, `Afghan_hound`, etc) that is predicted by your model.  \n",
    "\n",
    "Similar to the analogous function in Step 5, your function should have three steps:\n",
    "1. Extract the bottleneck features corresponding to the chosen CNN model.\n",
    "2. Supply the bottleneck features as input to the model to return the predicted vector.  Note that the argmax of this prediction vector gives the index of the predicted dog breed.\n",
    "3. Use the `dog_names` array defined in Step 0 of this notebook to return the corresponding breed.\n",
    "\n",
    "The functions to extract the bottleneck features can be found in `extract_bottleneck_features.py`, and they have been imported in an earlier code cell.  To obtain the bottleneck features corresponding to your chosen CNN architecture, you need to use the function\n",
    "\n",
    "    extract_{network}\n",
    "    \n",
    "where `{network}`, in the above filename, should be one of `VGG19`, `Resnet50`, `InceptionV3`, or `Xception`."
   ]
  },
  {
   "cell_type": "code",
   "execution_count": null,
   "metadata": {
    "collapsed": true
   },
   "outputs": [],
   "source": [
    "### TODO: Write a function that takes a path to an image as input\n",
    "### and returns the dog breed that is predicted by the model."
   ]
  },
  {
   "cell_type": "markdown",
   "metadata": {},
   "source": [
    "---\n",
    "<a id='step6'></a>\n",
    "## Step 6: Write your Algorithm\n",
    "\n",
    "Write an algorithm that accepts a file path to an image and first determines whether the image contains a human, dog, or neither.  Then,\n",
    "- if a __dog__ is detected in the image, return the predicted breed.\n",
    "- if a __human__ is detected in the image, return the resembling dog breed.\n",
    "- if __neither__ is detected in the image, provide output that indicates an error.\n",
    "\n",
    "You are welcome to write your own functions for detecting humans and dogs in images, but feel free to use the `face_detector` and `dog_detector` functions developed above.  You are __required__ to use your CNN from Step 5 to predict dog breed.  \n",
    "\n",
    "A sample image and output for our algorithm is provided below, but feel free to design your own user experience!\n",
    "\n",
    "![Sample Human Output](images/sample_human_2.png)\n",
    "\n",
    "This photo looks like an Afghan Hound.\n",
    "### (IMPLEMENTATION) Write your Algorithm"
   ]
  },
  {
   "cell_type": "code",
   "execution_count": null,
   "metadata": {
    "collapsed": true
   },
   "outputs": [],
   "source": [
    "### TODO: Write your algorithm.\n",
    "### Feel free to use as many code cells as needed."
   ]
  },
  {
   "cell_type": "markdown",
   "metadata": {},
   "source": [
    "---\n",
    "<a id='step7'></a>\n",
    "## Step 7: Test Your Algorithm\n",
    "\n",
    "In this section, you will take your new algorithm for a spin!  What kind of dog does the algorithm think that __you__ look like?  If you have a dog, does it predict your dog's breed accurately?  If you have a cat, does it mistakenly think that your cat is a dog?\n",
    "\n",
    "### (IMPLEMENTATION) Test Your Algorithm on Sample Images!\n",
    "\n",
    "Test your algorithm at least six images on your computer.  Feel free to use any images you like.  Use at least two human and two dog images.  \n",
    "\n",
    "__Question 6:__ Is the output better than you expected :) ?  Or worse :( ?  Provide at least three possible points of improvement for your algorithm.\n",
    "\n",
    "__Answer:__ "
   ]
  },
  {
   "cell_type": "code",
   "execution_count": null,
   "metadata": {
    "collapsed": true
   },
   "outputs": [],
   "source": [
    "## TODO: Execute your algorithm from Step 6 on\n",
    "## at least 6 images on your computer.\n",
    "## Feel free to use as many code cells as needed."
   ]
  }
 ],
 "metadata": {
  "anaconda-cloud": {},
  "kernelspec": {
   "display_name": "Python 3",
   "language": "python",
   "name": "python3"
  },
  "language_info": {
   "codemirror_mode": {
    "name": "ipython",
    "version": 3
   },
   "file_extension": ".py",
   "mimetype": "text/x-python",
   "name": "python",
   "nbconvert_exporter": "python",
   "pygments_lexer": "ipython3",
   "version": "3.6.9"
  }
 },
 "nbformat": 4,
 "nbformat_minor": 1
}

{
 "cells": [
  {
   "cell_type": "markdown",
   "metadata": {},
   "source": [
    "# Data Scientist Nanodegree\n",
    "\n",
    "## Convolutional Neural Networks\n",
    "\n",
    "## Project: Write an Algorithm for a Dog Identification App \n",
    "\n",
    "\n",
    "This notebook walks you through one of the most popular Udacity projects across machine learning and artificial intellegence nanodegree programs.  The goal is to classify images of dogs according to their breed.  \n",
    "\n",
    "If you are looking for a more guided capstone project related to deep learning and convolutional neural networks, this might be just it.  Notice that even if you follow the notebook to creating your classifier, you must still create a blog post or deploy an application to fulfill the requirements of the capstone project.\n",
    "\n",
    "Also notice, you may be able to use only parts of this notebook (for example certain coding portions or the data) without completing all parts and still meet all requirements of the capstone project.\n",
    "\n",
    "---\n",
    "\n",
    "In this notebook, some template code has already been provided for you, and you will need to implement additional functionality to successfully complete this project. You will not need to modify the included code beyond what is requested. Sections that begin with **'(IMPLEMENTATION)'** in the header indicate that the following block of code will require additional functionality which you must provide. Instructions will be provided for each section, and the specifics of the implementation are marked in the code block with a 'TODO' statement. Please be sure to read the instructions carefully! \n",
    "\n",
    "In addition to implementing code, there will be questions that you must answer which relate to the project and your implementation. Each section where you will answer a question is preceded by a **'Question X'** header. Carefully read each question and provide thorough answers in the following text boxes that begin with **'Answer:'**. Your project submission will be evaluated based on your answers to each of the questions and the implementation you provide.\n",
    "\n",
    ">**Note:** Code and Markdown cells can be executed using the **Shift + Enter** keyboard shortcut.  Markdown cells can be edited by double-clicking the cell to enter edit mode.\n",
    "\n",
    "The rubric contains _optional_ \"Stand Out Suggestions\" for enhancing the project beyond the minimum requirements. If you decide to pursue the \"Stand Out Suggestions\", you should include the code in this IPython notebook.\n",
    "\n",
    "\n",
    "\n",
    "---\n",
    "### Why We're Here \n",
    "\n",
    "In this notebook, you will make the first steps towards developing an algorithm that could be used as part of a mobile or web app.  At the end of this project, your code will accept any user-supplied image as input.  If a dog is detected in the image, it will provide an estimate of the dog's breed.  If a human is detected, it will provide an estimate of the dog breed that is most resembling.  The image below displays potential sample output of your finished project (... but we expect that each student's algorithm will behave differently!). \n",
    "\n",
    "![Sample Dog Output](images/sample_dog_output.png)\n",
    "\n",
    "In this real-world setting, you will need to piece together a series of models to perform different tasks; for instance, the algorithm that detects humans in an image will be different from the CNN that infers dog breed.  There are many points of possible failure, and no perfect algorithm exists.  Your imperfect solution will nonetheless create a fun user experience!\n",
    "\n",
    "### The Road Ahead\n",
    "\n",
    "We break the notebook into separate steps.  Feel free to use the links below to navigate the notebook.\n",
    "\n",
    "* [Step 0](#step0): Import Datasets\n",
    "* [Step 1](#step1): Detect Humans\n",
    "* [Step 2](#step2): Detect Dogs\n",
    "* [Step 3](#step3): Create a CNN to Classify Dog Breeds (from Scratch)\n",
    "* [Step 4](#step4): Use a CNN to Classify Dog Breeds (using Transfer Learning)\n",
    "* [Step 5](#step5): Create a CNN to Classify Dog Breeds (using Transfer Learning)\n",
    "* [Step 6](#step6): Write your Algorithm\n",
    "* [Step 7](#step7): Test Your Algorithm\n",
    "\n",
    "---\n",
    "<a id='step0'></a>\n",
    "## Step 0: Import Datasets\n",
    "\n",
    "### Import Dog Dataset\n",
    "\n",
    "In the code cell below, we import a dataset of dog images.  We populate a few variables through the use of the `load_files` function from the scikit-learn library:\n",
    "- `train_files`, `valid_files`, `test_files` - numpy arrays containing file paths to images\n",
    "- `train_targets`, `valid_targets`, `test_targets` - numpy arrays containing onehot-encoded classification labels \n",
    "- `dog_names` - list of string-valued dog breed names for translating labels"
   ]
  },
  {
   "cell_type": "code",
   "execution_count": 39,
   "metadata": {
    "scrolled": true
   },
   "outputs": [
    {
     "name": "stdout",
     "output_type": "stream",
     "text": [
      "There are 133 total dog categories.\n",
      "There are 8351 total dog images.\n",
      "\n",
      "There are 6680 training dog images.\n",
      "There are 835 validation dog images.\n",
      "There are 836 test dog images.\n"
     ]
    }
   ],
   "source": [
    "from sklearn.datasets import load_files       \n",
    "from keras.utils import np_utils\n",
    "import numpy as np\n",
    "from glob import glob\n",
    "\n",
    "# define function to load train, test, and validation datasets\n",
    "def load_dataset(path):\n",
    "    data = load_files(path)\n",
    "    dog_files = np.array(data['filenames'])\n",
    "    dog_targets = np_utils.to_categorical(np.array(data['target']), 133)\n",
    "    return dog_files, dog_targets\n",
    "\n",
    "# load train, test, and validation datasets\n",
    "train_files, train_targets = load_dataset('../data/dogImages/train')\n",
    "valid_files, valid_targets = load_dataset('../data/dogImages/valid')\n",
    "test_files, test_targets = load_dataset('../data/dogImages/test')\n",
    "\n",
    "# load list of dog names\n",
    "dog_names = [item[20:-1] for item in sorted(glob(\"../data/dogImages/train/*/\"))]\n",
    "\n",
    "# print statistics about the dataset\n",
    "print('There are %d total dog categories.' % len(dog_names))\n",
    "print('There are %s total dog images.\\n' % len(np.hstack([train_files, valid_files, test_files])))\n",
    "print('There are %d training dog images.' % len(train_files))\n",
    "print('There are %d validation dog images.' % len(valid_files))\n",
    "print('There are %d test dog images.'% len(test_files))"
   ]
  },
  {
   "cell_type": "code",
   "execution_count": 2,
   "metadata": {},
   "outputs": [
    {
     "name": "stdout",
     "output_type": "stream",
     "text": [
      "[name: \"/device:CPU:0\"\n",
      "device_type: \"CPU\"\n",
      "memory_limit: 268435456\n",
      "locality {\n",
      "}\n",
      "incarnation: 3803039808814730593\n",
      ", name: \"/device:GPU:0\"\n",
      "device_type: \"GPU\"\n",
      "memory_limit: 4842782720\n",
      "locality {\n",
      "  bus_id: 1\n",
      "  links {\n",
      "  }\n",
      "}\n",
      "incarnation: 11900751663385331395\n",
      "physical_device_desc: \"device: 0, name: GeForce RTX 2060, pci bus id: 0000:01:00.0, compute capability: 7.5\"\n",
      "]\n"
     ]
    }
   ],
   "source": [
    "from tensorflow.python.client import device_lib\n",
    "print(device_lib.list_local_devices())"
   ]
  },
  {
   "cell_type": "markdown",
   "metadata": {},
   "source": [
    "### Import Human Dataset\n",
    "\n",
    "In the code cell below, we import a dataset of human images, where the file paths are stored in the numpy array `human_files`."
   ]
  },
  {
   "cell_type": "code",
   "execution_count": 40,
   "metadata": {},
   "outputs": [
    {
     "name": "stdout",
     "output_type": "stream",
     "text": [
      "There are 13233 total human images.\n"
     ]
    }
   ],
   "source": [
    "import random\n",
    "random.seed(8675309)\n",
    "\n",
    "# load filenames in shuffled human dataset\n",
    "human_files = np.array(glob(\"../data/lfw/*/*\"))\n",
    "random.shuffle(human_files)\n",
    "\n",
    "# print statistics about the dataset\n",
    "print('There are %d total human images.' % len(human_files))"
   ]
  },
  {
   "cell_type": "markdown",
   "metadata": {},
   "source": [
    "---\n",
    "<a id='step1'></a>\n",
    "## Step 1: Detect Humans\n",
    "\n",
    "We use OpenCV's implementation of [Haar feature-based cascade classifiers](http://docs.opencv.org/trunk/d7/d8b/tutorial_py_face_detection.html) to detect human faces in images.  OpenCV provides many pre-trained face detectors, stored as XML files on [github](https://github.com/opencv/opencv/tree/master/data/haarcascades).  We have downloaded one of these detectors and stored it in the `haarcascades` directory.\n",
    "\n",
    "In the next code cell, we demonstrate how to use this detector to find human faces in a sample image."
   ]
  },
  {
   "cell_type": "code",
   "execution_count": 41,
   "metadata": {},
   "outputs": [
    {
     "name": "stdout",
     "output_type": "stream",
     "text": [
      "Number of faces detected: 1\n"
     ]
    },
    {
     "data": {
      "image/png": "[encoded data removed]",
      "text/plain": [
       "<Figure size 432x288 with 1 Axes>"
      ]
     },
     "metadata": {
      "needs_background": "light"
     },
     "output_type": "display_data"
    }
   ],
   "source": [
    "import cv2                \n",
    "import matplotlib.pyplot as plt                        \n",
    "%matplotlib inline                               \n",
    "\n",
    "# extract pre-trained face detector\n",
    "face_cascade = cv2.CascadeClassifier('haarcascades/haarcascade_frontalface_alt.xml')\n",
    "\n",
    "# load color (BGR) image\n",
    "img = cv2.imread(human_files[4])\n",
    "# convert BGR image to grayscale\n",
    "gray = cv2.cvtColor(img, cv2.COLOR_BGR2GRAY)\n",
    "\n",
    "# find faces in image\n",
    "faces = face_cascade.detectMultiScale(gray)\n",
    "\n",
    "# print number of faces detected in the image\n",
    "print('Number of faces detected:', len(faces))\n",
    "\n",
    "# get bounding box for each detected face\n",
    "for (x,y,w,h) in faces:\n",
    "    # add bounding box to color image\n",
    "    cv2.rectangle(img,(x,y),(x+w,y+h),(255,0,0),2)\n",
    "    \n",
    "# convert BGR image to RGB for plotting\n",
    "cv_rgb = cv2.cvtColor(img, cv2.COLOR_BGR2RGB)\n",
    "\n",
    "# display the image, along with bounding box\n",
    "plt.imshow(cv_rgb)\n",
    "plt.show()"
   ]
  },
  {
   "cell_type": "markdown",
   "metadata": {},
   "source": [
    "Before using any of the face detectors, it is standard procedure to convert the images to grayscale.  The `detectMultiScale` function executes the classifier stored in `face_cascade` and takes the grayscale image as a parameter.  \n",
    "\n",
    "In the above code, `faces` is a numpy array of detected faces, where each row corresponds to a detected face.  Each detected face is a 1D array with four entries that specifies the bounding box of the detected face.  The first two entries in the array (extracted in the above code as `x` and `y`) specify the horizontal and vertical positions of the top left corner of the bounding box.  The last two entries in the array (extracted here as `w` and `h`) specify the width and height of the box.\n",
    "\n",
    "### Write a Human Face Detector\n",
    "\n",
    "We can use this procedure to write a function that returns `True` if a human face is detected in an image and `False` otherwise.  This function, aptly named `face_detector`, takes a string-valued file path to an image as input and appears in the code block below."
   ]
  },
  {
   "cell_type": "code",
   "execution_count": 42,
   "metadata": {},
   "outputs": [],
   "source": [
    "# returns \"True\" if face is detected in image stored at img_path\n",
    "def face_detector(img_path):\n",
    "    img = cv2.imread(img_path)\n",
    "    gray = cv2.cvtColor(img, cv2.COLOR_BGR2GRAY)\n",
    "    faces = face_cascade.detectMultiScale(gray)\n",
    "    return len(faces) > 0"
   ]
  },
  {
   "cell_type": "markdown",
   "metadata": {},
   "source": [
    "### (IMPLEMENTATION) Assess the Human Face Detector\n",
    "\n",
    "__Question 1:__ Use the code cell below to test the performance of the `face_detector` function.  \n",
    "- What percentage of the first 100 images in `human_files` have a detected human face?  \n",
    "- What percentage of the first 100 images in `dog_files` have a detected human face? \n",
    "\n",
    "Ideally, we would like 100% of human images with a detected face and 0% of dog images with a detected face.  You will see that our algorithm falls short of this goal, but still gives acceptable performance.  We extract the file paths for the first 100 images from each of the datasets and store them in the numpy arrays `human_files_short` and `dog_files_short`.\n",
    "\n",
    "__Answer:__ "
   ]
  },
  {
   "cell_type": "code",
   "execution_count": 43,
   "metadata": {},
   "outputs": [
    {
     "name": "stdout",
     "output_type": "stream",
     "text": [
      "Percentage of the first 100 images in human_files that have a detected human face: 99.0 %\n",
      "Percentage of the first 100 images in dog_files that have a detected human face: 12.0 %\n"
     ]
    }
   ],
   "source": [
    "human_files_short = human_files[:100]\n",
    "dog_files_short = train_files[:100]\n",
    "# Do NOT modify the code above this line.\n",
    "\n",
    "## TODO: Test the performance of the face_detector algorithm \n",
    "## on the images in human_files_short and dog_files_short.\n",
    "\n",
    "is_face = [face_detector(image_path) for image_path in human_files_short]\n",
    "is_face_percent = 100*len(human_files_short[is_face])/len(human_files_short)\n",
    "print('Percentage of the first 100 images in human_files that have a detected human face:', is_face_percent , '%')\n",
    "\n",
    "is_face = [face_detector(image_path) for image_path in dog_files_short]\n",
    "is_face_percent = 100*len(dog_files_short[is_face])/len(dog_files_short)\n",
    "print('Percentage of the first 100 images in dog_files that have a detected human face:', is_face_percent , '%')"
   ]
  },
  {
   "cell_type": "markdown",
   "metadata": {},
   "source": [
    "__Question 2:__ This algorithmic choice necessitates that we communicate to the user that we accept human images only when they provide a clear view of a face (otherwise, we risk having unneccessarily frustrated users!). In your opinion, is this a reasonable expectation to pose on the user? If not, can you think of a way to detect humans in images that does not necessitate an image with a clearly presented face?\n",
    "\n",
    "__Answer:__\n",
    "\n",
    "We suggest the face detector from OpenCV as a potential way to detect human images in your algorithm, but you are free to explore other approaches, especially approaches that make use of deep learning :).  Please use the code cell below to design and test your own face detection algorithm.  If you decide to pursue this _optional_ task, report performance on each of the datasets."
   ]
  },
  {
   "cell_type": "code",
   "execution_count": 44,
   "metadata": {},
   "outputs": [],
   "source": [
    "## (Optional) TODO: Report the performance of another  \n",
    "## face detection algorithm on the LFW dataset\n",
    "### Feel free to use as many code cells as needed.\n"
   ]
  },
  {
   "cell_type": "markdown",
   "metadata": {},
   "source": [
    "---\n",
    "<a id='step2'></a>\n",
    "## Step 2: Detect Dogs\n",
    "\n",
    "In this section, we use a pre-trained [ResNet-50](http://ethereon.github.io/netscope/#/gist/db945b393d40bfa26006) model to detect dogs in images.  Our first line of code downloads the ResNet-50 model, along with weights that have been trained on [ImageNet](http://www.image-net.org/), a very large, very popular dataset used for image classification and other vision tasks.  ImageNet contains over 10 million URLs, each linking to an image containing an object from one of [1000 categories](https://gist.github.com/yrevar/942d3a0ac09ec9e5eb3a).  Given an image, this pre-trained ResNet-50 model returns a prediction (derived from the available categories in ImageNet) for the object that is contained in the image."
   ]
  },
  {
   "cell_type": "code",
   "execution_count": 45,
   "metadata": {},
   "outputs": [],
   "source": [
    "from keras.applications.resnet50 import ResNet50\n",
    "\n",
    "# define ResNet50 model\n",
    "ResNet50_model = ResNet50(weights='imagenet')"
   ]
  },
  {
   "cell_type": "markdown",
   "metadata": {},
   "source": [
    "### Pre-process the Data\n",
    "\n",
    "When using TensorFlow as backend, Keras CNNs require a 4D array (which we'll also refer to as a 4D tensor) as input, with shape\n",
    "\n",
    "$$\n",
    "(\\text{nb_samples}, \\text{rows}, \\text{columns}, \\text{channels}),\n",
    "$$\n",
    "\n",
    "where `nb_samples` corresponds to the total number of images (or samples), and `rows`, `columns`, and `channels` correspond to the number of rows, columns, and channels for each image, respectively.  \n",
    "\n",
    "The `path_to_tensor` function below takes a string-valued file path to a color image as input and returns a 4D tensor suitable for supplying to a Keras CNN.  The function first loads the image and resizes it to a square image that is $224 \\times 224$ pixels.  Next, the image is converted to an array, which is then resized to a 4D tensor.  In this case, since we are working with color images, each image has three channels.  Likewise, since we are processing a single image (or sample), the returned tensor will always have shape\n",
    "\n",
    "$$\n",
    "(1, 224, 224, 3).\n",
    "$$\n",
    "\n",
    "The `paths_to_tensor` function takes a numpy array of string-valued image paths as input and returns a 4D tensor with shape \n",
    "\n",
    "$$\n",
    "(\\text{nb_samples}, 224, 224, 3).\n",
    "$$\n",
    "\n",
    "Here, `nb_samples` is the number of samples, or number of images, in the supplied array of image paths.  It is best to think of `nb_samples` as the number of 3D tensors (where each 3D tensor corresponds to a different image) in your dataset!"
   ]
  },
  {
   "cell_type": "code",
   "execution_count": 46,
   "metadata": {},
   "outputs": [],
   "source": [
    "from keras.preprocessing import image\n",
    "from tqdm import tqdm\n",
    "import PIL\n",
    "from PIL import Image\n",
    "\n",
    "def path_to_tensor(img_path):\n",
    "    # loads RGB image as PIL.Image.Image type\n",
    "    img = image.load_img(img_path, target_size=(224, 224))\n",
    "    # convert PIL.Image.Image type to 3D tensor with shape (224, 224, 3)\n",
    "    x = image.img_to_array(img)\n",
    "    # convert 3D tensor to 4D tensor with shape (1, 224, 224, 3) and return 4D tensor\n",
    "    return np.expand_dims(x, axis=0)\n",
    "\n",
    "def paths_to_tensor(img_paths):\n",
    "    list_of_tensors = [path_to_tensor(img_path) for img_path in tqdm(img_paths)]\n",
    "    return np.vstack(list_of_tensors)"
   ]
  },
  {
   "cell_type": "markdown",
   "metadata": {},
   "source": [
    "### Making Predictions with ResNet-50\n",
    "\n",
    "Getting the 4D tensor ready for ResNet-50, and for any other pre-trained model in Keras, requires some additional processing.  First, the RGB image is converted to BGR by reordering the channels.  All pre-trained models have the additional normalization step that the mean pixel (expressed in RGB as $[103.939, 116.779, 123.68]$ and calculated from all pixels in all images in ImageNet) must be subtracted from every pixel in each image.  This is implemented in the imported function `preprocess_input`.  If you're curious, you can check the code for `preprocess_input` [here](https://github.com/fchollet/keras/blob/master/keras/applications/imagenet_utils.py).\n",
    "\n",
    "Now that we have a way to format our image for supplying to ResNet-50, we are now ready to use the model to extract the predictions.  This is accomplished with the `predict` method, which returns an array whose $i$-th entry is the model's predicted probability that the image belongs to the $i$-th ImageNet category.  This is implemented in the `ResNet50_predict_labels` function below.\n",
    "\n",
    "By taking the argmax of the predicted probability vector, we obtain an integer corresponding to the model's predicted object class, which we can identify with an object category through the use of this [dictionary](https://gist.github.com/yrevar/942d3a0ac09ec9e5eb3a). "
   ]
  },
  {
   "cell_type": "code",
   "execution_count": 47,
   "metadata": {},
   "outputs": [],
   "source": [
    "from keras.applications.resnet50 import preprocess_input, decode_predictions\n",
    "\n",
    "def ResNet50_predict_labels(img_path):\n",
    "    # returns prediction vector for image located at img_path\n",
    "    img = preprocess_input(path_to_tensor(img_path))\n",
    "    return np.argmax(ResNet50_model.predict(img))"
   ]
  },
  {
   "cell_type": "markdown",
   "metadata": {},
   "source": [
    "### Write a Dog Detector\n",
    "\n",
    "While looking at the [dictionary](https://gist.github.com/yrevar/942d3a0ac09ec9e5eb3a), you will notice that the categories corresponding to dogs appear in an uninterrupted sequence and correspond to dictionary keys 151-268, inclusive, to include all categories from `'Chihuahua'` to `'Mexican hairless'`.  Thus, in order to check to see if an image is predicted to contain a dog by the pre-trained ResNet-50 model, we need only check if the `ResNet50_predict_labels` function above returns a value between 151 and 268 (inclusive).\n",
    "\n",
    "We use these ideas to complete the `dog_detector` function below, which returns `True` if a dog is detected in an image (and `False` if not)."
   ]
  },
  {
   "cell_type": "code",
   "execution_count": 48,
   "metadata": {},
   "outputs": [],
   "source": [
    "### returns \"True\" if a dog is detected in the image stored at img_path\n",
    "def dog_detector(img_path):\n",
    "    prediction = ResNet50_predict_labels(img_path)\n",
    "    return ((prediction <= 268) & (prediction >= 151)) "
   ]
  },
  {
   "cell_type": "markdown",
   "metadata": {},
   "source": [
    "### (IMPLEMENTATION) Assess the Dog Detector\n",
    "\n",
    "__Question 3:__ Use the code cell below to test the performance of your `dog_detector` function.  \n",
    "- What percentage of the images in `human_files_short` have a detected dog?  \n",
    "- What percentage of the images in `dog_files_short` have a detected dog?\n",
    "\n",
    "__Answer:__ "
   ]
  },
  {
   "cell_type": "code",
   "execution_count": 49,
   "metadata": {
    "scrolled": false
   },
   "outputs": [
    {
     "name": "stdout",
     "output_type": "stream",
     "text": [
      "Percentage of the first 100 images in human_files that have a detected dog: 1.0 %\n",
      "Percentage of the first 100 images in dog_files that have a detected dog: 100.0 %\n"
     ]
    }
   ],
   "source": [
    "### TODO: Test the performance of the dog_detector function\n",
    "### on the images in human_files_short and dog_files_short.\n",
    "is_dog = [dog_detector(image_path) for image_path in human_files_short]\n",
    "is_dog_percent = 100*len(human_files_short[is_dog])/human_files_short.shape[0]\n",
    "print('Percentage of the first 100 images in human_files that have a detected dog:', is_dog_percent , '%')\n",
    "\n",
    "is_dog = [dog_detector(image_path) for image_path in dog_files_short]\n",
    "is_dog_percent = 100*len(dog_files_short[is_dog])/dog_files_short.shape[0]\n",
    "print('Percentage of the first 100 images in dog_files that have a detected dog:', is_dog_percent , '%')"
   ]
  },
  {
   "cell_type": "markdown",
   "metadata": {},
   "source": [
    "---\n",
    "<a id='step3'></a>\n",
    "## Step 3: Create a CNN to Classify Dog Breeds (from Scratch)\n",
    "\n",
    "Now that we have functions for detecting humans and dogs in images, we need a way to predict breed from images.  In this step, you will create a CNN that classifies dog breeds.  You must create your CNN _from scratch_ (so, you can't use transfer learning _yet_!), and you must attain a test accuracy of at least 1%.  In Step 5 of this notebook, you will have the opportunity to use transfer learning to create a CNN that attains greatly improved accuracy.\n",
    "\n",
    "Be careful with adding too many trainable layers!  More parameters means longer training, which means you are more likely to need a GPU to accelerate the training process.  Thankfully, Keras provides a handy estimate of the time that each epoch is likely to take; you can extrapolate this estimate to figure out how long it will take for your algorithm to train. \n",
    "\n",
    "We mention that the task of assigning breed to dogs from images is considered exceptionally challenging.  To see why, consider that *even a human* would have great difficulty in distinguishing between a Brittany and a Welsh Springer Spaniel.  \n",
    "\n",
    "Brittany | Welsh Springer Spaniel\n",
    "- | - \n",
    "<img src=\"images/Brittany_02625.jpg\" width=\"100\"> | <img src=\"images/Welsh_springer_spaniel_08203.jpg\" width=\"200\">\n",
    "\n",
    "It is not difficult to find other dog breed pairs with minimal inter-class variation (for instance, Curly-Coated Retrievers and American Water Spaniels).  \n",
    "\n",
    "Curly-Coated Retriever | American Water Spaniel\n",
    "- | -\n",
    "<img src=\"images/Curly-coated_retriever_03896.jpg\" width=\"200\"> | <img src=\"images/American_water_spaniel_00648.jpg\" width=\"200\">\n",
    "\n",
    "\n",
    "Likewise, recall that labradors come in yellow, chocolate, and black.  Your vision-based algorithm will have to conquer this high intra-class variation to determine how to classify all of these different shades as the same breed.  \n",
    "\n",
    "Yellow Labrador | Chocolate Labrador | Black Labrador\n",
    "- | -\n",
    "<img src=\"images/Labrador_retriever_06457.jpg\" width=\"150\"> | <img src=\"images/Labrador_retriever_06455.jpg\" width=\"240\"> | <img src=\"images/Labrador_retriever_06449.jpg\" width=\"220\">\n",
    "\n",
    "We also mention that random chance presents an exceptionally low bar: setting aside the fact that the classes are slightly imabalanced, a random guess will provide a correct answer roughly 1 in 133 times, which corresponds to an accuracy of less than 1%.  \n",
    "\n",
    "Remember that the practice is far ahead of the theory in deep learning.  Experiment with many different architectures, and trust your intuition.  And, of course, have fun! \n",
    "\n",
    "### Pre-process the Data\n",
    "\n",
    "We rescale the images by dividing every pixel in every image by 255."
   ]
  },
  {
   "cell_type": "code",
   "execution_count": 50,
   "metadata": {},
   "outputs": [
    {
     "name": "stderr",
     "output_type": "stream",
     "text": [
      "100%|█████████████████████████████████████████████████████████████████████████████| 6680/6680 [00:45<00:00, 146.84it/s]\n",
      "100%|███████████████████████████████████████████████████████████████████████████████| 835/835 [00:05<00:00, 157.46it/s]\n",
      "100%|███████████████████████████████████████████████████████████████████████████████| 836/836 [00:05<00:00, 160.58it/s]\n"
     ]
    }
   ],
   "source": [
    "from PIL import ImageFile                            \n",
    "ImageFile.LOAD_TRUNCATED_IMAGES = True                 \n",
    "\n",
    "# pre-process the data for Keras\n",
    "train_tensors = paths_to_tensor(train_files).astype('float32')/255\n",
    "valid_tensors = paths_to_tensor(valid_files).astype('float32')/255\n",
    "test_tensors = paths_to_tensor(test_files).astype('float32')/255"
   ]
  },
  {
   "cell_type": "markdown",
   "metadata": {},
   "source": [
    "### (IMPLEMENTATION) Model Architecture\n",
    "\n",
    "Create a CNN to classify dog breed.  At the end of your code cell block, summarize the layers of your model by executing the line:\n",
    "    \n",
    "        model.summary()\n",
    "\n",
    "We have imported some Python modules to get you started, but feel free to import as many modules as you need.  If you end up getting stuck, here's a hint that specifies a model that trains relatively fast on CPU and attains >1% test accuracy in 5 epochs:\n",
    "\n",
    "![Sample CNN](images/sample_cnn.png)\n",
    "           \n",
    "__Question 4:__ Outline the steps you took to get to your final CNN architecture and your reasoning at each step.  If you chose to use the hinted architecture above, describe why you think that CNN architecture should work well for the image classification task.\n",
    "\n",
    "__Answer:__ "
   ]
  },
  {
   "cell_type": "code",
   "execution_count": 51,
   "metadata": {},
   "outputs": [
    {
     "name": "stdout",
     "output_type": "stream",
     "text": [
      "Model: \"sequential_5\"\n",
      "_________________________________________________________________\n",
      "Layer (type)                 Output Shape              Param #   \n",
      "=================================================================\n",
      "conv2d_25 (Conv2D)           (None, 224, 224, 32)      896       \n",
      "_________________________________________________________________\n",
      "activation_129 (Activation)  (None, 224, 224, 32)      0         \n",
      "_________________________________________________________________\n",
      "batch_normalization_28 (Batc (None, 224, 224, 32)      896       \n",
      "_________________________________________________________________\n",
      "conv2d_26 (Conv2D)           (None, 224, 224, 32)      9248      \n",
      "_________________________________________________________________\n",
      "activation_130 (Activation)  (None, 224, 224, 32)      0         \n",
      "_________________________________________________________________\n",
      "batch_normalization_29 (Batc (None, 224, 224, 32)      896       \n",
      "_________________________________________________________________\n",
      "max_pooling2d_15 (MaxPooling (None, 112, 112, 32)      0         \n",
      "_________________________________________________________________\n",
      "dropout_16 (Dropout)         (None, 112, 112, 32)      0         \n",
      "_________________________________________________________________\n",
      "conv2d_27 (Conv2D)           (None, 112, 112, 64)      18496     \n",
      "_________________________________________________________________\n",
      "activation_131 (Activation)  (None, 112, 112, 64)      0         \n",
      "_________________________________________________________________\n",
      "batch_normalization_30 (Batc (None, 112, 112, 64)      448       \n",
      "_________________________________________________________________\n",
      "conv2d_28 (Conv2D)           (None, 112, 112, 64)      36928     \n",
      "_________________________________________________________________\n",
      "activation_132 (Activation)  (None, 112, 112, 64)      0         \n",
      "_________________________________________________________________\n",
      "batch_normalization_31 (Batc (None, 112, 112, 64)      448       \n",
      "_________________________________________________________________\n",
      "max_pooling2d_16 (MaxPooling (None, 56, 56, 64)        0         \n",
      "_________________________________________________________________\n",
      "dropout_17 (Dropout)         (None, 56, 56, 64)        0         \n",
      "_________________________________________________________________\n",
      "conv2d_29 (Conv2D)           (None, 56, 56, 128)       73856     \n",
      "_________________________________________________________________\n",
      "activation_133 (Activation)  (None, 56, 56, 128)       0         \n",
      "_________________________________________________________________\n",
      "batch_normalization_32 (Batc (None, 56, 56, 128)       224       \n",
      "_________________________________________________________________\n",
      "conv2d_30 (Conv2D)           (None, 56, 56, 128)       147584    \n",
      "_________________________________________________________________\n",
      "activation_134 (Activation)  (None, 56, 56, 128)       0         \n",
      "_________________________________________________________________\n",
      "batch_normalization_33 (Batc (None, 56, 56, 128)       224       \n",
      "_________________________________________________________________\n",
      "max_pooling2d_17 (MaxPooling (None, 28, 28, 128)       0         \n",
      "_________________________________________________________________\n",
      "dropout_18 (Dropout)         (None, 28, 28, 128)       0         \n",
      "_________________________________________________________________\n",
      "conv2d_31 (Conv2D)           (None, 28, 28, 256)       295168    \n",
      "_________________________________________________________________\n",
      "activation_135 (Activation)  (None, 28, 28, 256)       0         \n",
      "_________________________________________________________________\n",
      "batch_normalization_34 (Batc (None, 28, 28, 256)       112       \n",
      "_________________________________________________________________\n",
      "conv2d_32 (Conv2D)           (None, 28, 28, 256)       590080    \n",
      "_________________________________________________________________\n",
      "activation_136 (Activation)  (None, 28, 28, 256)       0         \n",
      "_________________________________________________________________\n",
      "batch_normalization_35 (Batc (None, 28, 28, 256)       112       \n",
      "_________________________________________________________________\n",
      "max_pooling2d_18 (MaxPooling (None, 14, 14, 256)       0         \n",
      "_________________________________________________________________\n",
      "dropout_19 (Dropout)         (None, 14, 14, 256)       0         \n",
      "_________________________________________________________________\n",
      "flatten_4 (Flatten)          (None, 50176)             0         \n",
      "_________________________________________________________________\n",
      "dense_8 (Dense)              (None, 512)               25690624  \n",
      "_________________________________________________________________\n",
      "activation_137 (Activation)  (None, 512)               0         \n",
      "_________________________________________________________________\n",
      "batch_normalization_36 (Batc (None, 512)               2048      \n",
      "_________________________________________________________________\n",
      "dropout_20 (Dropout)         (None, 512)               0         \n",
      "_________________________________________________________________\n",
      "dense_9 (Dense)              (None, 133)               68229     \n",
      "_________________________________________________________________\n",
      "activation_138 (Activation)  (None, 133)               0         \n",
      "=================================================================\n",
      "Total params: 26,936,517\n",
      "Trainable params: 26,933,813\n",
      "Non-trainable params: 2,704\n",
      "_________________________________________________________________\n"
     ]
    }
   ],
   "source": [
    "from keras.layers import Conv2D, MaxPooling2D, GlobalAveragePooling2D, BatchNormalization\n",
    "from keras.layers import Dropout, Flatten, Dense, Activation\n",
    "from keras.models import Sequential\n",
    "from keras.optimizers import SGD\n",
    "from keras.utils import np_utils\n",
    "\n",
    "### TODO: Define your architecture\n",
    "\n",
    "# define a custom class that uses keras Sequential model\n",
    "class CustomCNN:\n",
    "    def assemble(data_input_shape, num_classes):\n",
    "        # initialize the model\n",
    "        model = Sequential()\n",
    "        \n",
    "        input_shape = data_input_shape\n",
    "        \n",
    "\n",
    "        ## first layer : Conv -> Relu -> Conv -> Relu -> Pool\n",
    "        model.add(Conv2D(32, (3, 3), padding=\"same\", input_shape=input_shape))\n",
    "        model.add(Activation(\"relu\"))\n",
    "        model.add(BatchNormalization(axis=1))\n",
    "        model.add(Conv2D(32, (3, 3), padding=\"same\"))\n",
    "        model.add(Activation(\"relu\"))\n",
    "        model.add(BatchNormalization(axis=1))\n",
    "        model.add(MaxPooling2D(pool_size=(2, 2)))\n",
    "        model.add(Dropout(0.25))\n",
    "\n",
    "        # second layer: Conv -> Relu -> Conv -> Relu -> Pool\n",
    "        model.add(Conv2D(64, (3, 3), padding=\"same\"))\n",
    "        model.add(Activation(\"relu\"))\n",
    "        model.add(BatchNormalization(axis=1))\n",
    "        model.add(Conv2D(64, (3, 3), padding=\"same\"))\n",
    "        model.add(Activation(\"relu\"))\n",
    "        model.add(BatchNormalization(axis=1))\n",
    "        model.add(MaxPooling2D(pool_size=(2, 2)))\n",
    "        model.add(Dropout(0.25))\n",
    "\n",
    "        # third layer: Conv -> Relu -> Conv -> Relu -> Pool\n",
    "        model.add(Conv2D(128, (3, 3), padding=\"same\"))\n",
    "        model.add(Activation(\"relu\"))\n",
    "        model.add(BatchNormalization(axis=1))\n",
    "        model.add(Conv2D(128, (3, 3), padding=\"same\"))\n",
    "        model.add(Activation(\"relu\"))\n",
    "        model.add(BatchNormalization(axis=1))\n",
    "        model.add(MaxPooling2D(pool_size=(2, 2)))\n",
    "        model.add(Dropout(0.25))\n",
    "        \n",
    "        # fourth layer: Conv -> Relu -> Conv -> Relu -> Pool\n",
    "        model.add(Conv2D(256, (3, 3), padding=\"same\"))\n",
    "        model.add(Activation(\"relu\"))\n",
    "        model.add(BatchNormalization(axis=1))\n",
    "        model.add(Conv2D(256, (3, 3), padding=\"same\"))\n",
    "        model.add(Activation(\"relu\"))\n",
    "        model.add(BatchNormalization(axis=1))\n",
    "        model.add(MaxPooling2D(pool_size=(2, 2)))\n",
    "        model.add(Dropout(0.25))\n",
    "        \n",
    "        # first and only layer set of Fc -> Relu\n",
    "        model.add(Flatten())\n",
    "        model.add(Dense(512))\n",
    "        model.add(Activation(\"relu\"))\n",
    "        model.add(BatchNormalization())\n",
    "        model.add(Dropout(0.5))\n",
    "\n",
    "        # softmax classifier\n",
    "        model.add(Dense(num_classes))\n",
    "        model.add(Activation(\"softmax\"))\n",
    "\n",
    "        # return the constructed network architecture\n",
    "        return model\n",
    "\n",
    "# set model hyperparameters \n",
    "batch_size = 32 \n",
    "num_classes = 133 \n",
    "\n",
    "# build model\n",
    "model = CustomCNN.assemble(train_tensors.shape[1:], num_classes)\n",
    "\n",
    "model.summary()"
   ]
  },
  {
   "cell_type": "markdown",
   "metadata": {},
   "source": [
    "### Compile the Model"
   ]
  },
  {
   "cell_type": "code",
   "execution_count": 52,
   "metadata": {},
   "outputs": [],
   "source": [
    "model.compile(optimizer='rmsprop', loss='categorical_crossentropy', metrics=['accuracy'])"
   ]
  },
  {
   "cell_type": "markdown",
   "metadata": {},
   "source": [
    "### (IMPLEMENTATION) Train the Model\n",
    "\n",
    "Train your model in the code cell below.  Use model checkpointing to save the model that attains the best validation loss.\n",
    "\n",
    "You are welcome to [augment the training data](https://blog.keras.io/building-powerful-image-classification-models-using-very-little-data.html), but this is not a requirement. "
   ]
  },
  {
   "cell_type": "code",
   "execution_count": 53,
   "metadata": {
    "scrolled": false
   },
   "outputs": [
    {
     "name": "stdout",
     "output_type": "stream",
     "text": [
      "Train on 6680 samples, validate on 835 samples\n",
      "Epoch 1/7\n"
     ]
    },
    {
     "name": "stdout",
     "output_type": "stream",
     "text": [
      "4200/6680 [=================>............] - ETA: 20:46 - loss: 5.9378 - acc: 0.0000e+ - ETA: 10:48 - loss: 6.5126 - acc: 0.0500   - ETA: 7:28 - loss: 6.3262 - acc: 0.0333 - ETA: 5:48 - loss: 6.3286 - acc: 0.025 - ETA: 4:47 - loss: 6.4692 - acc: 0.020 - ETA: 4:07 - loss: 6.3393 - acc: 0.025 - ETA: 3:39 - loss: 6.2898 - acc: 0.028 - ETA: 3:17 - loss: 6.2042 - acc: 0.025 - ETA: 3:00 - loss: 6.1887 - acc: 0.022 - ETA: 2:47 - loss: 6.1793 - acc: 0.020 - ETA: 2:36 - loss: 6.1857 - acc: 0.018 - ETA: 2:26 - loss: 6.1315 - acc: 0.020 - ETA: 2:19 - loss: 6.1392 - acc: 0.023 - ETA: 2:12 - loss: 6.1276 - acc: 0.021 - ETA: 2:06 - loss: 6.1571 - acc: 0.020 - ETA: 2:01 - loss: 6.1817 - acc: 0.018 - ETA: 1:56 - loss: 6.1579 - acc: 0.017 - ETA: 1:52 - loss: 6.1661 - acc: 0.016 - ETA: 1:49 - loss: 6.1194 - acc: 0.015 - ETA: 1:45 - loss: 6.1205 - acc: 0.015 - ETA: 1:42 - loss: 6.0606 - acc: 0.014 - ETA: 1:39 - loss: 6.0774 - acc: 0.013 - ETA: 1:37 - loss: 6.0533 - acc: 0.013 - ETA: 1:35 - loss: 6.0521 - acc: 0.012 - ETA: 1:32 - loss: 6.0308 - acc: 0.012 - ETA: 1:30 - loss: 6.0327 - acc: 0.011 - ETA: 1:29 - loss: 6.0322 - acc: 0.011 - ETA: 1:27 - loss: 6.0279 - acc: 0.012 - ETA: 1:25 - loss: 6.0348 - acc: 0.012 - ETA: 1:24 - loss: 6.0327 - acc: 0.011 - ETA: 1:22 - loss: 6.0346 - acc: 0.011 - ETA: 1:21 - loss: 6.0240 - acc: 0.010 - ETA: 1:20 - loss: 6.0081 - acc: 0.010 - ETA: 1:18 - loss: 5.9819 - acc: 0.011 - ETA: 1:17 - loss: 5.9801 - acc: 0.011 - ETA: 1:16 - loss: 5.9726 - acc: 0.012 - ETA: 1:15 - loss: 5.9765 - acc: 0.012 - ETA: 1:14 - loss: 5.9780 - acc: 0.011 - ETA: 1:13 - loss: 5.9647 - acc: 0.011 - ETA: 1:12 - loss: 5.9546 - acc: 0.011 - ETA: 1:11 - loss: 5.9461 - acc: 0.011 - ETA: 1:10 - loss: 5.9304 - acc: 0.010 - ETA: 1:10 - loss: 5.9119 - acc: 0.010 - ETA: 1:09 - loss: 5.9083 - acc: 0.010 - ETA: 1:08 - loss: 5.9008 - acc: 0.010 - ETA: 1:07 - loss: 5.8964 - acc: 0.009 - ETA: 1:07 - loss: 5.8826 - acc: 0.010 - ETA: 1:06 - loss: 5.8657 - acc: 0.010 - ETA: 1:05 - loss: 5.8525 - acc: 0.010 - ETA: 1:05 - loss: 5.8449 - acc: 0.010 - ETA: 1:04 - loss: 5.8351 - acc: 0.010 - ETA: 1:03 - loss: 5.8292 - acc: 0.010 - ETA: 1:03 - loss: 5.8149 - acc: 0.010 - ETA: 1:02 - loss: 5.8066 - acc: 0.010 - ETA: 1:02 - loss: 5.7993 - acc: 0.010 - ETA: 1:01 - loss: 5.7903 - acc: 0.010 - ETA: 1:01 - loss: 5.7766 - acc: 0.010 - ETA: 1:00 - loss: 5.7731 - acc: 0.010 - ETA: 1:00 - loss: 5.7622 - acc: 0.010 - ETA: 59s - loss: 5.7561 - acc: 0.010 - ETA: 59s - loss: 5.7522 - acc: 0.00 - ETA: 58s - loss: 5.7329 - acc: 0.01 - ETA: 58s - loss: 5.7257 - acc: 0.01 - ETA: 57s - loss: 5.7261 - acc: 0.01 - ETA: 57s - loss: 5.7216 - acc: 0.01 - ETA: 56s - loss: 5.7177 - acc: 0.01 - ETA: 56s - loss: 5.7068 - acc: 0.01 - ETA: 55s - loss: 5.7028 - acc: 0.01 - ETA: 55s - loss: 5.6996 - acc: 0.01 - ETA: 55s - loss: 5.6918 - acc: 0.01 - ETA: 54s - loss: 5.6822 - acc: 0.01 - ETA: 54s - loss: 5.6797 - acc: 0.01 - ETA: 53s - loss: 5.6760 - acc: 0.01 - ETA: 53s - loss: 5.6683 - acc: 0.01 - ETA: 53s - loss: 5.6619 - acc: 0.01 - ETA: 52s - loss: 5.6562 - acc: 0.01 - ETA: 52s - loss: 5.6493 - acc: 0.01 - ETA: 52s - loss: 5.6418 - acc: 0.01 - ETA: 51s - loss: 5.6340 - acc: 0.01 - ETA: 51s - loss: 5.6291 - acc: 0.01 - ETA: 51s - loss: 5.6274 - acc: 0.01 - ETA: 50s - loss: 5.6202 - acc: 0.01 - ETA: 50s - loss: 5.6182 - acc: 0.01 - ETA: 50s - loss: 5.6141 - acc: 0.01 - ETA: 49s - loss: 5.6074 - acc: 0.01 - ETA: 49s - loss: 5.6017 - acc: 0.01 - ETA: 49s - loss: 5.6002 - acc: 0.01 - ETA: 48s - loss: 5.5923 - acc: 0.01 - ETA: 48s - loss: 5.5865 - acc: 0.01 - ETA: 48s - loss: 5.5825 - acc: 0.01 - ETA: 47s - loss: 5.5791 - acc: 0.01 - ETA: 47s - loss: 5.5742 - acc: 0.01 - ETA: 47s - loss: 5.5688 - acc: 0.01 - ETA: 46s - loss: 5.5649 - acc: 0.01 - ETA: 46s - loss: 5.5628 - acc: 0.01 - ETA: 46s - loss: 5.5581 - acc: 0.01 - ETA: 46s - loss: 5.5576 - acc: 0.01 - ETA: 45s - loss: 5.5556 - acc: 0.01 - ETA: 45s - loss: 5.5549 - acc: 0.01 - ETA: 45s - loss: 5.5515 - acc: 0.01 - ETA: 44s - loss: 5.5477 - acc: 0.01 - ETA: 44s - loss: 5.5467 - acc: 0.01 - ETA: 44s - loss: 5.5425 - acc: 0.01 - ETA: 44s - loss: 5.5384 - acc: 0.01 - ETA: 43s - loss: 5.5306 - acc: 0.01 - ETA: 43s - loss: 5.5317 - acc: 0.01 - ETA: 43s - loss: 5.5298 - acc: 0.01 - ETA: 43s - loss: 5.5245 - acc: 0.01 - ETA: 42s - loss: 5.5214 - acc: 0.01 - ETA: 42s - loss: 5.5187 - acc: 0.01 - ETA: 42s - loss: 5.5135 - acc: 0.01 - ETA: 42s - loss: 5.5135 - acc: 0.01 - ETA: 41s - loss: 5.5091 - acc: 0.01 - ETA: 41s - loss: 5.5083 - acc: 0.01 - ETA: 41s - loss: 5.5063 - acc: 0.01 - ETA: 41s - loss: 5.5028 - acc: 0.01 - ETA: 40s - loss: 5.5000 - acc: 0.01 - ETA: 40s - loss: 5.4973 - acc: 0.01 - ETA: 40s - loss: 5.4928 - acc: 0.01 - ETA: 40s - loss: 5.4909 - acc: 0.01 - ETA: 39s - loss: 5.4863 - acc: 0.01 - ETA: 39s - loss: 5.4789 - acc: 0.01 - ETA: 39s - loss: 5.4773 - acc: 0.01 - ETA: 39s - loss: 5.4767 - acc: 0.01 - ETA: 38s - loss: 5.4708 - acc: 0.01 - ETA: 38s - loss: 5.4704 - acc: 0.01 - ETA: 38s - loss: 5.4696 - acc: 0.01 - ETA: 38s - loss: 5.4670 - acc: 0.01 - ETA: 37s - loss: 5.4630 - acc: 0.01 - ETA: 37s - loss: 5.4639 - acc: 0.01 - ETA: 37s - loss: 5.4615 - acc: 0.01 - ETA: 37s - loss: 5.4557 - acc: 0.01 - ETA: 37s - loss: 5.4523 - acc: 0.01 - ETA: 36s - loss: 5.4504 - acc: 0.01 - ETA: 36s - loss: 5.4476 - acc: 0.01 - ETA: 36s - loss: 5.4440 - acc: 0.01 - ETA: 36s - loss: 5.4423 - acc: 0.01 - ETA: 35s - loss: 5.4397 - acc: 0.01 - ETA: 35s - loss: 5.4390 - acc: 0.01 - ETA: 35s - loss: 5.4350 - acc: 0.01 - ETA: 35s - loss: 5.4282 - acc: 0.01 - ETA: 35s - loss: 5.4243 - acc: 0.01 - ETA: 34s - loss: 5.4235 - acc: 0.01 - ETA: 34s - loss: 5.4226 - acc: 0.01 - ETA: 34s - loss: 5.4196 - acc: 0.01 - ETA: 34s - loss: 5.4188 - acc: 0.01 - ETA: 34s - loss: 5.4186 - acc: 0.01 - ETA: 33s - loss: 5.4158 - acc: 0.01 - ETA: 33s - loss: 5.4122 - acc: 0.01 - ETA: 33s - loss: 5.4106 - acc: 0.01 - ETA: 33s - loss: 5.4107 - acc: 0.01 - ETA: 32s - loss: 5.4084 - acc: 0.01 - ETA: 32s - loss: 5.4067 - acc: 0.01 - ETA: 32s - loss: 5.4024 - acc: 0.01 - ETA: 32s - loss: 5.4004 - acc: 0.01 - ETA: 32s - loss: 5.3992 - acc: 0.01 - ETA: 31s - loss: 5.3972 - acc: 0.01 - ETA: 31s - loss: 5.3956 - acc: 0.01 - ETA: 31s - loss: 5.3940 - acc: 0.01 - ETA: 31s - loss: 5.3919 - acc: 0.01 - ETA: 31s - loss: 5.3934 - acc: 0.01 - ETA: 30s - loss: 5.3943 - acc: 0.01 - ETA: 30s - loss: 5.3919 - acc: 0.01 - ETA: 30s - loss: 5.3905 - acc: 0.01 - ETA: 30s - loss: 5.3904 - acc: 0.01 - ETA: 30s - loss: 5.3903 - acc: 0.01 - ETA: 29s - loss: 5.3892 - acc: 0.01 - ETA: 29s - loss: 5.3901 - acc: 0.01 - ETA: 29s - loss: 5.3892 - acc: 0.01 - ETA: 29s - loss: 5.3862 - acc: 0.01 - ETA: 29s - loss: 5.3845 - acc: 0.01 - ETA: 28s - loss: 5.3813 - acc: 0.01 - ETA: 28s - loss: 5.3839 - acc: 0.01 - ETA: 28s - loss: 5.3832 - acc: 0.01 - ETA: 28s - loss: 5.3810 - acc: 0.01 - ETA: 28s - loss: 5.3838 - acc: 0.01 - ETA: 27s - loss: 5.3842 - acc: 0.01 - ETA: 27s - loss: 5.3830 - acc: 0.01 - ETA: 27s - loss: 5.3828 - acc: 0.01 - ETA: 27s - loss: 5.3821 - acc: 0.01 - ETA: 27s - loss: 5.3801 - acc: 0.01 - ETA: 26s - loss: 5.3786 - acc: 0.01 - ETA: 26s - loss: 5.3765 - acc: 0.01 - ETA: 26s - loss: 5.3766 - acc: 0.01 - ETA: 26s - loss: 5.3753 - acc: 0.01 - ETA: 26s - loss: 5.3722 - acc: 0.01 - ETA: 26s - loss: 5.3704 - acc: 0.01 - ETA: 25s - loss: 5.3698 - acc: 0.01 - ETA: 25s - loss: 5.3687 - acc: 0.01 - ETA: 25s - loss: 5.3686 - acc: 0.01 - ETA: 25s - loss: 5.3681 - acc: 0.01 - ETA: 25s - loss: 5.3677 - acc: 0.01 - ETA: 24s - loss: 5.3677 - acc: 0.01 - ETA: 24s - loss: 5.3665 - acc: 0.01 - ETA: 24s - loss: 5.3644 - acc: 0.01 - ETA: 24s - loss: 5.3659 - acc: 0.01 - ETA: 24s - loss: 5.3642 - acc: 0.01 - ETA: 23s - loss: 5.3615 - acc: 0.01 - ETA: 23s - loss: 5.3593 - acc: 0.01 - ETA: 23s - loss: 5.3570 - acc: 0.01 - ETA: 23s - loss: 5.3527 - acc: 0.01 - ETA: 23s - loss: 5.3515 - acc: 0.01 - ETA: 22s - loss: 5.3485 - acc: 0.01 - ETA: 22s - loss: 5.3454 - acc: 0.01 - ETA: 22s - loss: 5.3444 - acc: 0.01 - ETA: 22s - loss: 5.3432 - acc: 0.01 - ETA: 22s - loss: 5.3418 - acc: 0.01 - ETA: 22s - loss: 5.3422 - acc: 0.01 - ETA: 21s - loss: 5.3408 - acc: 0.01 - ETA: 21s - loss: 5.3410 - acc: 0.0140\b\b\b\b\b\b\b\b\b\b\b\b\b\b\b\b\b\b\b\b\b\b\b\b\b\b\b\b\b\b\b\b\b\b\b\b\b\b\b\b\b\b\b\b\b\b\b\b\b\b\b\b\b\b\b\b\b\b\b\b\b\b\b\b\b\b\b\b\b\b\b\b\b\b\b\b\b\b\b\b\b\b"
     ]
    },
    {
     "name": "stdout",
     "output_type": "stream",
     "text": [
      "6680/6680 [==============================] - ETA: 21s - loss: 5.3408 - acc: 0.01 - ETA: 21s - loss: 5.3383 - acc: 0.01 - ETA: 21s - loss: 5.3371 - acc: 0.01 - ETA: 20s - loss: 5.3367 - acc: 0.01 - ETA: 20s - loss: 5.3377 - acc: 0.01 - ETA: 20s - loss: 5.3373 - acc: 0.01 - ETA: 20s - loss: 5.3364 - acc: 0.01 - ETA: 20s - loss: 5.3353 - acc: 0.01 - ETA: 20s - loss: 5.3340 - acc: 0.01 - ETA: 19s - loss: 5.3342 - acc: 0.01 - ETA: 19s - loss: 5.3327 - acc: 0.01 - ETA: 19s - loss: 5.3315 - acc: 0.01 - ETA: 19s - loss: 5.3308 - acc: 0.01 - ETA: 19s - loss: 5.3299 - acc: 0.01 - ETA: 18s - loss: 5.3291 - acc: 0.01 - ETA: 18s - loss: 5.3263 - acc: 0.01 - ETA: 18s - loss: 5.3240 - acc: 0.01 - ETA: 18s - loss: 5.3214 - acc: 0.01 - ETA: 18s - loss: 5.3213 - acc: 0.01 - ETA: 18s - loss: 5.3207 - acc: 0.01 - ETA: 17s - loss: 5.3190 - acc: 0.01 - ETA: 17s - loss: 5.3179 - acc: 0.01 - ETA: 17s - loss: 5.3149 - acc: 0.01 - ETA: 17s - loss: 5.3162 - acc: 0.01 - ETA: 17s - loss: 5.3166 - acc: 0.01 - ETA: 16s - loss: 5.3155 - acc: 0.01 - ETA: 16s - loss: 5.3151 - acc: 0.01 - ETA: 16s - loss: 5.3139 - acc: 0.01 - ETA: 16s - loss: 5.3130 - acc: 0.01 - ETA: 16s - loss: 5.3104 - acc: 0.01 - ETA: 16s - loss: 5.3123 - acc: 0.01 - ETA: 15s - loss: 5.3108 - acc: 0.01 - ETA: 15s - loss: 5.3093 - acc: 0.01 - ETA: 15s - loss: 5.3090 - acc: 0.01 - ETA: 15s - loss: 5.3073 - acc: 0.01 - ETA: 15s - loss: 5.3060 - acc: 0.01 - ETA: 14s - loss: 5.3042 - acc: 0.01 - ETA: 14s - loss: 5.3032 - acc: 0.01 - ETA: 14s - loss: 5.3020 - acc: 0.01 - ETA: 14s - loss: 5.3004 - acc: 0.01 - ETA: 14s - loss: 5.2994 - acc: 0.01 - ETA: 14s - loss: 5.2984 - acc: 0.01 - ETA: 13s - loss: 5.2979 - acc: 0.01 - ETA: 13s - loss: 5.2986 - acc: 0.01 - ETA: 13s - loss: 5.2980 - acc: 0.01 - ETA: 13s - loss: 5.2966 - acc: 0.01 - ETA: 13s - loss: 5.2962 - acc: 0.01 - ETA: 13s - loss: 5.2971 - acc: 0.01 - ETA: 12s - loss: 5.2979 - acc: 0.01 - ETA: 12s - loss: 5.2966 - acc: 0.01 - ETA: 12s - loss: 5.2947 - acc: 0.01 - ETA: 12s - loss: 5.2945 - acc: 0.01 - ETA: 12s - loss: 5.2939 - acc: 0.01 - ETA: 12s - loss: 5.2924 - acc: 0.01 - ETA: 11s - loss: 5.2919 - acc: 0.01 - ETA: 11s - loss: 5.2921 - acc: 0.01 - ETA: 11s - loss: 5.2910 - acc: 0.01 - ETA: 11s - loss: 5.2914 - acc: 0.01 - ETA: 11s - loss: 5.2902 - acc: 0.01 - ETA: 10s - loss: 5.2917 - acc: 0.01 - ETA: 10s - loss: 5.2899 - acc: 0.01 - ETA: 10s - loss: 5.2890 - acc: 0.01 - ETA: 10s - loss: 5.2891 - acc: 0.01 - ETA: 10s - loss: 5.2879 - acc: 0.01 - ETA: 10s - loss: 5.2874 - acc: 0.01 - ETA: 9s - loss: 5.2853 - acc: 0.0139 - ETA: 9s - loss: 5.2853 - acc: 0.013 - ETA: 9s - loss: 5.2852 - acc: 0.013 - ETA: 9s - loss: 5.2844 - acc: 0.013 - ETA: 9s - loss: 5.2823 - acc: 0.014 - ETA: 9s - loss: 5.2822 - acc: 0.014 - ETA: 8s - loss: 5.2823 - acc: 0.014 - ETA: 8s - loss: 5.2814 - acc: 0.014 - ETA: 8s - loss: 5.2791 - acc: 0.014 - ETA: 8s - loss: 5.2793 - acc: 0.014 - ETA: 8s - loss: 5.2789 - acc: 0.014 - ETA: 8s - loss: 5.2779 - acc: 0.014 - ETA: 7s - loss: 5.2764 - acc: 0.014 - ETA: 7s - loss: 5.2753 - acc: 0.014 - ETA: 7s - loss: 5.2743 - acc: 0.014 - ETA: 7s - loss: 5.2739 - acc: 0.014 - ETA: 7s - loss: 5.2732 - acc: 0.014 - ETA: 6s - loss: 5.2736 - acc: 0.014 - ETA: 6s - loss: 5.2738 - acc: 0.014 - ETA: 6s - loss: 5.2755 - acc: 0.014 - ETA: 6s - loss: 5.2750 - acc: 0.014 - ETA: 6s - loss: 5.2753 - acc: 0.014 - ETA: 6s - loss: 5.2746 - acc: 0.014 - ETA: 5s - loss: 5.2740 - acc: 0.014 - ETA: 5s - loss: 5.2734 - acc: 0.014 - ETA: 5s - loss: 5.2711 - acc: 0.014 - ETA: 5s - loss: 5.2690 - acc: 0.014 - ETA: 5s - loss: 5.2680 - acc: 0.014 - ETA: 5s - loss: 5.2670 - acc: 0.014 - ETA: 4s - loss: 5.2660 - acc: 0.014 - ETA: 4s - loss: 5.2659 - acc: 0.014 - ETA: 4s - loss: 5.2664 - acc: 0.014 - ETA: 4s - loss: 5.2641 - acc: 0.014 - ETA: 4s - loss: 5.2630 - acc: 0.014 - ETA: 4s - loss: 5.2620 - acc: 0.014 - ETA: 3s - loss: 5.2609 - acc: 0.014 - ETA: 3s - loss: 5.2602 - acc: 0.014 - ETA: 3s - loss: 5.2590 - acc: 0.014 - ETA: 3s - loss: 5.2593 - acc: 0.014 - ETA: 3s - loss: 5.2588 - acc: 0.014 - ETA: 3s - loss: 5.2591 - acc: 0.014 - ETA: 2s - loss: 5.2581 - acc: 0.014 - ETA: 2s - loss: 5.2576 - acc: 0.014 - ETA: 2s - loss: 5.2575 - acc: 0.014 - ETA: 2s - loss: 5.2563 - acc: 0.014 - ETA: 2s - loss: 5.2545 - acc: 0.015 - ETA: 2s - loss: 5.2539 - acc: 0.015 - ETA: 1s - loss: 5.2538 - acc: 0.015 - ETA: 1s - loss: 5.2518 - acc: 0.015 - ETA: 1s - loss: 5.2523 - acc: 0.015 - ETA: 1s - loss: 5.2512 - acc: 0.015 - ETA: 1s - loss: 5.2497 - acc: 0.015 - ETA: 1s - loss: 5.2488 - acc: 0.015 - ETA: 0s - loss: 5.2468 - acc: 0.015 - ETA: 0s - loss: 5.2470 - acc: 0.015 - ETA: 0s - loss: 5.2463 - acc: 0.015 - ETA: 0s - loss: 5.2452 - acc: 0.015 - ETA: 0s - loss: 5.2441 - acc: 0.015 - 59s 9ms/step - loss: 5.2427 - acc: 0.0154 - val_loss: 7.9356 - val_acc: 0.0192\n",
      "\n",
      "Epoch 00001: val_loss improved from inf to 7.93564, saving model to ../saved_models/weights.best.from_scratch.hdf5\n",
      "Epoch 2/7\n"
     ]
    },
    {
     "name": "stdout",
     "output_type": "stream",
     "text": [
      "4280/6680 [==================>...........] - ETA: 1:02 - loss: 5.1849 - acc: 0.0000e+0 - ETA: 57s - loss: 5.1687 - acc: 0.0000e+0 - ETA: 55s - loss: 5.0409 - acc: 0.0000e+ - ETA: 54s - loss: 5.0474 - acc: 0.0000e+ - ETA: 53s - loss: 4.9639 - acc: 0.0000e+ - ETA: 53s - loss: 5.0336 - acc: 0.0000e+ - ETA: 53s - loss: 4.9913 - acc: 0.0000e+ - ETA: 52s - loss: 5.0365 - acc: 0.0000e+ - ETA: 52s - loss: 5.0831 - acc: 0.0056   - ETA: 52s - loss: 5.0878 - acc: 0.01 - ETA: 51s - loss: 5.0708 - acc: 0.00 - ETA: 51s - loss: 5.0373 - acc: 0.00 - ETA: 51s - loss: 5.0300 - acc: 0.01 - ETA: 51s - loss: 4.9961 - acc: 0.01 - ETA: 51s - loss: 4.9803 - acc: 0.01 - ETA: 50s - loss: 4.9861 - acc: 0.01 - ETA: 50s - loss: 4.9756 - acc: 0.01 - ETA: 50s - loss: 4.9778 - acc: 0.01 - ETA: 50s - loss: 4.9811 - acc: 0.01 - ETA: 50s - loss: 4.9869 - acc: 0.01 - ETA: 50s - loss: 4.9924 - acc: 0.01 - ETA: 49s - loss: 4.9947 - acc: 0.01 - ETA: 49s - loss: 4.9763 - acc: 0.01 - ETA: 49s - loss: 4.9877 - acc: 0.01 - ETA: 49s - loss: 4.9791 - acc: 0.01 - ETA: 49s - loss: 4.9862 - acc: 0.01 - ETA: 48s - loss: 4.9792 - acc: 0.01 - ETA: 48s - loss: 4.9751 - acc: 0.01 - ETA: 48s - loss: 4.9859 - acc: 0.01 - ETA: 48s - loss: 4.9817 - acc: 0.01 - ETA: 48s - loss: 4.9828 - acc: 0.01 - ETA: 48s - loss: 4.9758 - acc: 0.01 - ETA: 48s - loss: 4.9809 - acc: 0.01 - ETA: 47s - loss: 4.9800 - acc: 0.01 - ETA: 47s - loss: 4.9804 - acc: 0.01 - ETA: 47s - loss: 4.9679 - acc: 0.01 - ETA: 47s - loss: 4.9609 - acc: 0.01 - ETA: 47s - loss: 4.9613 - acc: 0.01 - ETA: 47s - loss: 4.9645 - acc: 0.01 - ETA: 46s - loss: 4.9564 - acc: 0.01 - ETA: 46s - loss: 4.9567 - acc: 0.01 - ETA: 46s - loss: 4.9581 - acc: 0.01 - ETA: 46s - loss: 4.9614 - acc: 0.01 - ETA: 46s - loss: 4.9573 - acc: 0.01 - ETA: 46s - loss: 4.9546 - acc: 0.01 - ETA: 45s - loss: 4.9514 - acc: 0.01 - ETA: 45s - loss: 4.9444 - acc: 0.01 - ETA: 45s - loss: 4.9398 - acc: 0.01 - ETA: 45s - loss: 4.9366 - acc: 0.01 - ETA: 45s - loss: 4.9377 - acc: 0.01 - ETA: 45s - loss: 4.9428 - acc: 0.01 - ETA: 44s - loss: 4.9410 - acc: 0.02 - ETA: 44s - loss: 4.9378 - acc: 0.01 - ETA: 44s - loss: 4.9369 - acc: 0.02 - ETA: 44s - loss: 4.9406 - acc: 0.02 - ETA: 44s - loss: 4.9435 - acc: 0.01 - ETA: 44s - loss: 4.9399 - acc: 0.02 - ETA: 43s - loss: 4.9431 - acc: 0.02 - ETA: 43s - loss: 4.9483 - acc: 0.02 - ETA: 43s - loss: 4.9535 - acc: 0.02 - ETA: 43s - loss: 4.9518 - acc: 0.01 - ETA: 43s - loss: 4.9492 - acc: 0.02 - ETA: 43s - loss: 4.9474 - acc: 0.02 - ETA: 43s - loss: 4.9492 - acc: 0.02 - ETA: 42s - loss: 4.9500 - acc: 0.02 - ETA: 42s - loss: 4.9489 - acc: 0.01 - ETA: 42s - loss: 4.9536 - acc: 0.01 - ETA: 42s - loss: 4.9580 - acc: 0.01 - ETA: 42s - loss: 4.9607 - acc: 0.01 - ETA: 42s - loss: 4.9595 - acc: 0.01 - ETA: 41s - loss: 4.9560 - acc: 0.01 - ETA: 41s - loss: 4.9512 - acc: 0.01 - ETA: 41s - loss: 4.9444 - acc: 0.01 - ETA: 41s - loss: 4.9414 - acc: 0.01 - ETA: 41s - loss: 4.9384 - acc: 0.01 - ETA: 41s - loss: 4.9390 - acc: 0.01 - ETA: 40s - loss: 4.9399 - acc: 0.01 - ETA: 40s - loss: 4.9408 - acc: 0.01 - ETA: 40s - loss: 4.9370 - acc: 0.01 - ETA: 40s - loss: 4.9338 - acc: 0.01 - ETA: 40s - loss: 4.9341 - acc: 0.01 - ETA: 40s - loss: 4.9340 - acc: 0.02 - ETA: 39s - loss: 4.9319 - acc: 0.01 - ETA: 39s - loss: 4.9347 - acc: 0.01 - ETA: 39s - loss: 4.9333 - acc: 0.01 - ETA: 39s - loss: 4.9318 - acc: 0.01 - ETA: 39s - loss: 4.9337 - acc: 0.01 - ETA: 39s - loss: 4.9330 - acc: 0.01 - ETA: 39s - loss: 4.9343 - acc: 0.01 - ETA: 38s - loss: 4.9314 - acc: 0.02 - ETA: 38s - loss: 4.9297 - acc: 0.02 - ETA: 38s - loss: 4.9276 - acc: 0.02 - ETA: 38s - loss: 4.9292 - acc: 0.01 - ETA: 38s - loss: 4.9261 - acc: 0.02 - ETA: 38s - loss: 4.9278 - acc: 0.02 - ETA: 37s - loss: 4.9316 - acc: 0.02 - ETA: 37s - loss: 4.9298 - acc: 0.02 - ETA: 37s - loss: 4.9265 - acc: 0.02 - ETA: 37s - loss: 4.9252 - acc: 0.02 - ETA: 37s - loss: 4.9235 - acc: 0.02 - ETA: 37s - loss: 4.9255 - acc: 0.01 - ETA: 36s - loss: 4.9267 - acc: 0.01 - ETA: 36s - loss: 4.9274 - acc: 0.01 - ETA: 36s - loss: 4.9287 - acc: 0.01 - ETA: 36s - loss: 4.9300 - acc: 0.01 - ETA: 36s - loss: 4.9277 - acc: 0.01 - ETA: 36s - loss: 4.9256 - acc: 0.01 - ETA: 35s - loss: 4.9259 - acc: 0.01 - ETA: 35s - loss: 4.9261 - acc: 0.01 - ETA: 35s - loss: 4.9236 - acc: 0.01 - ETA: 35s - loss: 4.9220 - acc: 0.01 - ETA: 35s - loss: 4.9190 - acc: 0.01 - ETA: 35s - loss: 4.9208 - acc: 0.01 - ETA: 35s - loss: 4.9222 - acc: 0.01 - ETA: 34s - loss: 4.9229 - acc: 0.01 - ETA: 34s - loss: 4.9222 - acc: 0.01 - ETA: 34s - loss: 4.9239 - acc: 0.01 - ETA: 34s - loss: 4.9258 - acc: 0.01 - ETA: 34s - loss: 4.9258 - acc: 0.01 - ETA: 34s - loss: 4.9264 - acc: 0.01 - ETA: 33s - loss: 4.9275 - acc: 0.01 - ETA: 33s - loss: 4.9291 - acc: 0.01 - ETA: 33s - loss: 4.9273 - acc: 0.01 - ETA: 33s - loss: 4.9281 - acc: 0.01 - ETA: 33s - loss: 4.9284 - acc: 0.01 - ETA: 33s - loss: 4.9275 - acc: 0.01 - ETA: 32s - loss: 4.9274 - acc: 0.01 - ETA: 32s - loss: 4.9277 - acc: 0.01 - ETA: 32s - loss: 4.9263 - acc: 0.01 - ETA: 32s - loss: 4.9261 - acc: 0.01 - ETA: 32s - loss: 4.9280 - acc: 0.01 - ETA: 32s - loss: 4.9271 - acc: 0.01 - ETA: 32s - loss: 4.9266 - acc: 0.01 - ETA: 31s - loss: 4.9257 - acc: 0.01 - ETA: 31s - loss: 4.9266 - acc: 0.01 - ETA: 31s - loss: 4.9262 - acc: 0.01 - ETA: 31s - loss: 4.9253 - acc: 0.01 - ETA: 31s - loss: 4.9241 - acc: 0.01 - ETA: 31s - loss: 4.9242 - acc: 0.01 - ETA: 30s - loss: 4.9245 - acc: 0.01 - ETA: 30s - loss: 4.9231 - acc: 0.01 - ETA: 30s - loss: 4.9232 - acc: 0.01 - ETA: 30s - loss: 4.9229 - acc: 0.01 - ETA: 30s - loss: 4.9217 - acc: 0.01 - ETA: 30s - loss: 4.9225 - acc: 0.01 - ETA: 29s - loss: 4.9206 - acc: 0.01 - ETA: 29s - loss: 4.9207 - acc: 0.01 - ETA: 29s - loss: 4.9214 - acc: 0.01 - ETA: 29s - loss: 4.9200 - acc: 0.01 - ETA: 29s - loss: 4.9185 - acc: 0.01 - ETA: 29s - loss: 4.9202 - acc: 0.01 - ETA: 28s - loss: 4.9212 - acc: 0.01 - ETA: 28s - loss: 4.9211 - acc: 0.01 - ETA: 28s - loss: 4.9221 - acc: 0.01 - ETA: 28s - loss: 4.9223 - acc: 0.01 - ETA: 28s - loss: 4.9210 - acc: 0.01 - ETA: 28s - loss: 4.9187 - acc: 0.01 - ETA: 28s - loss: 4.9177 - acc: 0.01 - ETA: 27s - loss: 4.9180 - acc: 0.01 - ETA: 27s - loss: 4.9188 - acc: 0.01 - ETA: 27s - loss: 4.9203 - acc: 0.01 - ETA: 27s - loss: 4.9185 - acc: 0.01 - ETA: 27s - loss: 4.9175 - acc: 0.01 - ETA: 27s - loss: 4.9182 - acc: 0.01 - ETA: 26s - loss: 4.9163 - acc: 0.01 - ETA: 26s - loss: 4.9158 - acc: 0.01 - ETA: 26s - loss: 4.9144 - acc: 0.01 - ETA: 26s - loss: 4.9141 - acc: 0.01 - ETA: 26s - loss: 4.9144 - acc: 0.01 - ETA: 26s - loss: 4.9149 - acc: 0.01 - ETA: 25s - loss: 4.9154 - acc: 0.01 - ETA: 25s - loss: 4.9158 - acc: 0.01 - ETA: 25s - loss: 4.9152 - acc: 0.01 - ETA: 25s - loss: 4.9150 - acc: 0.01 - ETA: 25s - loss: 4.9168 - acc: 0.01 - ETA: 25s - loss: 4.9170 - acc: 0.01 - ETA: 25s - loss: 4.9170 - acc: 0.01 - ETA: 24s - loss: 4.9164 - acc: 0.01 - ETA: 24s - loss: 4.9174 - acc: 0.01 - ETA: 24s - loss: 4.9188 - acc: 0.01 - ETA: 24s - loss: 4.9191 - acc: 0.01 - ETA: 24s - loss: 4.9189 - acc: 0.01 - ETA: 24s - loss: 4.9174 - acc: 0.01 - ETA: 23s - loss: 4.9176 - acc: 0.01 - ETA: 23s - loss: 4.9176 - acc: 0.01 - ETA: 23s - loss: 4.9163 - acc: 0.01 - ETA: 23s - loss: 4.9147 - acc: 0.01 - ETA: 23s - loss: 4.9147 - acc: 0.01 - ETA: 23s - loss: 4.9140 - acc: 0.01 - ETA: 22s - loss: 4.9140 - acc: 0.01 - ETA: 22s - loss: 4.9144 - acc: 0.01 - ETA: 22s - loss: 4.9132 - acc: 0.01 - ETA: 22s - loss: 4.9149 - acc: 0.01 - ETA: 22s - loss: 4.9133 - acc: 0.01 - ETA: 22s - loss: 4.9134 - acc: 0.01 - ETA: 21s - loss: 4.9119 - acc: 0.01 - ETA: 21s - loss: 4.9126 - acc: 0.01 - ETA: 21s - loss: 4.9132 - acc: 0.01 - ETA: 21s - loss: 4.9131 - acc: 0.01 - ETA: 21s - loss: 4.9121 - acc: 0.01 - ETA: 21s - loss: 4.9115 - acc: 0.01 - ETA: 21s - loss: 4.9130 - acc: 0.01 - ETA: 20s - loss: 4.9128 - acc: 0.01 - ETA: 20s - loss: 4.9112 - acc: 0.01 - ETA: 20s - loss: 4.9104 - acc: 0.01 - ETA: 20s - loss: 4.9108 - acc: 0.01 - ETA: 20s - loss: 4.9104 - acc: 0.01 - ETA: 20s - loss: 4.9101 - acc: 0.02 - ETA: 19s - loss: 4.9098 - acc: 0.02 - ETA: 19s - loss: 4.9085 - acc: 0.02 - ETA: 19s - loss: 4.9088 - acc: 0.02 - ETA: 19s - loss: 4.9085 - acc: 0.02 - ETA: 19s - loss: 4.9075 - acc: 0.02 - ETA: 19s - loss: 4.9063 - acc: 0.0203"
     ]
    },
    {
     "name": "stdout",
     "output_type": "stream",
     "text": [
      "6680/6680 [==============================] - ETA: 18s - loss: 4.9052 - acc: 0.02 - ETA: 18s - loss: 4.9047 - acc: 0.02 - ETA: 18s - loss: 4.9056 - acc: 0.02 - ETA: 18s - loss: 4.9062 - acc: 0.02 - ETA: 18s - loss: 4.9053 - acc: 0.02 - ETA: 18s - loss: 4.9064 - acc: 0.02 - ETA: 18s - loss: 4.9047 - acc: 0.02 - ETA: 17s - loss: 4.9032 - acc: 0.02 - ETA: 17s - loss: 4.9020 - acc: 0.02 - ETA: 17s - loss: 4.9008 - acc: 0.02 - ETA: 17s - loss: 4.8994 - acc: 0.02 - ETA: 17s - loss: 4.8989 - acc: 0.02 - ETA: 17s - loss: 4.8993 - acc: 0.02 - ETA: 16s - loss: 4.8975 - acc: 0.02 - ETA: 16s - loss: 4.8967 - acc: 0.02 - ETA: 16s - loss: 4.8967 - acc: 0.02 - ETA: 16s - loss: 4.8955 - acc: 0.02 - ETA: 16s - loss: 4.8961 - acc: 0.02 - ETA: 16s - loss: 4.8952 - acc: 0.02 - ETA: 15s - loss: 4.8955 - acc: 0.02 - ETA: 15s - loss: 4.8960 - acc: 0.02 - ETA: 15s - loss: 4.8952 - acc: 0.02 - ETA: 15s - loss: 4.8946 - acc: 0.02 - ETA: 15s - loss: 4.8948 - acc: 0.02 - ETA: 15s - loss: 4.8947 - acc: 0.02 - ETA: 14s - loss: 4.8952 - acc: 0.02 - ETA: 14s - loss: 4.8943 - acc: 0.02 - ETA: 14s - loss: 4.8954 - acc: 0.02 - ETA: 14s - loss: 4.8948 - acc: 0.02 - ETA: 14s - loss: 4.8936 - acc: 0.02 - ETA: 14s - loss: 4.8934 - acc: 0.02 - ETA: 14s - loss: 4.8942 - acc: 0.02 - ETA: 13s - loss: 4.8934 - acc: 0.02 - ETA: 13s - loss: 4.8923 - acc: 0.02 - ETA: 13s - loss: 4.8929 - acc: 0.02 - ETA: 13s - loss: 4.8921 - acc: 0.02 - ETA: 13s - loss: 4.8923 - acc: 0.02 - ETA: 13s - loss: 4.8924 - acc: 0.02 - ETA: 12s - loss: 4.8925 - acc: 0.02 - ETA: 12s - loss: 4.8918 - acc: 0.02 - ETA: 12s - loss: 4.8920 - acc: 0.02 - ETA: 12s - loss: 4.8913 - acc: 0.02 - ETA: 12s - loss: 4.8897 - acc: 0.02 - ETA: 12s - loss: 4.8901 - acc: 0.02 - ETA: 11s - loss: 4.8895 - acc: 0.02 - ETA: 11s - loss: 4.8895 - acc: 0.02 - ETA: 11s - loss: 4.8891 - acc: 0.02 - ETA: 11s - loss: 4.8897 - acc: 0.02 - ETA: 11s - loss: 4.8899 - acc: 0.02 - ETA: 11s - loss: 4.8901 - acc: 0.02 - ETA: 10s - loss: 4.8900 - acc: 0.02 - ETA: 10s - loss: 4.8899 - acc: 0.02 - ETA: 10s - loss: 4.8899 - acc: 0.02 - ETA: 10s - loss: 4.8890 - acc: 0.02 - ETA: 10s - loss: 4.8889 - acc: 0.02 - ETA: 10s - loss: 4.8887 - acc: 0.02 - ETA: 10s - loss: 4.8884 - acc: 0.02 - ETA: 9s - loss: 4.8880 - acc: 0.0235 - ETA: 9s - loss: 4.8880 - acc: 0.023 - ETA: 9s - loss: 4.8876 - acc: 0.023 - ETA: 9s - loss: 4.8882 - acc: 0.023 - ETA: 9s - loss: 4.8886 - acc: 0.023 - ETA: 9s - loss: 4.8868 - acc: 0.024 - ETA: 8s - loss: 4.8884 - acc: 0.023 - ETA: 8s - loss: 4.8893 - acc: 0.023 - ETA: 8s - loss: 4.8886 - acc: 0.023 - ETA: 8s - loss: 4.8889 - acc: 0.023 - ETA: 8s - loss: 4.8882 - acc: 0.023 - ETA: 8s - loss: 4.8887 - acc: 0.023 - ETA: 7s - loss: 4.8878 - acc: 0.023 - ETA: 7s - loss: 4.8878 - acc: 0.023 - ETA: 7s - loss: 4.8864 - acc: 0.023 - ETA: 7s - loss: 4.8862 - acc: 0.023 - ETA: 7s - loss: 4.8865 - acc: 0.023 - ETA: 7s - loss: 4.8856 - acc: 0.023 - ETA: 7s - loss: 4.8859 - acc: 0.023 - ETA: 6s - loss: 4.8853 - acc: 0.023 - ETA: 6s - loss: 4.8846 - acc: 0.023 - ETA: 6s - loss: 4.8844 - acc: 0.023 - ETA: 6s - loss: 4.8836 - acc: 0.023 - ETA: 6s - loss: 4.8833 - acc: 0.023 - ETA: 6s - loss: 4.8844 - acc: 0.023 - ETA: 5s - loss: 4.8843 - acc: 0.023 - ETA: 5s - loss: 4.8838 - acc: 0.023 - ETA: 5s - loss: 4.8837 - acc: 0.023 - ETA: 5s - loss: 4.8822 - acc: 0.023 - ETA: 5s - loss: 4.8823 - acc: 0.023 - ETA: 5s - loss: 4.8817 - acc: 0.023 - ETA: 4s - loss: 4.8812 - acc: 0.023 - ETA: 4s - loss: 4.8806 - acc: 0.023 - ETA: 4s - loss: 4.8800 - acc: 0.023 - ETA: 4s - loss: 4.8799 - acc: 0.023 - ETA: 4s - loss: 4.8800 - acc: 0.023 - ETA: 4s - loss: 4.8800 - acc: 0.023 - ETA: 3s - loss: 4.8792 - acc: 0.023 - ETA: 3s - loss: 4.8788 - acc: 0.023 - ETA: 3s - loss: 4.8782 - acc: 0.023 - ETA: 3s - loss: 4.8780 - acc: 0.023 - ETA: 3s - loss: 4.8778 - acc: 0.023 - ETA: 3s - loss: 4.8788 - acc: 0.023 - ETA: 3s - loss: 4.8784 - acc: 0.023 - ETA: 2s - loss: 4.8786 - acc: 0.023 - ETA: 2s - loss: 4.8787 - acc: 0.023 - ETA: 2s - loss: 4.8791 - acc: 0.023 - ETA: 2s - loss: 4.8783 - acc: 0.023 - ETA: 2s - loss: 4.8780 - acc: 0.023 - ETA: 2s - loss: 4.8773 - acc: 0.023 - ETA: 1s - loss: 4.8778 - acc: 0.023 - ETA: 1s - loss: 4.8768 - acc: 0.024 - ETA: 1s - loss: 4.8768 - acc: 0.023 - ETA: 1s - loss: 4.8755 - acc: 0.024 - ETA: 1s - loss: 4.8760 - acc: 0.023 - ETA: 1s - loss: 4.8761 - acc: 0.024 - ETA: 0s - loss: 4.8754 - acc: 0.024 - ETA: 0s - loss: 4.8749 - acc: 0.024 - ETA: 0s - loss: 4.8750 - acc: 0.023 - ETA: 0s - loss: 4.8752 - acc: 0.023 - ETA: 0s - loss: 4.8750 - acc: 0.023 - ETA: 0s - loss: 4.8754 - acc: 0.024 - 56s 8ms/step - loss: 4.8750 - acc: 0.0241 - val_loss: 4.8345 - val_acc: 0.0263\n",
      "\n",
      "Epoch 00002: val_loss improved from 7.93564 to 4.83451, saving model to ../saved_models/weights.best.from_scratch.hdf5\n",
      "Epoch 3/7\n"
     ]
    },
    {
     "name": "stdout",
     "output_type": "stream",
     "text": [
      "4300/6680 [==================>...........] - ETA: 1:05 - loss: 4.3907 - acc: 0.150 - ETA: 59s - loss: 4.6700 - acc: 0.075 - ETA: 57s - loss: 4.6316 - acc: 0.05 - ETA: 55s - loss: 4.7296 - acc: 0.03 - ETA: 55s - loss: 4.6879 - acc: 0.03 - ETA: 54s - loss: 4.6546 - acc: 0.03 - ETA: 53s - loss: 4.6692 - acc: 0.03 - ETA: 53s - loss: 4.6312 - acc: 0.04 - ETA: 53s - loss: 4.6477 - acc: 0.04 - ETA: 52s - loss: 4.6616 - acc: 0.04 - ETA: 52s - loss: 4.6637 - acc: 0.04 - ETA: 52s - loss: 4.6635 - acc: 0.05 - ETA: 52s - loss: 4.6990 - acc: 0.05 - ETA: 51s - loss: 4.6836 - acc: 0.05 - ETA: 51s - loss: 4.6849 - acc: 0.05 - ETA: 51s - loss: 4.6855 - acc: 0.05 - ETA: 51s - loss: 4.6850 - acc: 0.04 - ETA: 50s - loss: 4.6983 - acc: 0.04 - ETA: 50s - loss: 4.7059 - acc: 0.04 - ETA: 50s - loss: 4.6993 - acc: 0.04 - ETA: 50s - loss: 4.7080 - acc: 0.04 - ETA: 50s - loss: 4.7053 - acc: 0.04 - ETA: 49s - loss: 4.6987 - acc: 0.04 - ETA: 49s - loss: 4.7044 - acc: 0.04 - ETA: 49s - loss: 4.7142 - acc: 0.04 - ETA: 49s - loss: 4.7107 - acc: 0.04 - ETA: 49s - loss: 4.7105 - acc: 0.04 - ETA: 49s - loss: 4.6996 - acc: 0.04 - ETA: 48s - loss: 4.7056 - acc: 0.04 - ETA: 48s - loss: 4.7011 - acc: 0.04 - ETA: 48s - loss: 4.7044 - acc: 0.04 - ETA: 48s - loss: 4.7153 - acc: 0.04 - ETA: 48s - loss: 4.7170 - acc: 0.04 - ETA: 48s - loss: 4.7109 - acc: 0.04 - ETA: 47s - loss: 4.7092 - acc: 0.04 - ETA: 47s - loss: 4.7142 - acc: 0.04 - ETA: 47s - loss: 4.7186 - acc: 0.04 - ETA: 47s - loss: 4.7206 - acc: 0.04 - ETA: 47s - loss: 4.7134 - acc: 0.04 - ETA: 47s - loss: 4.7191 - acc: 0.04 - ETA: 46s - loss: 4.7221 - acc: 0.04 - ETA: 46s - loss: 4.7203 - acc: 0.04 - ETA: 46s - loss: 4.7229 - acc: 0.04 - ETA: 46s - loss: 4.7249 - acc: 0.04 - ETA: 46s - loss: 4.7283 - acc: 0.04 - ETA: 46s - loss: 4.7336 - acc: 0.04 - ETA: 45s - loss: 4.7294 - acc: 0.03 - ETA: 45s - loss: 4.7379 - acc: 0.03 - ETA: 45s - loss: 4.7415 - acc: 0.03 - ETA: 45s - loss: 4.7453 - acc: 0.03 - ETA: 45s - loss: 4.7371 - acc: 0.03 - ETA: 45s - loss: 4.7348 - acc: 0.03 - ETA: 44s - loss: 4.7272 - acc: 0.04 - ETA: 44s - loss: 4.7307 - acc: 0.04 - ETA: 44s - loss: 4.7273 - acc: 0.04 - ETA: 44s - loss: 4.7302 - acc: 0.04 - ETA: 44s - loss: 4.7330 - acc: 0.04 - ETA: 44s - loss: 4.7321 - acc: 0.03 - ETA: 43s - loss: 4.7321 - acc: 0.04 - ETA: 43s - loss: 4.7337 - acc: 0.04 - ETA: 43s - loss: 4.7335 - acc: 0.04 - ETA: 43s - loss: 4.7328 - acc: 0.04 - ETA: 43s - loss: 4.7307 - acc: 0.04 - ETA: 43s - loss: 4.7336 - acc: 0.04 - ETA: 42s - loss: 4.7347 - acc: 0.04 - ETA: 42s - loss: 4.7363 - acc: 0.04 - ETA: 42s - loss: 4.7369 - acc: 0.04 - ETA: 42s - loss: 4.7353 - acc: 0.04 - ETA: 42s - loss: 4.7356 - acc: 0.04 - ETA: 42s - loss: 4.7369 - acc: 0.04 - ETA: 42s - loss: 4.7358 - acc: 0.04 - ETA: 41s - loss: 4.7376 - acc: 0.04 - ETA: 41s - loss: 4.7396 - acc: 0.03 - ETA: 41s - loss: 4.7414 - acc: 0.03 - ETA: 41s - loss: 4.7418 - acc: 0.03 - ETA: 41s - loss: 4.7408 - acc: 0.03 - ETA: 41s - loss: 4.7401 - acc: 0.03 - ETA: 40s - loss: 4.7391 - acc: 0.03 - ETA: 40s - loss: 4.7368 - acc: 0.03 - ETA: 40s - loss: 4.7403 - acc: 0.03 - ETA: 40s - loss: 4.7363 - acc: 0.03 - ETA: 40s - loss: 4.7358 - acc: 0.03 - ETA: 40s - loss: 4.7361 - acc: 0.03 - ETA: 39s - loss: 4.7341 - acc: 0.03 - ETA: 39s - loss: 4.7383 - acc: 0.03 - ETA: 39s - loss: 4.7398 - acc: 0.03 - ETA: 39s - loss: 4.7367 - acc: 0.03 - ETA: 39s - loss: 4.7354 - acc: 0.03 - ETA: 39s - loss: 4.7344 - acc: 0.03 - ETA: 38s - loss: 4.7347 - acc: 0.03 - ETA: 38s - loss: 4.7344 - acc: 0.03 - ETA: 38s - loss: 4.7345 - acc: 0.03 - ETA: 38s - loss: 4.7355 - acc: 0.03 - ETA: 38s - loss: 4.7340 - acc: 0.03 - ETA: 38s - loss: 4.7331 - acc: 0.03 - ETA: 37s - loss: 4.7306 - acc: 0.03 - ETA: 37s - loss: 4.7316 - acc: 0.03 - ETA: 37s - loss: 4.7330 - acc: 0.03 - ETA: 37s - loss: 4.7322 - acc: 0.03 - ETA: 37s - loss: 4.7333 - acc: 0.03 - ETA: 37s - loss: 4.7345 - acc: 0.03 - ETA: 37s - loss: 4.7343 - acc: 0.03 - ETA: 36s - loss: 4.7318 - acc: 0.03 - ETA: 36s - loss: 4.7332 - acc: 0.03 - ETA: 36s - loss: 4.7330 - acc: 0.03 - ETA: 36s - loss: 4.7341 - acc: 0.03 - ETA: 36s - loss: 4.7361 - acc: 0.03 - ETA: 36s - loss: 4.7356 - acc: 0.03 - ETA: 35s - loss: 4.7344 - acc: 0.03 - ETA: 35s - loss: 4.7335 - acc: 0.03 - ETA: 35s - loss: 4.7335 - acc: 0.03 - ETA: 35s - loss: 4.7344 - acc: 0.03 - ETA: 35s - loss: 4.7326 - acc: 0.03 - ETA: 35s - loss: 4.7330 - acc: 0.03 - ETA: 34s - loss: 4.7328 - acc: 0.03 - ETA: 34s - loss: 4.7333 - acc: 0.03 - ETA: 34s - loss: 4.7306 - acc: 0.03 - ETA: 34s - loss: 4.7281 - acc: 0.03 - ETA: 34s - loss: 4.7270 - acc: 0.03 - ETA: 34s - loss: 4.7288 - acc: 0.03 - ETA: 33s - loss: 4.7303 - acc: 0.03 - ETA: 33s - loss: 4.7298 - acc: 0.03 - ETA: 33s - loss: 4.7269 - acc: 0.03 - ETA: 33s - loss: 4.7240 - acc: 0.03 - ETA: 33s - loss: 4.7236 - acc: 0.03 - ETA: 33s - loss: 4.7239 - acc: 0.03 - ETA: 33s - loss: 4.7235 - acc: 0.03 - ETA: 32s - loss: 4.7209 - acc: 0.03 - ETA: 32s - loss: 4.7213 - acc: 0.03 - ETA: 32s - loss: 4.7204 - acc: 0.03 - ETA: 32s - loss: 4.7190 - acc: 0.03 - ETA: 32s - loss: 4.7210 - acc: 0.03 - ETA: 32s - loss: 4.7222 - acc: 0.03 - ETA: 31s - loss: 4.7250 - acc: 0.03 - ETA: 31s - loss: 4.7231 - acc: 0.03 - ETA: 31s - loss: 4.7253 - acc: 0.03 - ETA: 31s - loss: 4.7260 - acc: 0.03 - ETA: 31s - loss: 4.7259 - acc: 0.03 - ETA: 31s - loss: 4.7247 - acc: 0.03 - ETA: 30s - loss: 4.7244 - acc: 0.03 - ETA: 30s - loss: 4.7255 - acc: 0.03 - ETA: 30s - loss: 4.7218 - acc: 0.03 - ETA: 30s - loss: 4.7220 - acc: 0.03 - ETA: 30s - loss: 4.7225 - acc: 0.03 - ETA: 30s - loss: 4.7201 - acc: 0.03 - ETA: 29s - loss: 4.7197 - acc: 0.03 - ETA: 29s - loss: 4.7175 - acc: 0.03 - ETA: 29s - loss: 4.7167 - acc: 0.03 - ETA: 29s - loss: 4.7141 - acc: 0.03 - ETA: 29s - loss: 4.7133 - acc: 0.03 - ETA: 29s - loss: 4.7119 - acc: 0.03 - ETA: 29s - loss: 4.7121 - acc: 0.03 - ETA: 28s - loss: 4.7119 - acc: 0.03 - ETA: 28s - loss: 4.7121 - acc: 0.03 - ETA: 28s - loss: 4.7117 - acc: 0.03 - ETA: 28s - loss: 4.7136 - acc: 0.03 - ETA: 28s - loss: 4.7124 - acc: 0.03 - ETA: 28s - loss: 4.7124 - acc: 0.03 - ETA: 27s - loss: 4.7115 - acc: 0.03 - ETA: 27s - loss: 4.7126 - acc: 0.03 - ETA: 27s - loss: 4.7128 - acc: 0.03 - ETA: 27s - loss: 4.7125 - acc: 0.03 - ETA: 27s - loss: 4.7117 - acc: 0.03 - ETA: 27s - loss: 4.7125 - acc: 0.03 - ETA: 26s - loss: 4.7117 - acc: 0.03 - ETA: 26s - loss: 4.7122 - acc: 0.03 - ETA: 26s - loss: 4.7126 - acc: 0.03 - ETA: 26s - loss: 4.7131 - acc: 0.03 - ETA: 26s - loss: 4.7104 - acc: 0.03 - ETA: 26s - loss: 4.7116 - acc: 0.03 - ETA: 25s - loss: 4.7108 - acc: 0.03 - ETA: 25s - loss: 4.7126 - acc: 0.03 - ETA: 25s - loss: 4.7130 - acc: 0.03 - ETA: 25s - loss: 4.7132 - acc: 0.03 - ETA: 25s - loss: 4.7128 - acc: 0.03 - ETA: 25s - loss: 4.7131 - acc: 0.03 - ETA: 25s - loss: 4.7107 - acc: 0.03 - ETA: 24s - loss: 4.7096 - acc: 0.03 - ETA: 24s - loss: 4.7094 - acc: 0.03 - ETA: 24s - loss: 4.7100 - acc: 0.03 - ETA: 24s - loss: 4.7091 - acc: 0.03 - ETA: 24s - loss: 4.7072 - acc: 0.03 - ETA: 24s - loss: 4.7076 - acc: 0.03 - ETA: 23s - loss: 4.7079 - acc: 0.03 - ETA: 23s - loss: 4.7081 - acc: 0.03 - ETA: 23s - loss: 4.7064 - acc: 0.03 - ETA: 23s - loss: 4.7048 - acc: 0.03 - ETA: 23s - loss: 4.7049 - acc: 0.03 - ETA: 23s - loss: 4.7063 - acc: 0.03 - ETA: 22s - loss: 4.7051 - acc: 0.03 - ETA: 22s - loss: 4.7048 - acc: 0.03 - ETA: 22s - loss: 4.7057 - acc: 0.03 - ETA: 22s - loss: 4.7058 - acc: 0.03 - ETA: 22s - loss: 4.7064 - acc: 0.03 - ETA: 22s - loss: 4.7057 - acc: 0.03 - ETA: 22s - loss: 4.7054 - acc: 0.03 - ETA: 21s - loss: 4.7059 - acc: 0.03 - ETA: 21s - loss: 4.7058 - acc: 0.03 - ETA: 21s - loss: 4.7075 - acc: 0.03 - ETA: 21s - loss: 4.7076 - acc: 0.03 - ETA: 21s - loss: 4.7072 - acc: 0.03 - ETA: 21s - loss: 4.7074 - acc: 0.03 - ETA: 20s - loss: 4.7070 - acc: 0.03 - ETA: 20s - loss: 4.7075 - acc: 0.03 - ETA: 20s - loss: 4.7070 - acc: 0.03 - ETA: 20s - loss: 4.7072 - acc: 0.03 - ETA: 20s - loss: 4.7077 - acc: 0.03 - ETA: 20s - loss: 4.7081 - acc: 0.03 - ETA: 19s - loss: 4.7085 - acc: 0.03 - ETA: 19s - loss: 4.7088 - acc: 0.03 - ETA: 19s - loss: 4.7075 - acc: 0.03 - ETA: 19s - loss: 4.7074 - acc: 0.03 - ETA: 19s - loss: 4.7074 - acc: 0.03 - ETA: 19s - loss: 4.7070 - acc: 0.03 - ETA: 18s - loss: 4.7059 - acc: 0.0365"
     ]
    },
    {
     "name": "stdout",
     "output_type": "stream",
     "text": [
      "6680/6680 [==============================] - ETA: 18s - loss: 4.7051 - acc: 0.03 - ETA: 18s - loss: 4.7042 - acc: 0.03 - ETA: 18s - loss: 4.7036 - acc: 0.03 - ETA: 18s - loss: 4.7037 - acc: 0.03 - ETA: 18s - loss: 4.7024 - acc: 0.03 - ETA: 18s - loss: 4.7037 - acc: 0.03 - ETA: 17s - loss: 4.7038 - acc: 0.03 - ETA: 17s - loss: 4.7032 - acc: 0.03 - ETA: 17s - loss: 4.7027 - acc: 0.03 - ETA: 17s - loss: 4.7023 - acc: 0.03 - ETA: 17s - loss: 4.7023 - acc: 0.03 - ETA: 17s - loss: 4.7023 - acc: 0.03 - ETA: 16s - loss: 4.7033 - acc: 0.03 - ETA: 16s - loss: 4.7047 - acc: 0.03 - ETA: 16s - loss: 4.7042 - acc: 0.03 - ETA: 16s - loss: 4.7034 - acc: 0.03 - ETA: 16s - loss: 4.7041 - acc: 0.03 - ETA: 16s - loss: 4.7043 - acc: 0.03 - ETA: 15s - loss: 4.7047 - acc: 0.03 - ETA: 15s - loss: 4.7045 - acc: 0.03 - ETA: 15s - loss: 4.7058 - acc: 0.03 - ETA: 15s - loss: 4.7064 - acc: 0.03 - ETA: 15s - loss: 4.7063 - acc: 0.03 - ETA: 15s - loss: 4.7048 - acc: 0.03 - ETA: 14s - loss: 4.7048 - acc: 0.03 - ETA: 14s - loss: 4.7048 - acc: 0.03 - ETA: 14s - loss: 4.7053 - acc: 0.03 - ETA: 14s - loss: 4.7063 - acc: 0.03 - ETA: 14s - loss: 4.7066 - acc: 0.03 - ETA: 14s - loss: 4.7066 - acc: 0.03 - ETA: 14s - loss: 4.7067 - acc: 0.03 - ETA: 13s - loss: 4.7065 - acc: 0.03 - ETA: 13s - loss: 4.7069 - acc: 0.03 - ETA: 13s - loss: 4.7063 - acc: 0.03 - ETA: 13s - loss: 4.7062 - acc: 0.03 - ETA: 13s - loss: 4.7076 - acc: 0.03 - ETA: 13s - loss: 4.7079 - acc: 0.03 - ETA: 12s - loss: 4.7069 - acc: 0.03 - ETA: 12s - loss: 4.7062 - acc: 0.03 - ETA: 12s - loss: 4.7064 - acc: 0.03 - ETA: 12s - loss: 4.7062 - acc: 0.03 - ETA: 12s - loss: 4.7050 - acc: 0.03 - ETA: 12s - loss: 4.7051 - acc: 0.03 - ETA: 11s - loss: 4.7049 - acc: 0.03 - ETA: 11s - loss: 4.7053 - acc: 0.03 - ETA: 11s - loss: 4.7047 - acc: 0.03 - ETA: 11s - loss: 4.7035 - acc: 0.03 - ETA: 11s - loss: 4.7040 - acc: 0.03 - ETA: 11s - loss: 4.7036 - acc: 0.03 - ETA: 11s - loss: 4.7024 - acc: 0.03 - ETA: 10s - loss: 4.7014 - acc: 0.03 - ETA: 10s - loss: 4.7009 - acc: 0.03 - ETA: 10s - loss: 4.7007 - acc: 0.03 - ETA: 10s - loss: 4.7007 - acc: 0.03 - ETA: 10s - loss: 4.7006 - acc: 0.03 - ETA: 10s - loss: 4.7005 - acc: 0.03 - ETA: 9s - loss: 4.7007 - acc: 0.0357 - ETA: 9s - loss: 4.7003 - acc: 0.035 - ETA: 9s - loss: 4.7011 - acc: 0.035 - ETA: 9s - loss: 4.7019 - acc: 0.035 - ETA: 9s - loss: 4.7014 - acc: 0.035 - ETA: 9s - loss: 4.7023 - acc: 0.035 - ETA: 8s - loss: 4.7024 - acc: 0.035 - ETA: 8s - loss: 4.7029 - acc: 0.035 - ETA: 8s - loss: 4.7018 - acc: 0.035 - ETA: 8s - loss: 4.7011 - acc: 0.035 - ETA: 8s - loss: 4.7005 - acc: 0.035 - ETA: 8s - loss: 4.7004 - acc: 0.035 - ETA: 7s - loss: 4.6998 - acc: 0.035 - ETA: 7s - loss: 4.6998 - acc: 0.035 - ETA: 7s - loss: 4.6996 - acc: 0.035 - ETA: 7s - loss: 4.7005 - acc: 0.035 - ETA: 7s - loss: 4.7011 - acc: 0.035 - ETA: 7s - loss: 4.7015 - acc: 0.034 - ETA: 7s - loss: 4.7020 - acc: 0.034 - ETA: 6s - loss: 4.7026 - acc: 0.034 - ETA: 6s - loss: 4.7025 - acc: 0.034 - ETA: 6s - loss: 4.7033 - acc: 0.034 - ETA: 6s - loss: 4.7042 - acc: 0.034 - ETA: 6s - loss: 4.7041 - acc: 0.034 - ETA: 6s - loss: 4.7038 - acc: 0.034 - ETA: 5s - loss: 4.7031 - acc: 0.034 - ETA: 5s - loss: 4.7029 - acc: 0.034 - ETA: 5s - loss: 4.7032 - acc: 0.034 - ETA: 5s - loss: 4.7033 - acc: 0.034 - ETA: 5s - loss: 4.7047 - acc: 0.034 - ETA: 5s - loss: 4.7052 - acc: 0.033 - ETA: 4s - loss: 4.7057 - acc: 0.034 - ETA: 4s - loss: 4.7052 - acc: 0.034 - ETA: 4s - loss: 4.7052 - acc: 0.034 - ETA: 4s - loss: 4.7045 - acc: 0.034 - ETA: 4s - loss: 4.7040 - acc: 0.034 - ETA: 4s - loss: 4.7040 - acc: 0.034 - ETA: 3s - loss: 4.7043 - acc: 0.034 - ETA: 3s - loss: 4.7034 - acc: 0.034 - ETA: 3s - loss: 4.7036 - acc: 0.034 - ETA: 3s - loss: 4.7034 - acc: 0.034 - ETA: 3s - loss: 4.7025 - acc: 0.034 - ETA: 3s - loss: 4.7021 - acc: 0.034 - ETA: 3s - loss: 4.7022 - acc: 0.034 - ETA: 2s - loss: 4.7022 - acc: 0.034 - ETA: 2s - loss: 4.7022 - acc: 0.034 - ETA: 2s - loss: 4.7012 - acc: 0.034 - ETA: 2s - loss: 4.7003 - acc: 0.035 - ETA: 2s - loss: 4.7007 - acc: 0.035 - ETA: 2s - loss: 4.7011 - acc: 0.034 - ETA: 1s - loss: 4.7006 - acc: 0.034 - ETA: 1s - loss: 4.7014 - acc: 0.035 - ETA: 1s - loss: 4.7012 - acc: 0.035 - ETA: 1s - loss: 4.7007 - acc: 0.034 - ETA: 1s - loss: 4.7003 - acc: 0.035 - ETA: 1s - loss: 4.6999 - acc: 0.035 - ETA: 0s - loss: 4.7002 - acc: 0.034 - ETA: 0s - loss: 4.7007 - acc: 0.035 - ETA: 0s - loss: 4.7004 - acc: 0.035 - ETA: 0s - loss: 4.6998 - acc: 0.035 - ETA: 0s - loss: 4.6993 - acc: 0.035 - ETA: 0s - loss: 4.7003 - acc: 0.035 - 56s 8ms/step - loss: 4.7004 - acc: 0.0350 - val_loss: 5.0846 - val_acc: 0.0204\n",
      "\n",
      "Epoch 00003: val_loss did not improve from 4.83451\n",
      "Epoch 4/7\n"
     ]
    },
    {
     "name": "stdout",
     "output_type": "stream",
     "text": [
      "4300/6680 [==================>...........] - ETA: 52s - loss: 4.7850 - acc: 0.05 - ETA: 52s - loss: 4.7161 - acc: 0.05 - ETA: 52s - loss: 4.7485 - acc: 0.03 - ETA: 52s - loss: 4.7604 - acc: 0.03 - ETA: 52s - loss: 4.6527 - acc: 0.04 - ETA: 52s - loss: 4.6251 - acc: 0.05 - ETA: 52s - loss: 4.6561 - acc: 0.04 - ETA: 51s - loss: 4.6618 - acc: 0.04 - ETA: 51s - loss: 4.6227 - acc: 0.03 - ETA: 51s - loss: 4.6147 - acc: 0.03 - ETA: 51s - loss: 4.6264 - acc: 0.03 - ETA: 51s - loss: 4.6237 - acc: 0.02 - ETA: 51s - loss: 4.6211 - acc: 0.02 - ETA: 51s - loss: 4.6073 - acc: 0.03 - ETA: 50s - loss: 4.5901 - acc: 0.03 - ETA: 50s - loss: 4.5653 - acc: 0.04 - ETA: 50s - loss: 4.5641 - acc: 0.03 - ETA: 50s - loss: 4.5528 - acc: 0.04 - ETA: 50s - loss: 4.5417 - acc: 0.04 - ETA: 50s - loss: 4.5348 - acc: 0.04 - ETA: 49s - loss: 4.5340 - acc: 0.04 - ETA: 49s - loss: 4.5387 - acc: 0.04 - ETA: 49s - loss: 4.5334 - acc: 0.04 - ETA: 49s - loss: 4.5250 - acc: 0.04 - ETA: 49s - loss: 4.5233 - acc: 0.05 - ETA: 49s - loss: 4.5204 - acc: 0.05 - ETA: 48s - loss: 4.5067 - acc: 0.04 - ETA: 48s - loss: 4.4955 - acc: 0.04 - ETA: 48s - loss: 4.5087 - acc: 0.05 - ETA: 48s - loss: 4.5045 - acc: 0.05 - ETA: 48s - loss: 4.5074 - acc: 0.05 - ETA: 48s - loss: 4.5122 - acc: 0.05 - ETA: 47s - loss: 4.5091 - acc: 0.05 - ETA: 47s - loss: 4.5166 - acc: 0.05 - ETA: 47s - loss: 4.5259 - acc: 0.05 - ETA: 47s - loss: 4.5301 - acc: 0.05 - ETA: 47s - loss: 4.5296 - acc: 0.05 - ETA: 47s - loss: 4.5270 - acc: 0.05 - ETA: 47s - loss: 4.5251 - acc: 0.05 - ETA: 46s - loss: 4.5314 - acc: 0.05 - ETA: 46s - loss: 4.5321 - acc: 0.05 - ETA: 46s - loss: 4.5302 - acc: 0.05 - ETA: 46s - loss: 4.5295 - acc: 0.05 - ETA: 46s - loss: 4.5390 - acc: 0.05 - ETA: 46s - loss: 4.5391 - acc: 0.05 - ETA: 45s - loss: 4.5455 - acc: 0.05 - ETA: 45s - loss: 4.5423 - acc: 0.05 - ETA: 45s - loss: 4.5496 - acc: 0.05 - ETA: 45s - loss: 4.5481 - acc: 0.05 - ETA: 45s - loss: 4.5508 - acc: 0.05 - ETA: 45s - loss: 4.5472 - acc: 0.05 - ETA: 44s - loss: 4.5433 - acc: 0.05 - ETA: 44s - loss: 4.5461 - acc: 0.05 - ETA: 44s - loss: 4.5450 - acc: 0.05 - ETA: 44s - loss: 4.5516 - acc: 0.05 - ETA: 44s - loss: 4.5500 - acc: 0.05 - ETA: 44s - loss: 4.5499 - acc: 0.05 - ETA: 44s - loss: 4.5504 - acc: 0.05 - ETA: 43s - loss: 4.5543 - acc: 0.05 - ETA: 43s - loss: 4.5492 - acc: 0.05 - ETA: 43s - loss: 4.5499 - acc: 0.05 - ETA: 43s - loss: 4.5465 - acc: 0.05 - ETA: 43s - loss: 4.5448 - acc: 0.05 - ETA: 43s - loss: 4.5477 - acc: 0.05 - ETA: 42s - loss: 4.5466 - acc: 0.05 - ETA: 42s - loss: 4.5505 - acc: 0.05 - ETA: 42s - loss: 4.5511 - acc: 0.05 - ETA: 42s - loss: 4.5499 - acc: 0.05 - ETA: 42s - loss: 4.5482 - acc: 0.05 - ETA: 42s - loss: 4.5513 - acc: 0.05 - ETA: 41s - loss: 4.5534 - acc: 0.05 - ETA: 41s - loss: 4.5600 - acc: 0.05 - ETA: 41s - loss: 4.5597 - acc: 0.05 - ETA: 41s - loss: 4.5582 - acc: 0.04 - ETA: 41s - loss: 4.5602 - acc: 0.04 - ETA: 41s - loss: 4.5614 - acc: 0.04 - ETA: 40s - loss: 4.5624 - acc: 0.04 - ETA: 40s - loss: 4.5633 - acc: 0.04 - ETA: 40s - loss: 4.5694 - acc: 0.05 - ETA: 40s - loss: 4.5688 - acc: 0.05 - ETA: 40s - loss: 4.5680 - acc: 0.05 - ETA: 40s - loss: 4.5725 - acc: 0.04 - ETA: 40s - loss: 4.5773 - acc: 0.05 - ETA: 39s - loss: 4.5790 - acc: 0.04 - ETA: 39s - loss: 4.5823 - acc: 0.04 - ETA: 39s - loss: 4.5807 - acc: 0.05 - ETA: 39s - loss: 4.5805 - acc: 0.05 - ETA: 39s - loss: 4.5813 - acc: 0.05 - ETA: 39s - loss: 4.5818 - acc: 0.04 - ETA: 38s - loss: 4.5834 - acc: 0.04 - ETA: 38s - loss: 4.5878 - acc: 0.04 - ETA: 38s - loss: 4.5875 - acc: 0.04 - ETA: 38s - loss: 4.5816 - acc: 0.05 - ETA: 38s - loss: 4.5839 - acc: 0.05 - ETA: 38s - loss: 4.5908 - acc: 0.05 - ETA: 37s - loss: 4.5899 - acc: 0.05 - ETA: 37s - loss: 4.5926 - acc: 0.05 - ETA: 37s - loss: 4.5944 - acc: 0.05 - ETA: 37s - loss: 4.5950 - acc: 0.05 - ETA: 37s - loss: 4.5952 - acc: 0.05 - ETA: 37s - loss: 4.6018 - acc: 0.05 - ETA: 36s - loss: 4.5976 - acc: 0.05 - ETA: 36s - loss: 4.5975 - acc: 0.05 - ETA: 36s - loss: 4.5970 - acc: 0.05 - ETA: 36s - loss: 4.5982 - acc: 0.05 - ETA: 36s - loss: 4.6014 - acc: 0.05 - ETA: 36s - loss: 4.5995 - acc: 0.05 - ETA: 36s - loss: 4.5983 - acc: 0.05 - ETA: 35s - loss: 4.5964 - acc: 0.05 - ETA: 35s - loss: 4.5957 - acc: 0.05 - ETA: 35s - loss: 4.5961 - acc: 0.05 - ETA: 35s - loss: 4.5980 - acc: 0.05 - ETA: 35s - loss: 4.5967 - acc: 0.05 - ETA: 35s - loss: 4.5969 - acc: 0.05 - ETA: 34s - loss: 4.5992 - acc: 0.05 - ETA: 34s - loss: 4.6003 - acc: 0.05 - ETA: 34s - loss: 4.6031 - acc: 0.05 - ETA: 34s - loss: 4.6027 - acc: 0.05 - ETA: 34s - loss: 4.6043 - acc: 0.05 - ETA: 34s - loss: 4.6087 - acc: 0.05 - ETA: 33s - loss: 4.6091 - acc: 0.05 - ETA: 33s - loss: 4.6089 - acc: 0.04 - ETA: 33s - loss: 4.6094 - acc: 0.05 - ETA: 33s - loss: 4.6105 - acc: 0.05 - ETA: 33s - loss: 4.6117 - acc: 0.04 - ETA: 33s - loss: 4.6139 - acc: 0.04 - ETA: 33s - loss: 4.6142 - acc: 0.04 - ETA: 32s - loss: 4.6174 - acc: 0.04 - ETA: 32s - loss: 4.6154 - acc: 0.04 - ETA: 32s - loss: 4.6175 - acc: 0.04 - ETA: 32s - loss: 4.6179 - acc: 0.04 - ETA: 32s - loss: 4.6240 - acc: 0.04 - ETA: 32s - loss: 4.6248 - acc: 0.04 - ETA: 31s - loss: 4.6251 - acc: 0.04 - ETA: 31s - loss: 4.6258 - acc: 0.04 - ETA: 31s - loss: 4.6268 - acc: 0.04 - ETA: 31s - loss: 4.6284 - acc: 0.04 - ETA: 31s - loss: 4.6273 - acc: 0.04 - ETA: 31s - loss: 4.6285 - acc: 0.04 - ETA: 30s - loss: 4.6293 - acc: 0.04 - ETA: 30s - loss: 4.6300 - acc: 0.04 - ETA: 30s - loss: 4.6310 - acc: 0.04 - ETA: 30s - loss: 4.6321 - acc: 0.04 - ETA: 30s - loss: 4.6320 - acc: 0.04 - ETA: 30s - loss: 4.6306 - acc: 0.04 - ETA: 29s - loss: 4.6305 - acc: 0.04 - ETA: 29s - loss: 4.6317 - acc: 0.04 - ETA: 29s - loss: 4.6322 - acc: 0.04 - ETA: 29s - loss: 4.6364 - acc: 0.04 - ETA: 29s - loss: 4.6355 - acc: 0.04 - ETA: 29s - loss: 4.6339 - acc: 0.04 - ETA: 29s - loss: 4.6358 - acc: 0.04 - ETA: 28s - loss: 4.6328 - acc: 0.04 - ETA: 28s - loss: 4.6370 - acc: 0.04 - ETA: 28s - loss: 4.6384 - acc: 0.04 - ETA: 28s - loss: 4.6364 - acc: 0.04 - ETA: 28s - loss: 4.6376 - acc: 0.04 - ETA: 28s - loss: 4.6416 - acc: 0.04 - ETA: 27s - loss: 4.6396 - acc: 0.04 - ETA: 27s - loss: 4.6410 - acc: 0.04 - ETA: 27s - loss: 4.6425 - acc: 0.04 - ETA: 27s - loss: 4.6437 - acc: 0.04 - ETA: 27s - loss: 4.6454 - acc: 0.04 - ETA: 27s - loss: 4.6446 - acc: 0.04 - ETA: 26s - loss: 4.6431 - acc: 0.04 - ETA: 26s - loss: 4.6434 - acc: 0.04 - ETA: 26s - loss: 4.6453 - acc: 0.04 - ETA: 26s - loss: 4.6454 - acc: 0.04 - ETA: 26s - loss: 4.6473 - acc: 0.04 - ETA: 26s - loss: 4.6469 - acc: 0.04 - ETA: 26s - loss: 4.6476 - acc: 0.04 - ETA: 25s - loss: 4.6462 - acc: 0.04 - ETA: 25s - loss: 4.6473 - acc: 0.04 - ETA: 25s - loss: 4.6479 - acc: 0.04 - ETA: 25s - loss: 4.6478 - acc: 0.04 - ETA: 25s - loss: 4.6492 - acc: 0.04 - ETA: 25s - loss: 4.6499 - acc: 0.04 - ETA: 24s - loss: 4.6497 - acc: 0.04 - ETA: 24s - loss: 4.6500 - acc: 0.04 - ETA: 24s - loss: 4.6470 - acc: 0.04 - ETA: 24s - loss: 4.6474 - acc: 0.04 - ETA: 24s - loss: 4.6471 - acc: 0.04 - ETA: 24s - loss: 4.6473 - acc: 0.04 - ETA: 23s - loss: 4.6483 - acc: 0.04 - ETA: 23s - loss: 4.6480 - acc: 0.04 - ETA: 23s - loss: 4.6488 - acc: 0.04 - ETA: 23s - loss: 4.6492 - acc: 0.04 - ETA: 23s - loss: 4.6483 - acc: 0.04 - ETA: 23s - loss: 4.6488 - acc: 0.04 - ETA: 22s - loss: 4.6514 - acc: 0.04 - ETA: 22s - loss: 4.6512 - acc: 0.04 - ETA: 22s - loss: 4.6503 - acc: 0.04 - ETA: 22s - loss: 4.6503 - acc: 0.04 - ETA: 22s - loss: 4.6499 - acc: 0.04 - ETA: 22s - loss: 4.6490 - acc: 0.04 - ETA: 22s - loss: 4.6510 - acc: 0.04 - ETA: 21s - loss: 4.6502 - acc: 0.04 - ETA: 21s - loss: 4.6499 - acc: 0.04 - ETA: 21s - loss: 4.6503 - acc: 0.04 - ETA: 21s - loss: 4.6509 - acc: 0.04 - ETA: 21s - loss: 4.6498 - acc: 0.04 - ETA: 21s - loss: 4.6495 - acc: 0.04 - ETA: 20s - loss: 4.6493 - acc: 0.04 - ETA: 20s - loss: 4.6495 - acc: 0.04 - ETA: 20s - loss: 4.6481 - acc: 0.04 - ETA: 20s - loss: 4.6486 - acc: 0.04 - ETA: 20s - loss: 4.6479 - acc: 0.04 - ETA: 20s - loss: 4.6480 - acc: 0.04 - ETA: 19s - loss: 4.6506 - acc: 0.04 - ETA: 19s - loss: 4.6504 - acc: 0.04 - ETA: 19s - loss: 4.6516 - acc: 0.04 - ETA: 19s - loss: 4.6519 - acc: 0.04 - ETA: 19s - loss: 4.6520 - acc: 0.04 - ETA: 19s - loss: 4.6522 - acc: 0.04 - ETA: 18s - loss: 4.6537 - acc: 0.0477"
     ]
    },
    {
     "name": "stdout",
     "output_type": "stream",
     "text": [
      "6680/6680 [==============================] - ETA: 18s - loss: 4.6534 - acc: 0.04 - ETA: 18s - loss: 4.6520 - acc: 0.04 - ETA: 18s - loss: 4.6526 - acc: 0.04 - ETA: 18s - loss: 4.6549 - acc: 0.04 - ETA: 18s - loss: 4.6569 - acc: 0.04 - ETA: 18s - loss: 4.6556 - acc: 0.04 - ETA: 17s - loss: 4.6560 - acc: 0.04 - ETA: 17s - loss: 4.6539 - acc: 0.04 - ETA: 17s - loss: 4.6526 - acc: 0.04 - ETA: 17s - loss: 4.6546 - acc: 0.04 - ETA: 17s - loss: 4.6553 - acc: 0.04 - ETA: 17s - loss: 4.6548 - acc: 0.04 - ETA: 16s - loss: 4.6545 - acc: 0.04 - ETA: 16s - loss: 4.6530 - acc: 0.04 - ETA: 16s - loss: 4.6531 - acc: 0.04 - ETA: 16s - loss: 4.6522 - acc: 0.04 - ETA: 16s - loss: 4.6535 - acc: 0.04 - ETA: 16s - loss: 4.6544 - acc: 0.04 - ETA: 15s - loss: 4.6542 - acc: 0.04 - ETA: 15s - loss: 4.6538 - acc: 0.04 - ETA: 15s - loss: 4.6552 - acc: 0.04 - ETA: 15s - loss: 4.6558 - acc: 0.04 - ETA: 15s - loss: 4.6552 - acc: 0.04 - ETA: 15s - loss: 4.6540 - acc: 0.04 - ETA: 15s - loss: 4.6545 - acc: 0.04 - ETA: 14s - loss: 4.6549 - acc: 0.04 - ETA: 14s - loss: 4.6554 - acc: 0.04 - ETA: 14s - loss: 4.6560 - acc: 0.04 - ETA: 14s - loss: 4.6547 - acc: 0.04 - ETA: 14s - loss: 4.6547 - acc: 0.04 - ETA: 14s - loss: 4.6567 - acc: 0.04 - ETA: 13s - loss: 4.6561 - acc: 0.04 - ETA: 13s - loss: 4.6550 - acc: 0.04 - ETA: 13s - loss: 4.6529 - acc: 0.04 - ETA: 13s - loss: 4.6538 - acc: 0.04 - ETA: 13s - loss: 4.6542 - acc: 0.04 - ETA: 13s - loss: 4.6539 - acc: 0.04 - ETA: 12s - loss: 4.6537 - acc: 0.04 - ETA: 12s - loss: 4.6540 - acc: 0.04 - ETA: 12s - loss: 4.6548 - acc: 0.04 - ETA: 12s - loss: 4.6545 - acc: 0.04 - ETA: 12s - loss: 4.6539 - acc: 0.04 - ETA: 12s - loss: 4.6553 - acc: 0.04 - ETA: 11s - loss: 4.6546 - acc: 0.04 - ETA: 11s - loss: 4.6544 - acc: 0.04 - ETA: 11s - loss: 4.6547 - acc: 0.04 - ETA: 11s - loss: 4.6555 - acc: 0.04 - ETA: 11s - loss: 4.6556 - acc: 0.04 - ETA: 11s - loss: 4.6562 - acc: 0.04 - ETA: 11s - loss: 4.6562 - acc: 0.04 - ETA: 10s - loss: 4.6556 - acc: 0.04 - ETA: 10s - loss: 4.6565 - acc: 0.04 - ETA: 10s - loss: 4.6552 - acc: 0.04 - ETA: 10s - loss: 4.6539 - acc: 0.04 - ETA: 10s - loss: 4.6555 - acc: 0.04 - ETA: 10s - loss: 4.6545 - acc: 0.04 - ETA: 9s - loss: 4.6555 - acc: 0.0460 - ETA: 9s - loss: 4.6554 - acc: 0.046 - ETA: 9s - loss: 4.6552 - acc: 0.045 - ETA: 9s - loss: 4.6554 - acc: 0.045 - ETA: 9s - loss: 4.6554 - acc: 0.045 - ETA: 9s - loss: 4.6554 - acc: 0.045 - ETA: 8s - loss: 4.6560 - acc: 0.045 - ETA: 8s - loss: 4.6573 - acc: 0.045 - ETA: 8s - loss: 4.6582 - acc: 0.045 - ETA: 8s - loss: 4.6580 - acc: 0.045 - ETA: 8s - loss: 4.6591 - acc: 0.045 - ETA: 8s - loss: 4.6585 - acc: 0.045 - ETA: 7s - loss: 4.6589 - acc: 0.045 - ETA: 7s - loss: 4.6592 - acc: 0.045 - ETA: 7s - loss: 4.6593 - acc: 0.045 - ETA: 7s - loss: 4.6597 - acc: 0.044 - ETA: 7s - loss: 4.6610 - acc: 0.044 - ETA: 7s - loss: 4.6618 - acc: 0.044 - ETA: 7s - loss: 4.6631 - acc: 0.044 - ETA: 6s - loss: 4.6634 - acc: 0.044 - ETA: 6s - loss: 4.6629 - acc: 0.044 - ETA: 6s - loss: 4.6637 - acc: 0.044 - ETA: 6s - loss: 4.6645 - acc: 0.044 - ETA: 6s - loss: 4.6639 - acc: 0.044 - ETA: 6s - loss: 4.6640 - acc: 0.044 - ETA: 5s - loss: 4.6646 - acc: 0.044 - ETA: 5s - loss: 4.6648 - acc: 0.044 - ETA: 5s - loss: 4.6652 - acc: 0.044 - ETA: 5s - loss: 4.6658 - acc: 0.044 - ETA: 5s - loss: 4.6667 - acc: 0.044 - ETA: 5s - loss: 4.6662 - acc: 0.044 - ETA: 4s - loss: 4.6667 - acc: 0.044 - ETA: 4s - loss: 4.6655 - acc: 0.044 - ETA: 4s - loss: 4.6653 - acc: 0.044 - ETA: 4s - loss: 4.6661 - acc: 0.044 - ETA: 4s - loss: 4.6674 - acc: 0.044 - ETA: 4s - loss: 4.6673 - acc: 0.044 - ETA: 3s - loss: 4.6670 - acc: 0.044 - ETA: 3s - loss: 4.6649 - acc: 0.044 - ETA: 3s - loss: 4.6642 - acc: 0.044 - ETA: 3s - loss: 4.6638 - acc: 0.044 - ETA: 3s - loss: 4.6630 - acc: 0.044 - ETA: 3s - loss: 4.6642 - acc: 0.044 - ETA: 3s - loss: 4.6642 - acc: 0.044 - ETA: 2s - loss: 4.6646 - acc: 0.044 - ETA: 2s - loss: 4.6633 - acc: 0.044 - ETA: 2s - loss: 4.6632 - acc: 0.043 - ETA: 2s - loss: 4.6631 - acc: 0.043 - ETA: 2s - loss: 4.6623 - acc: 0.043 - ETA: 2s - loss: 4.6619 - acc: 0.043 - ETA: 1s - loss: 4.6621 - acc: 0.044 - ETA: 1s - loss: 4.6627 - acc: 0.044 - ETA: 1s - loss: 4.6626 - acc: 0.044 - ETA: 1s - loss: 4.6625 - acc: 0.044 - ETA: 1s - loss: 4.6628 - acc: 0.043 - ETA: 1s - loss: 4.6633 - acc: 0.044 - ETA: 0s - loss: 4.6624 - acc: 0.044 - ETA: 0s - loss: 4.6633 - acc: 0.044 - ETA: 0s - loss: 4.6635 - acc: 0.044 - ETA: 0s - loss: 4.6648 - acc: 0.044 - ETA: 0s - loss: 4.6644 - acc: 0.044 - ETA: 0s - loss: 4.6650 - acc: 0.044 - 56s 8ms/step - loss: 4.6649 - acc: 0.0443 - val_loss: 5.2057 - val_acc: 0.0311\n",
      "\n",
      "Epoch 00004: val_loss did not improve from 4.83451\n",
      "Epoch 5/7\n"
     ]
    },
    {
     "name": "stdout",
     "output_type": "stream",
     "text": [
      "4300/6680 [==================>...........] - ETA: 53s - loss: 4.6349 - acc: 0.05 - ETA: 53s - loss: 4.5351 - acc: 0.05 - ETA: 53s - loss: 4.5437 - acc: 0.03 - ETA: 53s - loss: 4.4892 - acc: 0.06 - ETA: 53s - loss: 4.5820 - acc: 0.06 - ETA: 52s - loss: 4.6446 - acc: 0.05 - ETA: 52s - loss: 4.9139 - acc: 0.04 - ETA: 52s - loss: 5.0272 - acc: 0.03 - ETA: 52s - loss: 5.0772 - acc: 0.03 - ETA: 52s - loss: 5.1104 - acc: 0.03 - ETA: 51s - loss: 5.1552 - acc: 0.03 - ETA: 51s - loss: 5.2207 - acc: 0.03 - ETA: 51s - loss: 5.2241 - acc: 0.03 - ETA: 51s - loss: 5.2318 - acc: 0.03 - ETA: 51s - loss: 5.2533 - acc: 0.03 - ETA: 51s - loss: 5.2934 - acc: 0.03 - ETA: 50s - loss: 5.3279 - acc: 0.03 - ETA: 50s - loss: 5.3559 - acc: 0.03 - ETA: 50s - loss: 5.3709 - acc: 0.03 - ETA: 50s - loss: 5.3949 - acc: 0.03 - ETA: 50s - loss: 5.3810 - acc: 0.03 - ETA: 50s - loss: 5.4021 - acc: 0.03 - ETA: 49s - loss: 5.3870 - acc: 0.03 - ETA: 49s - loss: 5.4014 - acc: 0.03 - ETA: 49s - loss: 5.4047 - acc: 0.03 - ETA: 49s - loss: 5.4070 - acc: 0.02 - ETA: 49s - loss: 5.3748 - acc: 0.03 - ETA: 49s - loss: 5.3446 - acc: 0.03 - ETA: 48s - loss: 5.3106 - acc: 0.03 - ETA: 48s - loss: 5.2787 - acc: 0.03 - ETA: 48s - loss: 5.2552 - acc: 0.04 - ETA: 48s - loss: 5.2443 - acc: 0.04 - ETA: 48s - loss: 5.2172 - acc: 0.04 - ETA: 48s - loss: 5.1981 - acc: 0.04 - ETA: 47s - loss: 5.1789 - acc: 0.04 - ETA: 47s - loss: 5.1457 - acc: 0.04 - ETA: 47s - loss: 5.1340 - acc: 0.04 - ETA: 47s - loss: 5.1259 - acc: 0.04 - ETA: 47s - loss: 5.1108 - acc: 0.04 - ETA: 47s - loss: 5.0990 - acc: 0.04 - ETA: 46s - loss: 5.0854 - acc: 0.04 - ETA: 46s - loss: 5.0760 - acc: 0.04 - ETA: 46s - loss: 5.0653 - acc: 0.04 - ETA: 46s - loss: 5.0499 - acc: 0.04 - ETA: 46s - loss: 5.0393 - acc: 0.04 - ETA: 46s - loss: 5.0346 - acc: 0.04 - ETA: 45s - loss: 5.0211 - acc: 0.04 - ETA: 45s - loss: 5.0253 - acc: 0.04 - ETA: 45s - loss: 5.0136 - acc: 0.04 - ETA: 45s - loss: 5.0074 - acc: 0.05 - ETA: 45s - loss: 4.9961 - acc: 0.05 - ETA: 45s - loss: 4.9907 - acc: 0.05 - ETA: 44s - loss: 4.9783 - acc: 0.04 - ETA: 44s - loss: 4.9657 - acc: 0.05 - ETA: 44s - loss: 4.9531 - acc: 0.04 - ETA: 44s - loss: 4.9502 - acc: 0.04 - ETA: 44s - loss: 4.9494 - acc: 0.04 - ETA: 44s - loss: 4.9456 - acc: 0.04 - ETA: 44s - loss: 4.9423 - acc: 0.04 - ETA: 43s - loss: 4.9439 - acc: 0.04 - ETA: 43s - loss: 4.9429 - acc: 0.04 - ETA: 43s - loss: 4.9377 - acc: 0.04 - ETA: 43s - loss: 4.9359 - acc: 0.04 - ETA: 43s - loss: 4.9334 - acc: 0.04 - ETA: 43s - loss: 4.9259 - acc: 0.04 - ETA: 42s - loss: 4.9199 - acc: 0.04 - ETA: 42s - loss: 4.9163 - acc: 0.04 - ETA: 42s - loss: 4.9124 - acc: 0.04 - ETA: 42s - loss: 4.9093 - acc: 0.04 - ETA: 42s - loss: 4.9067 - acc: 0.04 - ETA: 42s - loss: 4.9032 - acc: 0.04 - ETA: 41s - loss: 4.9002 - acc: 0.04 - ETA: 41s - loss: 4.8900 - acc: 0.04 - ETA: 41s - loss: 4.8871 - acc: 0.04 - ETA: 41s - loss: 4.8850 - acc: 0.04 - ETA: 41s - loss: 4.8796 - acc: 0.04 - ETA: 41s - loss: 4.8766 - acc: 0.04 - ETA: 40s - loss: 4.8684 - acc: 0.04 - ETA: 40s - loss: 4.8647 - acc: 0.04 - ETA: 40s - loss: 4.8612 - acc: 0.04 - ETA: 40s - loss: 4.8572 - acc: 0.04 - ETA: 40s - loss: 4.8507 - acc: 0.04 - ETA: 40s - loss: 4.8491 - acc: 0.04 - ETA: 40s - loss: 4.8451 - acc: 0.04 - ETA: 39s - loss: 4.8422 - acc: 0.04 - ETA: 39s - loss: 4.8343 - acc: 0.04 - ETA: 39s - loss: 4.8277 - acc: 0.04 - ETA: 39s - loss: 4.8239 - acc: 0.04 - ETA: 39s - loss: 4.8180 - acc: 0.04 - ETA: 39s - loss: 4.8128 - acc: 0.04 - ETA: 38s - loss: 4.8095 - acc: 0.04 - ETA: 38s - loss: 4.8088 - acc: 0.04 - ETA: 38s - loss: 4.8052 - acc: 0.04 - ETA: 38s - loss: 4.8057 - acc: 0.04 - ETA: 38s - loss: 4.8004 - acc: 0.04 - ETA: 38s - loss: 4.8004 - acc: 0.04 - ETA: 37s - loss: 4.7948 - acc: 0.04 - ETA: 37s - loss: 4.7960 - acc: 0.04 - ETA: 37s - loss: 4.7944 - acc: 0.04 - ETA: 37s - loss: 4.7936 - acc: 0.04 - ETA: 37s - loss: 4.7926 - acc: 0.04 - ETA: 37s - loss: 4.7903 - acc: 0.04 - ETA: 37s - loss: 4.7844 - acc: 0.04 - ETA: 36s - loss: 4.7825 - acc: 0.04 - ETA: 36s - loss: 4.7824 - acc: 0.04 - ETA: 36s - loss: 4.7841 - acc: 0.04 - ETA: 36s - loss: 4.7788 - acc: 0.04 - ETA: 36s - loss: 4.7784 - acc: 0.04 - ETA: 36s - loss: 4.7783 - acc: 0.04 - ETA: 35s - loss: 4.7773 - acc: 0.04 - ETA: 35s - loss: 4.7740 - acc: 0.04 - ETA: 35s - loss: 4.7738 - acc: 0.04 - ETA: 35s - loss: 4.7698 - acc: 0.04 - ETA: 35s - loss: 4.7688 - acc: 0.04 - ETA: 35s - loss: 4.7686 - acc: 0.04 - ETA: 34s - loss: 4.7669 - acc: 0.04 - ETA: 34s - loss: 4.7639 - acc: 0.04 - ETA: 34s - loss: 4.7639 - acc: 0.04 - ETA: 34s - loss: 4.7607 - acc: 0.04 - ETA: 34s - loss: 4.7612 - acc: 0.04 - ETA: 34s - loss: 4.7604 - acc: 0.04 - ETA: 33s - loss: 4.7563 - acc: 0.04 - ETA: 33s - loss: 4.7537 - acc: 0.04 - ETA: 33s - loss: 4.7514 - acc: 0.04 - ETA: 33s - loss: 4.7495 - acc: 0.04 - ETA: 33s - loss: 4.7459 - acc: 0.04 - ETA: 33s - loss: 4.7426 - acc: 0.04 - ETA: 33s - loss: 4.7412 - acc: 0.04 - ETA: 32s - loss: 4.7427 - acc: 0.04 - ETA: 32s - loss: 4.7418 - acc: 0.04 - ETA: 32s - loss: 4.7398 - acc: 0.04 - ETA: 32s - loss: 4.7401 - acc: 0.04 - ETA: 32s - loss: 4.7403 - acc: 0.04 - ETA: 32s - loss: 4.7397 - acc: 0.04 - ETA: 31s - loss: 4.7391 - acc: 0.04 - ETA: 31s - loss: 4.7362 - acc: 0.04 - ETA: 31s - loss: 4.7338 - acc: 0.04 - ETA: 31s - loss: 4.7316 - acc: 0.04 - ETA: 31s - loss: 4.7306 - acc: 0.04 - ETA: 31s - loss: 4.7286 - acc: 0.04 - ETA: 30s - loss: 4.7298 - acc: 0.04 - ETA: 30s - loss: 4.7263 - acc: 0.04 - ETA: 30s - loss: 4.7243 - acc: 0.04 - ETA: 30s - loss: 4.7230 - acc: 0.04 - ETA: 30s - loss: 4.7208 - acc: 0.04 - ETA: 30s - loss: 4.7213 - acc: 0.04 - ETA: 29s - loss: 4.7199 - acc: 0.04 - ETA: 29s - loss: 4.7167 - acc: 0.04 - ETA: 29s - loss: 4.7162 - acc: 0.04 - ETA: 29s - loss: 4.7164 - acc: 0.04 - ETA: 29s - loss: 4.7185 - acc: 0.04 - ETA: 29s - loss: 4.7156 - acc: 0.04 - ETA: 28s - loss: 4.7165 - acc: 0.04 - ETA: 28s - loss: 4.7152 - acc: 0.04 - ETA: 28s - loss: 4.7146 - acc: 0.04 - ETA: 28s - loss: 4.7156 - acc: 0.04 - ETA: 28s - loss: 4.7161 - acc: 0.04 - ETA: 28s - loss: 4.7155 - acc: 0.04 - ETA: 28s - loss: 4.7127 - acc: 0.04 - ETA: 27s - loss: 4.7129 - acc: 0.04 - ETA: 27s - loss: 4.7132 - acc: 0.04 - ETA: 27s - loss: 4.7118 - acc: 0.04 - ETA: 27s - loss: 4.7089 - acc: 0.04 - ETA: 27s - loss: 4.7071 - acc: 0.04 - ETA: 27s - loss: 4.7060 - acc: 0.04 - ETA: 26s - loss: 4.7041 - acc: 0.04 - ETA: 26s - loss: 4.7037 - acc: 0.04 - ETA: 26s - loss: 4.7020 - acc: 0.04 - ETA: 26s - loss: 4.7022 - acc: 0.04 - ETA: 26s - loss: 4.7029 - acc: 0.04 - ETA: 26s - loss: 4.7025 - acc: 0.04 - ETA: 25s - loss: 4.7010 - acc: 0.04 - ETA: 25s - loss: 4.7003 - acc: 0.04 - ETA: 25s - loss: 4.7010 - acc: 0.04 - ETA: 25s - loss: 4.6986 - acc: 0.04 - ETA: 25s - loss: 4.6970 - acc: 0.04 - ETA: 25s - loss: 4.6957 - acc: 0.04 - ETA: 25s - loss: 4.6942 - acc: 0.04 - ETA: 24s - loss: 4.6933 - acc: 0.04 - ETA: 24s - loss: 4.6925 - acc: 0.04 - ETA: 24s - loss: 4.6906 - acc: 0.04 - ETA: 24s - loss: 4.6897 - acc: 0.04 - ETA: 24s - loss: 4.6885 - acc: 0.04 - ETA: 24s - loss: 4.6902 - acc: 0.04 - ETA: 23s - loss: 4.6937 - acc: 0.04 - ETA: 23s - loss: 4.6968 - acc: 0.04 - ETA: 23s - loss: 4.6965 - acc: 0.04 - ETA: 23s - loss: 4.6958 - acc: 0.04 - ETA: 23s - loss: 4.6980 - acc: 0.04 - ETA: 23s - loss: 4.6993 - acc: 0.04 - ETA: 22s - loss: 4.6979 - acc: 0.04 - ETA: 22s - loss: 4.6993 - acc: 0.04 - ETA: 22s - loss: 4.6994 - acc: 0.04 - ETA: 22s - loss: 4.6986 - acc: 0.04 - ETA: 22s - loss: 4.7004 - acc: 0.04 - ETA: 22s - loss: 4.6977 - acc: 0.04 - ETA: 21s - loss: 4.6975 - acc: 0.04 - ETA: 21s - loss: 4.6984 - acc: 0.04 - ETA: 21s - loss: 4.6998 - acc: 0.04 - ETA: 21s - loss: 4.7005 - acc: 0.04 - ETA: 21s - loss: 4.6999 - acc: 0.04 - ETA: 21s - loss: 4.6999 - acc: 0.04 - ETA: 20s - loss: 4.7010 - acc: 0.04 - ETA: 20s - loss: 4.7013 - acc: 0.04 - ETA: 20s - loss: 4.7028 - acc: 0.04 - ETA: 20s - loss: 4.7029 - acc: 0.04 - ETA: 20s - loss: 4.7035 - acc: 0.04 - ETA: 20s - loss: 4.7047 - acc: 0.04 - ETA: 20s - loss: 4.7042 - acc: 0.04 - ETA: 19s - loss: 4.7020 - acc: 0.04 - ETA: 19s - loss: 4.6997 - acc: 0.04 - ETA: 19s - loss: 4.6999 - acc: 0.04 - ETA: 19s - loss: 4.6990 - acc: 0.04 - ETA: 19s - loss: 4.7004 - acc: 0.04 - ETA: 19s - loss: 4.6978 - acc: 0.0451"
     ]
    },
    {
     "name": "stdout",
     "output_type": "stream",
     "text": [
      "6680/6680 [==============================] - ETA: 18s - loss: 4.6995 - acc: 0.04 - ETA: 18s - loss: 4.6992 - acc: 0.04 - ETA: 18s - loss: 4.6962 - acc: 0.04 - ETA: 18s - loss: 4.6966 - acc: 0.04 - ETA: 18s - loss: 4.6957 - acc: 0.04 - ETA: 18s - loss: 4.6952 - acc: 0.04 - ETA: 17s - loss: 4.6933 - acc: 0.04 - ETA: 17s - loss: 4.6931 - acc: 0.04 - ETA: 17s - loss: 4.6954 - acc: 0.04 - ETA: 17s - loss: 4.6941 - acc: 0.04 - ETA: 17s - loss: 4.6952 - acc: 0.04 - ETA: 17s - loss: 4.6942 - acc: 0.04 - ETA: 16s - loss: 4.6948 - acc: 0.04 - ETA: 16s - loss: 4.6939 - acc: 0.04 - ETA: 16s - loss: 4.6941 - acc: 0.04 - ETA: 16s - loss: 4.6932 - acc: 0.04 - ETA: 16s - loss: 4.6919 - acc: 0.04 - ETA: 16s - loss: 4.6920 - acc: 0.04 - ETA: 16s - loss: 4.6905 - acc: 0.04 - ETA: 15s - loss: 4.6903 - acc: 0.04 - ETA: 15s - loss: 4.6907 - acc: 0.04 - ETA: 15s - loss: 4.6902 - acc: 0.04 - ETA: 15s - loss: 4.6898 - acc: 0.04 - ETA: 15s - loss: 4.6888 - acc: 0.04 - ETA: 15s - loss: 4.6876 - acc: 0.04 - ETA: 14s - loss: 4.6882 - acc: 0.04 - ETA: 14s - loss: 4.6870 - acc: 0.04 - ETA: 14s - loss: 4.6861 - acc: 0.04 - ETA: 14s - loss: 4.6870 - acc: 0.04 - ETA: 14s - loss: 4.6857 - acc: 0.04 - ETA: 14s - loss: 4.6841 - acc: 0.04 - ETA: 13s - loss: 4.6828 - acc: 0.04 - ETA: 13s - loss: 4.6812 - acc: 0.04 - ETA: 13s - loss: 4.6806 - acc: 0.04 - ETA: 13s - loss: 4.6805 - acc: 0.04 - ETA: 13s - loss: 4.6797 - acc: 0.04 - ETA: 13s - loss: 4.6808 - acc: 0.04 - ETA: 12s - loss: 4.6809 - acc: 0.04 - ETA: 12s - loss: 4.6794 - acc: 0.04 - ETA: 12s - loss: 4.6785 - acc: 0.04 - ETA: 12s - loss: 4.6773 - acc: 0.04 - ETA: 12s - loss: 4.6755 - acc: 0.04 - ETA: 12s - loss: 4.6750 - acc: 0.04 - ETA: 12s - loss: 4.6738 - acc: 0.04 - ETA: 11s - loss: 4.6746 - acc: 0.04 - ETA: 11s - loss: 4.6729 - acc: 0.04 - ETA: 11s - loss: 4.6733 - acc: 0.04 - ETA: 11s - loss: 4.6722 - acc: 0.04 - ETA: 11s - loss: 4.6711 - acc: 0.04 - ETA: 11s - loss: 4.6704 - acc: 0.04 - ETA: 10s - loss: 4.6699 - acc: 0.04 - ETA: 10s - loss: 4.6691 - acc: 0.04 - ETA: 10s - loss: 4.6691 - acc: 0.04 - ETA: 10s - loss: 4.6675 - acc: 0.04 - ETA: 10s - loss: 4.6672 - acc: 0.04 - ETA: 10s - loss: 4.6679 - acc: 0.04 - ETA: 9s - loss: 4.6690 - acc: 0.0456 - ETA: 9s - loss: 4.6669 - acc: 0.045 - ETA: 9s - loss: 4.6663 - acc: 0.045 - ETA: 9s - loss: 4.6656 - acc: 0.046 - ETA: 9s - loss: 4.6650 - acc: 0.046 - ETA: 9s - loss: 4.6637 - acc: 0.046 - ETA: 8s - loss: 4.6643 - acc: 0.046 - ETA: 8s - loss: 4.6646 - acc: 0.046 - ETA: 8s - loss: 4.6643 - acc: 0.046 - ETA: 8s - loss: 4.6643 - acc: 0.046 - ETA: 8s - loss: 4.6634 - acc: 0.046 - ETA: 8s - loss: 4.6651 - acc: 0.046 - ETA: 8s - loss: 4.6655 - acc: 0.046 - ETA: 7s - loss: 4.6664 - acc: 0.046 - ETA: 7s - loss: 4.6673 - acc: 0.046 - ETA: 7s - loss: 4.6669 - acc: 0.046 - ETA: 7s - loss: 4.6678 - acc: 0.046 - ETA: 7s - loss: 4.6680 - acc: 0.046 - ETA: 7s - loss: 4.6678 - acc: 0.046 - ETA: 6s - loss: 4.6661 - acc: 0.046 - ETA: 6s - loss: 4.6656 - acc: 0.046 - ETA: 6s - loss: 4.6652 - acc: 0.046 - ETA: 6s - loss: 4.6668 - acc: 0.046 - ETA: 6s - loss: 4.6653 - acc: 0.046 - ETA: 6s - loss: 4.6642 - acc: 0.046 - ETA: 5s - loss: 4.6644 - acc: 0.046 - ETA: 5s - loss: 4.6640 - acc: 0.046 - ETA: 5s - loss: 4.6629 - acc: 0.046 - ETA: 5s - loss: 4.6632 - acc: 0.046 - ETA: 5s - loss: 4.6629 - acc: 0.046 - ETA: 5s - loss: 4.6622 - acc: 0.046 - ETA: 4s - loss: 4.6627 - acc: 0.046 - ETA: 4s - loss: 4.6615 - acc: 0.046 - ETA: 4s - loss: 4.6601 - acc: 0.046 - ETA: 4s - loss: 4.6586 - acc: 0.046 - ETA: 4s - loss: 4.6576 - acc: 0.046 - ETA: 4s - loss: 4.6578 - acc: 0.046 - ETA: 4s - loss: 4.6581 - acc: 0.046 - ETA: 3s - loss: 4.6589 - acc: 0.046 - ETA: 3s - loss: 4.6581 - acc: 0.046 - ETA: 3s - loss: 4.6595 - acc: 0.046 - ETA: 3s - loss: 4.6591 - acc: 0.046 - ETA: 3s - loss: 4.6601 - acc: 0.046 - ETA: 3s - loss: 4.6610 - acc: 0.046 - ETA: 2s - loss: 4.6610 - acc: 0.045 - ETA: 2s - loss: 4.6608 - acc: 0.045 - ETA: 2s - loss: 4.6613 - acc: 0.045 - ETA: 2s - loss: 4.6604 - acc: 0.045 - ETA: 2s - loss: 4.6611 - acc: 0.045 - ETA: 2s - loss: 4.6616 - acc: 0.045 - ETA: 1s - loss: 4.6612 - acc: 0.045 - ETA: 1s - loss: 4.6620 - acc: 0.045 - ETA: 1s - loss: 4.6614 - acc: 0.045 - ETA: 1s - loss: 4.6608 - acc: 0.045 - ETA: 1s - loss: 4.6595 - acc: 0.045 - ETA: 1s - loss: 4.6591 - acc: 0.046 - ETA: 0s - loss: 4.6587 - acc: 0.046 - ETA: 0s - loss: 4.6582 - acc: 0.046 - ETA: 0s - loss: 4.6560 - acc: 0.046 - ETA: 0s - loss: 4.6563 - acc: 0.046 - ETA: 0s - loss: 4.6563 - acc: 0.046 - ETA: 0s - loss: 4.6571 - acc: 0.046 - 56s 8ms/step - loss: 4.6575 - acc: 0.0467 - val_loss: 4.8910 - val_acc: 0.0467\n",
      "\n",
      "Epoch 00005: val_loss did not improve from 4.83451\n",
      "Epoch 6/7\n"
     ]
    },
    {
     "name": "stdout",
     "output_type": "stream",
     "text": [
      "4300/6680 [==================>...........] - ETA: 53s - loss: 4.0731 - acc: 0.15 - ETA: 53s - loss: 4.2634 - acc: 0.17 - ETA: 53s - loss: 4.3954 - acc: 0.11 - ETA: 52s - loss: 4.4198 - acc: 0.10 - ETA: 52s - loss: 4.4204 - acc: 0.10 - ETA: 52s - loss: 4.3703 - acc: 0.10 - ETA: 52s - loss: 4.3362 - acc: 0.12 - ETA: 52s - loss: 4.2861 - acc: 0.13 - ETA: 52s - loss: 4.3063 - acc: 0.12 - ETA: 51s - loss: 4.3151 - acc: 0.12 - ETA: 51s - loss: 4.2958 - acc: 0.12 - ETA: 51s - loss: 4.3100 - acc: 0.12 - ETA: 51s - loss: 4.3263 - acc: 0.11 - ETA: 51s - loss: 4.3390 - acc: 0.11 - ETA: 51s - loss: 4.3273 - acc: 0.11 - ETA: 50s - loss: 4.3412 - acc: 0.11 - ETA: 50s - loss: 4.3164 - acc: 0.11 - ETA: 50s - loss: 4.2936 - acc: 0.11 - ETA: 50s - loss: 4.2966 - acc: 0.11 - ETA: 50s - loss: 4.2965 - acc: 0.11 - ETA: 50s - loss: 4.3200 - acc: 0.10 - ETA: 49s - loss: 4.3168 - acc: 0.10 - ETA: 49s - loss: 4.3238 - acc: 0.10 - ETA: 49s - loss: 4.3445 - acc: 0.10 - ETA: 49s - loss: 4.3304 - acc: 0.10 - ETA: 49s - loss: 4.3432 - acc: 0.10 - ETA: 49s - loss: 4.3488 - acc: 0.09 - ETA: 48s - loss: 4.3524 - acc: 0.09 - ETA: 48s - loss: 4.3510 - acc: 0.09 - ETA: 48s - loss: 4.3443 - acc: 0.09 - ETA: 48s - loss: 4.3542 - acc: 0.09 - ETA: 48s - loss: 4.3415 - acc: 0.09 - ETA: 48s - loss: 4.3398 - acc: 0.09 - ETA: 48s - loss: 4.3432 - acc: 0.09 - ETA: 47s - loss: 4.3442 - acc: 0.09 - ETA: 47s - loss: 4.3381 - acc: 0.09 - ETA: 47s - loss: 4.3375 - acc: 0.09 - ETA: 47s - loss: 4.3391 - acc: 0.09 - ETA: 47s - loss: 4.3477 - acc: 0.08 - ETA: 47s - loss: 4.3516 - acc: 0.08 - ETA: 46s - loss: 4.3525 - acc: 0.08 - ETA: 46s - loss: 4.3467 - acc: 0.08 - ETA: 46s - loss: 4.3457 - acc: 0.08 - ETA: 46s - loss: 4.3468 - acc: 0.08 - ETA: 46s - loss: 4.3417 - acc: 0.08 - ETA: 46s - loss: 4.3545 - acc: 0.08 - ETA: 45s - loss: 4.3540 - acc: 0.08 - ETA: 45s - loss: 4.3512 - acc: 0.08 - ETA: 45s - loss: 4.3545 - acc: 0.08 - ETA: 45s - loss: 4.3467 - acc: 0.08 - ETA: 45s - loss: 4.3521 - acc: 0.08 - ETA: 45s - loss: 4.3542 - acc: 0.08 - ETA: 44s - loss: 4.3571 - acc: 0.08 - ETA: 44s - loss: 4.3550 - acc: 0.07 - ETA: 44s - loss: 4.3531 - acc: 0.07 - ETA: 44s - loss: 4.3618 - acc: 0.07 - ETA: 44s - loss: 4.3591 - acc: 0.07 - ETA: 44s - loss: 4.3579 - acc: 0.07 - ETA: 44s - loss: 4.3589 - acc: 0.07 - ETA: 43s - loss: 4.3635 - acc: 0.07 - ETA: 43s - loss: 4.3609 - acc: 0.07 - ETA: 43s - loss: 4.3633 - acc: 0.07 - ETA: 43s - loss: 4.3609 - acc: 0.07 - ETA: 43s - loss: 4.3625 - acc: 0.07 - ETA: 43s - loss: 4.3678 - acc: 0.07 - ETA: 42s - loss: 4.3657 - acc: 0.07 - ETA: 42s - loss: 4.3684 - acc: 0.07 - ETA: 42s - loss: 4.3643 - acc: 0.07 - ETA: 42s - loss: 4.3648 - acc: 0.07 - ETA: 42s - loss: 4.3626 - acc: 0.07 - ETA: 42s - loss: 4.3685 - acc: 0.07 - ETA: 41s - loss: 4.3697 - acc: 0.07 - ETA: 41s - loss: 4.3710 - acc: 0.07 - ETA: 41s - loss: 4.3690 - acc: 0.07 - ETA: 41s - loss: 4.3679 - acc: 0.07 - ETA: 41s - loss: 4.3649 - acc: 0.07 - ETA: 41s - loss: 4.3652 - acc: 0.07 - ETA: 41s - loss: 4.3649 - acc: 0.07 - ETA: 40s - loss: 4.3641 - acc: 0.08 - ETA: 40s - loss: 4.3660 - acc: 0.08 - ETA: 40s - loss: 4.3659 - acc: 0.07 - ETA: 40s - loss: 4.3680 - acc: 0.07 - ETA: 40s - loss: 4.3704 - acc: 0.07 - ETA: 40s - loss: 4.3721 - acc: 0.07 - ETA: 39s - loss: 4.3776 - acc: 0.07 - ETA: 39s - loss: 4.3755 - acc: 0.07 - ETA: 39s - loss: 4.3738 - acc: 0.07 - ETA: 39s - loss: 4.3735 - acc: 0.07 - ETA: 39s - loss: 4.3727 - acc: 0.07 - ETA: 39s - loss: 4.3729 - acc: 0.07 - ETA: 38s - loss: 4.3776 - acc: 0.07 - ETA: 38s - loss: 4.3771 - acc: 0.07 - ETA: 38s - loss: 4.3770 - acc: 0.07 - ETA: 38s - loss: 4.3774 - acc: 0.07 - ETA: 38s - loss: 4.3761 - acc: 0.07 - ETA: 38s - loss: 4.3769 - acc: 0.07 - ETA: 37s - loss: 4.3732 - acc: 0.07 - ETA: 37s - loss: 4.3708 - acc: 0.07 - ETA: 37s - loss: 4.3727 - acc: 0.07 - ETA: 37s - loss: 4.3719 - acc: 0.07 - ETA: 37s - loss: 4.3700 - acc: 0.07 - ETA: 37s - loss: 4.3714 - acc: 0.07 - ETA: 36s - loss: 4.3727 - acc: 0.07 - ETA: 36s - loss: 4.3713 - acc: 0.07 - ETA: 36s - loss: 4.3705 - acc: 0.07 - ETA: 36s - loss: 4.3696 - acc: 0.07 - ETA: 36s - loss: 4.3745 - acc: 0.07 - ETA: 36s - loss: 4.3733 - acc: 0.07 - ETA: 36s - loss: 4.3736 - acc: 0.07 - ETA: 35s - loss: 4.3740 - acc: 0.07 - ETA: 35s - loss: 4.3740 - acc: 0.07 - ETA: 35s - loss: 4.3705 - acc: 0.07 - ETA: 35s - loss: 4.3693 - acc: 0.07 - ETA: 35s - loss: 4.3683 - acc: 0.07 - ETA: 35s - loss: 4.3681 - acc: 0.08 - ETA: 34s - loss: 4.3670 - acc: 0.08 - ETA: 34s - loss: 4.3660 - acc: 0.08 - ETA: 34s - loss: 4.3692 - acc: 0.08 - ETA: 34s - loss: 4.3699 - acc: 0.08 - ETA: 34s - loss: 4.3689 - acc: 0.08 - ETA: 34s - loss: 4.3689 - acc: 0.08 - ETA: 33s - loss: 4.3722 - acc: 0.07 - ETA: 33s - loss: 4.3708 - acc: 0.08 - ETA: 33s - loss: 4.3693 - acc: 0.08 - ETA: 33s - loss: 4.3688 - acc: 0.08 - ETA: 33s - loss: 4.3698 - acc: 0.08 - ETA: 33s - loss: 4.3713 - acc: 0.08 - ETA: 32s - loss: 4.3723 - acc: 0.08 - ETA: 32s - loss: 4.3709 - acc: 0.08 - ETA: 32s - loss: 4.3720 - acc: 0.08 - ETA: 32s - loss: 4.3726 - acc: 0.07 - ETA: 32s - loss: 4.3717 - acc: 0.07 - ETA: 32s - loss: 4.3730 - acc: 0.07 - ETA: 32s - loss: 4.3723 - acc: 0.08 - ETA: 31s - loss: 4.3736 - acc: 0.08 - ETA: 31s - loss: 4.3752 - acc: 0.07 - ETA: 31s - loss: 4.3742 - acc: 0.08 - ETA: 31s - loss: 4.3728 - acc: 0.08 - ETA: 31s - loss: 4.3749 - acc: 0.08 - ETA: 31s - loss: 4.3771 - acc: 0.08 - ETA: 30s - loss: 4.3769 - acc: 0.07 - ETA: 30s - loss: 4.3728 - acc: 0.08 - ETA: 30s - loss: 4.3712 - acc: 0.08 - ETA: 30s - loss: 4.3712 - acc: 0.08 - ETA: 30s - loss: 4.3711 - acc: 0.08 - ETA: 30s - loss: 4.3704 - acc: 0.08 - ETA: 29s - loss: 4.3703 - acc: 0.07 - ETA: 29s - loss: 4.3701 - acc: 0.07 - ETA: 29s - loss: 4.3705 - acc: 0.08 - ETA: 29s - loss: 4.3735 - acc: 0.07 - ETA: 29s - loss: 4.3735 - acc: 0.07 - ETA: 29s - loss: 4.3728 - acc: 0.07 - ETA: 28s - loss: 4.3729 - acc: 0.07 - ETA: 28s - loss: 4.3733 - acc: 0.07 - ETA: 28s - loss: 4.3719 - acc: 0.07 - ETA: 28s - loss: 4.3738 - acc: 0.07 - ETA: 28s - loss: 4.3728 - acc: 0.08 - ETA: 28s - loss: 4.3723 - acc: 0.08 - ETA: 28s - loss: 4.3699 - acc: 0.08 - ETA: 27s - loss: 4.3676 - acc: 0.08 - ETA: 27s - loss: 4.3680 - acc: 0.08 - ETA: 27s - loss: 4.3682 - acc: 0.08 - ETA: 27s - loss: 4.3670 - acc: 0.08 - ETA: 27s - loss: 4.3698 - acc: 0.08 - ETA: 27s - loss: 4.3694 - acc: 0.08 - ETA: 26s - loss: 4.3719 - acc: 0.08 - ETA: 26s - loss: 4.3713 - acc: 0.08 - ETA: 26s - loss: 4.3720 - acc: 0.08 - ETA: 26s - loss: 4.3738 - acc: 0.08 - ETA: 26s - loss: 4.3740 - acc: 0.08 - ETA: 26s - loss: 4.3726 - acc: 0.08 - ETA: 25s - loss: 4.3732 - acc: 0.07 - ETA: 25s - loss: 4.3714 - acc: 0.08 - ETA: 25s - loss: 4.3710 - acc: 0.08 - ETA: 25s - loss: 4.3730 - acc: 0.07 - ETA: 25s - loss: 4.3711 - acc: 0.08 - ETA: 25s - loss: 4.3720 - acc: 0.07 - ETA: 24s - loss: 4.3712 - acc: 0.07 - ETA: 24s - loss: 4.3698 - acc: 0.07 - ETA: 24s - loss: 4.3725 - acc: 0.07 - ETA: 24s - loss: 4.3724 - acc: 0.07 - ETA: 24s - loss: 4.3728 - acc: 0.07 - ETA: 24s - loss: 4.3713 - acc: 0.07 - ETA: 24s - loss: 4.3712 - acc: 0.07 - ETA: 23s - loss: 4.3721 - acc: 0.07 - ETA: 23s - loss: 4.3693 - acc: 0.07 - ETA: 23s - loss: 4.3713 - acc: 0.07 - ETA: 23s - loss: 4.3714 - acc: 0.07 - ETA: 23s - loss: 4.3712 - acc: 0.07 - ETA: 23s - loss: 4.3706 - acc: 0.07 - ETA: 22s - loss: 4.3717 - acc: 0.07 - ETA: 22s - loss: 4.3727 - acc: 0.07 - ETA: 22s - loss: 4.3726 - acc: 0.07 - ETA: 22s - loss: 4.3743 - acc: 0.07 - ETA: 22s - loss: 4.3736 - acc: 0.07 - ETA: 22s - loss: 4.3740 - acc: 0.07 - ETA: 21s - loss: 4.3748 - acc: 0.07 - ETA: 21s - loss: 4.3745 - acc: 0.07 - ETA: 21s - loss: 4.3746 - acc: 0.07 - ETA: 21s - loss: 4.3751 - acc: 0.07 - ETA: 21s - loss: 4.3769 - acc: 0.07 - ETA: 21s - loss: 4.3760 - acc: 0.07 - ETA: 20s - loss: 4.3753 - acc: 0.07 - ETA: 20s - loss: 4.3746 - acc: 0.07 - ETA: 20s - loss: 4.3755 - acc: 0.07 - ETA: 20s - loss: 4.3776 - acc: 0.07 - ETA: 20s - loss: 4.3787 - acc: 0.07 - ETA: 20s - loss: 4.3782 - acc: 0.07 - ETA: 20s - loss: 4.3785 - acc: 0.07 - ETA: 19s - loss: 4.3784 - acc: 0.07 - ETA: 19s - loss: 4.3776 - acc: 0.07 - ETA: 19s - loss: 4.3773 - acc: 0.07 - ETA: 19s - loss: 4.3783 - acc: 0.07 - ETA: 19s - loss: 4.3782 - acc: 0.07 - ETA: 19s - loss: 4.3789 - acc: 0.0758"
     ]
    },
    {
     "name": "stdout",
     "output_type": "stream",
     "text": [
      "6680/6680 [==============================] - ETA: 18s - loss: 4.3805 - acc: 0.07 - ETA: 18s - loss: 4.3809 - acc: 0.07 - ETA: 18s - loss: 4.3790 - acc: 0.07 - ETA: 18s - loss: 4.3783 - acc: 0.07 - ETA: 18s - loss: 4.3787 - acc: 0.07 - ETA: 18s - loss: 4.3794 - acc: 0.07 - ETA: 17s - loss: 4.3783 - acc: 0.07 - ETA: 17s - loss: 4.3785 - acc: 0.07 - ETA: 17s - loss: 4.3768 - acc: 0.07 - ETA: 17s - loss: 4.3767 - acc: 0.07 - ETA: 17s - loss: 4.3754 - acc: 0.07 - ETA: 17s - loss: 4.3772 - acc: 0.07 - ETA: 16s - loss: 4.3760 - acc: 0.07 - ETA: 16s - loss: 4.3764 - acc: 0.07 - ETA: 16s - loss: 4.3757 - acc: 0.07 - ETA: 16s - loss: 4.3751 - acc: 0.07 - ETA: 16s - loss: 4.3764 - acc: 0.07 - ETA: 16s - loss: 4.3784 - acc: 0.07 - ETA: 16s - loss: 4.3775 - acc: 0.07 - ETA: 15s - loss: 4.3769 - acc: 0.07 - ETA: 15s - loss: 4.3801 - acc: 0.07 - ETA: 15s - loss: 4.3792 - acc: 0.07 - ETA: 15s - loss: 4.3779 - acc: 0.07 - ETA: 15s - loss: 4.3780 - acc: 0.07 - ETA: 15s - loss: 4.3783 - acc: 0.07 - ETA: 14s - loss: 4.3767 - acc: 0.07 - ETA: 14s - loss: 4.3782 - acc: 0.07 - ETA: 14s - loss: 4.3784 - acc: 0.07 - ETA: 14s - loss: 4.3775 - acc: 0.07 - ETA: 14s - loss: 4.3784 - acc: 0.07 - ETA: 14s - loss: 4.3794 - acc: 0.07 - ETA: 13s - loss: 4.3791 - acc: 0.07 - ETA: 13s - loss: 4.3792 - acc: 0.07 - ETA: 13s - loss: 4.3800 - acc: 0.07 - ETA: 13s - loss: 4.3795 - acc: 0.07 - ETA: 13s - loss: 4.3796 - acc: 0.07 - ETA: 13s - loss: 4.3819 - acc: 0.07 - ETA: 12s - loss: 4.3826 - acc: 0.07 - ETA: 12s - loss: 4.3820 - acc: 0.07 - ETA: 12s - loss: 4.3838 - acc: 0.07 - ETA: 12s - loss: 4.3854 - acc: 0.07 - ETA: 12s - loss: 4.3847 - acc: 0.07 - ETA: 12s - loss: 4.3847 - acc: 0.07 - ETA: 12s - loss: 4.3838 - acc: 0.07 - ETA: 11s - loss: 4.3845 - acc: 0.07 - ETA: 11s - loss: 4.3832 - acc: 0.07 - ETA: 11s - loss: 4.3833 - acc: 0.07 - ETA: 11s - loss: 4.3841 - acc: 0.07 - ETA: 11s - loss: 4.3839 - acc: 0.07 - ETA: 11s - loss: 4.3844 - acc: 0.07 - ETA: 10s - loss: 4.3836 - acc: 0.07 - ETA: 10s - loss: 4.3844 - acc: 0.07 - ETA: 10s - loss: 4.3833 - acc: 0.07 - ETA: 10s - loss: 4.3836 - acc: 0.07 - ETA: 10s - loss: 4.3832 - acc: 0.07 - ETA: 10s - loss: 4.3817 - acc: 0.07 - ETA: 9s - loss: 4.3822 - acc: 0.0746 - ETA: 9s - loss: 4.3817 - acc: 0.074 - ETA: 9s - loss: 4.3810 - acc: 0.075 - ETA: 9s - loss: 4.3817 - acc: 0.074 - ETA: 9s - loss: 4.3821 - acc: 0.074 - ETA: 9s - loss: 4.3833 - acc: 0.074 - ETA: 8s - loss: 4.3843 - acc: 0.074 - ETA: 8s - loss: 4.3848 - acc: 0.074 - ETA: 8s - loss: 4.3855 - acc: 0.073 - ETA: 8s - loss: 4.3851 - acc: 0.074 - ETA: 8s - loss: 4.3852 - acc: 0.074 - ETA: 8s - loss: 4.3868 - acc: 0.074 - ETA: 8s - loss: 4.3868 - acc: 0.074 - ETA: 7s - loss: 4.3875 - acc: 0.074 - ETA: 7s - loss: 4.3884 - acc: 0.074 - ETA: 7s - loss: 4.3899 - acc: 0.073 - ETA: 7s - loss: 4.3900 - acc: 0.073 - ETA: 7s - loss: 4.3904 - acc: 0.073 - ETA: 7s - loss: 4.3900 - acc: 0.073 - ETA: 6s - loss: 4.3899 - acc: 0.073 - ETA: 6s - loss: 4.3898 - acc: 0.073 - ETA: 6s - loss: 4.3908 - acc: 0.073 - ETA: 6s - loss: 4.3911 - acc: 0.073 - ETA: 6s - loss: 4.3911 - acc: 0.073 - ETA: 6s - loss: 4.3915 - acc: 0.073 - ETA: 5s - loss: 4.3910 - acc: 0.073 - ETA: 5s - loss: 4.3918 - acc: 0.073 - ETA: 5s - loss: 4.3925 - acc: 0.072 - ETA: 5s - loss: 4.3925 - acc: 0.072 - ETA: 5s - loss: 4.3913 - acc: 0.073 - ETA: 5s - loss: 4.3911 - acc: 0.072 - ETA: 4s - loss: 4.3913 - acc: 0.072 - ETA: 4s - loss: 4.3915 - acc: 0.072 - ETA: 4s - loss: 4.3920 - acc: 0.072 - ETA: 4s - loss: 4.3922 - acc: 0.072 - ETA: 4s - loss: 4.3923 - acc: 0.072 - ETA: 4s - loss: 4.3920 - acc: 0.072 - ETA: 4s - loss: 4.3919 - acc: 0.072 - ETA: 3s - loss: 4.3919 - acc: 0.072 - ETA: 3s - loss: 4.3911 - acc: 0.072 - ETA: 3s - loss: 4.3908 - acc: 0.072 - ETA: 3s - loss: 4.3896 - acc: 0.072 - ETA: 3s - loss: 4.3895 - acc: 0.072 - ETA: 3s - loss: 4.3901 - acc: 0.072 - ETA: 2s - loss: 4.3906 - acc: 0.072 - ETA: 2s - loss: 4.3907 - acc: 0.072 - ETA: 2s - loss: 4.3906 - acc: 0.072 - ETA: 2s - loss: 4.3909 - acc: 0.072 - ETA: 2s - loss: 4.3902 - acc: 0.072 - ETA: 2s - loss: 4.3909 - acc: 0.072 - ETA: 1s - loss: 4.3907 - acc: 0.072 - ETA: 1s - loss: 4.3911 - acc: 0.072 - ETA: 1s - loss: 4.3899 - acc: 0.072 - ETA: 1s - loss: 4.3898 - acc: 0.072 - ETA: 1s - loss: 4.3900 - acc: 0.072 - ETA: 1s - loss: 4.3921 - acc: 0.072 - ETA: 0s - loss: 4.3928 - acc: 0.071 - ETA: 0s - loss: 4.3923 - acc: 0.071 - ETA: 0s - loss: 4.3932 - acc: 0.071 - ETA: 0s - loss: 4.3923 - acc: 0.072 - ETA: 0s - loss: 4.3925 - acc: 0.072 - ETA: 0s - loss: 4.3923 - acc: 0.072 - 56s 8ms/step - loss: 4.3934 - acc: 0.0722 - val_loss: 4.6937 - val_acc: 0.0395\n",
      "\n",
      "Epoch 00006: val_loss improved from 4.83451 to 4.69375, saving model to ../saved_models/weights.best.from_scratch.hdf5\n",
      "Epoch 7/7\n"
     ]
    },
    {
     "name": "stdout",
     "output_type": "stream",
     "text": [
      "4300/6680 [==================>...........] - ETA: 52s - loss: 4.3692 - acc: 0.0000e+ - ETA: 52s - loss: 4.1796 - acc: 0.0750   - ETA: 52s - loss: 4.0937 - acc: 0.08 - ETA: 52s - loss: 4.1221 - acc: 0.07 - ETA: 52s - loss: 4.1594 - acc: 0.06 - ETA: 52s - loss: 4.1965 - acc: 0.05 - ETA: 52s - loss: 4.1535 - acc: 0.05 - ETA: 51s - loss: 4.1473 - acc: 0.07 - ETA: 51s - loss: 4.1334 - acc: 0.07 - ETA: 51s - loss: 4.1440 - acc: 0.07 - ETA: 51s - loss: 4.1426 - acc: 0.08 - ETA: 51s - loss: 4.1275 - acc: 0.09 - ETA: 51s - loss: 4.1204 - acc: 0.08 - ETA: 51s - loss: 4.1061 - acc: 0.09 - ETA: 50s - loss: 4.1043 - acc: 0.08 - ETA: 50s - loss: 4.0862 - acc: 0.09 - ETA: 50s - loss: 4.0885 - acc: 0.10 - ETA: 50s - loss: 4.0879 - acc: 0.10 - ETA: 50s - loss: 4.0908 - acc: 0.10 - ETA: 50s - loss: 4.0706 - acc: 0.10 - ETA: 49s - loss: 4.0690 - acc: 0.10 - ETA: 49s - loss: 4.0588 - acc: 0.10 - ETA: 49s - loss: 4.0516 - acc: 0.10 - ETA: 49s - loss: 4.0376 - acc: 0.11 - ETA: 49s - loss: 4.0458 - acc: 0.11 - ETA: 49s - loss: 4.0490 - acc: 0.10 - ETA: 49s - loss: 4.0572 - acc: 0.10 - ETA: 48s - loss: 4.0723 - acc: 0.10 - ETA: 48s - loss: 4.0632 - acc: 0.10 - ETA: 48s - loss: 4.0601 - acc: 0.10 - ETA: 48s - loss: 4.0568 - acc: 0.10 - ETA: 48s - loss: 4.0456 - acc: 0.11 - ETA: 48s - loss: 4.0392 - acc: 0.11 - ETA: 47s - loss: 4.0355 - acc: 0.11 - ETA: 47s - loss: 4.0392 - acc: 0.11 - ETA: 47s - loss: 4.0404 - acc: 0.11 - ETA: 47s - loss: 4.0441 - acc: 0.11 - ETA: 47s - loss: 4.0501 - acc: 0.11 - ETA: 47s - loss: 4.0568 - acc: 0.11 - ETA: 46s - loss: 4.0531 - acc: 0.11 - ETA: 46s - loss: 4.0517 - acc: 0.11 - ETA: 46s - loss: 4.0613 - acc: 0.11 - ETA: 46s - loss: 4.0672 - acc: 0.11 - ETA: 46s - loss: 4.0766 - acc: 0.11 - ETA: 46s - loss: 4.0730 - acc: 0.11 - ETA: 46s - loss: 4.0774 - acc: 0.11 - ETA: 45s - loss: 4.0832 - acc: 0.11 - ETA: 45s - loss: 4.0819 - acc: 0.11 - ETA: 45s - loss: 4.0751 - acc: 0.11 - ETA: 45s - loss: 4.0812 - acc: 0.11 - ETA: 45s - loss: 4.0830 - acc: 0.10 - ETA: 45s - loss: 4.0809 - acc: 0.11 - ETA: 44s - loss: 4.0928 - acc: 0.11 - ETA: 44s - loss: 4.0927 - acc: 0.11 - ETA: 44s - loss: 4.0955 - acc: 0.10 - ETA: 44s - loss: 4.0867 - acc: 0.11 - ETA: 44s - loss: 4.0896 - acc: 0.10 - ETA: 44s - loss: 4.0918 - acc: 0.10 - ETA: 44s - loss: 4.0901 - acc: 0.11 - ETA: 43s - loss: 4.0899 - acc: 0.10 - ETA: 43s - loss: 4.0917 - acc: 0.10 - ETA: 43s - loss: 4.0927 - acc: 0.10 - ETA: 43s - loss: 4.0997 - acc: 0.10 - ETA: 43s - loss: 4.0971 - acc: 0.10 - ETA: 43s - loss: 4.0983 - acc: 0.10 - ETA: 42s - loss: 4.0998 - acc: 0.10 - ETA: 42s - loss: 4.1032 - acc: 0.10 - ETA: 42s - loss: 4.1051 - acc: 0.10 - ETA: 42s - loss: 4.1074 - acc: 0.10 - ETA: 42s - loss: 4.1076 - acc: 0.10 - ETA: 42s - loss: 4.1098 - acc: 0.10 - ETA: 41s - loss: 4.1120 - acc: 0.10 - ETA: 41s - loss: 4.1163 - acc: 0.10 - ETA: 41s - loss: 4.1180 - acc: 0.10 - ETA: 41s - loss: 4.1209 - acc: 0.10 - ETA: 41s - loss: 4.1198 - acc: 0.10 - ETA: 41s - loss: 4.1245 - acc: 0.10 - ETA: 40s - loss: 4.1221 - acc: 0.10 - ETA: 40s - loss: 4.1256 - acc: 0.10 - ETA: 40s - loss: 4.1232 - acc: 0.10 - ETA: 40s - loss: 4.1278 - acc: 0.10 - ETA: 40s - loss: 4.1289 - acc: 0.10 - ETA: 40s - loss: 4.1224 - acc: 0.10 - ETA: 40s - loss: 4.1210 - acc: 0.10 - ETA: 39s - loss: 4.1183 - acc: 0.10 - ETA: 39s - loss: 4.1209 - acc: 0.10 - ETA: 39s - loss: 4.1211 - acc: 0.10 - ETA: 39s - loss: 4.1192 - acc: 0.10 - ETA: 39s - loss: 4.1195 - acc: 0.10 - ETA: 39s - loss: 4.1216 - acc: 0.10 - ETA: 38s - loss: 4.1221 - acc: 0.10 - ETA: 38s - loss: 4.1247 - acc: 0.10 - ETA: 38s - loss: 4.1257 - acc: 0.10 - ETA: 38s - loss: 4.1281 - acc: 0.10 - ETA: 38s - loss: 4.1295 - acc: 0.10 - ETA: 38s - loss: 4.1277 - acc: 0.10 - ETA: 37s - loss: 4.1256 - acc: 0.10 - ETA: 37s - loss: 4.1282 - acc: 0.10 - ETA: 37s - loss: 4.1288 - acc: 0.10 - ETA: 37s - loss: 4.1273 - acc: 0.10 - ETA: 37s - loss: 4.1303 - acc: 0.10 - ETA: 37s - loss: 4.1319 - acc: 0.10 - ETA: 36s - loss: 4.1307 - acc: 0.10 - ETA: 36s - loss: 4.1352 - acc: 0.10 - ETA: 36s - loss: 4.1358 - acc: 0.10 - ETA: 36s - loss: 4.1375 - acc: 0.10 - ETA: 36s - loss: 4.1372 - acc: 0.10 - ETA: 36s - loss: 4.1354 - acc: 0.10 - ETA: 36s - loss: 4.1368 - acc: 0.10 - ETA: 35s - loss: 4.1380 - acc: 0.10 - ETA: 35s - loss: 4.1387 - acc: 0.10 - ETA: 35s - loss: 4.1417 - acc: 0.10 - ETA: 35s - loss: 4.1401 - acc: 0.10 - ETA: 35s - loss: 4.1409 - acc: 0.10 - ETA: 35s - loss: 4.1402 - acc: 0.10 - ETA: 34s - loss: 4.1415 - acc: 0.10 - ETA: 34s - loss: 4.1448 - acc: 0.10 - ETA: 34s - loss: 4.1420 - acc: 0.10 - ETA: 34s - loss: 4.1411 - acc: 0.10 - ETA: 34s - loss: 4.1420 - acc: 0.10 - ETA: 34s - loss: 4.1406 - acc: 0.10 - ETA: 33s - loss: 4.1414 - acc: 0.10 - ETA: 33s - loss: 4.1395 - acc: 0.10 - ETA: 33s - loss: 4.1406 - acc: 0.10 - ETA: 33s - loss: 4.1386 - acc: 0.10 - ETA: 33s - loss: 4.1355 - acc: 0.10 - ETA: 33s - loss: 4.1388 - acc: 0.10 - ETA: 32s - loss: 4.1391 - acc: 0.10 - ETA: 32s - loss: 4.1375 - acc: 0.10 - ETA: 32s - loss: 4.1364 - acc: 0.10 - ETA: 32s - loss: 4.1354 - acc: 0.10 - ETA: 32s - loss: 4.1366 - acc: 0.10 - ETA: 32s - loss: 4.1352 - acc: 0.10 - ETA: 32s - loss: 4.1366 - acc: 0.10 - ETA: 31s - loss: 4.1368 - acc: 0.10 - ETA: 31s - loss: 4.1382 - acc: 0.10 - ETA: 31s - loss: 4.1358 - acc: 0.10 - ETA: 31s - loss: 4.1375 - acc: 0.10 - ETA: 31s - loss: 4.1393 - acc: 0.10 - ETA: 31s - loss: 4.1382 - acc: 0.10 - ETA: 30s - loss: 4.1383 - acc: 0.10 - ETA: 30s - loss: 4.1406 - acc: 0.10 - ETA: 30s - loss: 4.1398 - acc: 0.10 - ETA: 30s - loss: 4.1413 - acc: 0.10 - ETA: 30s - loss: 4.1411 - acc: 0.10 - ETA: 30s - loss: 4.1415 - acc: 0.10 - ETA: 29s - loss: 4.1407 - acc: 0.10 - ETA: 29s - loss: 4.1413 - acc: 0.10 - ETA: 29s - loss: 4.1422 - acc: 0.10 - ETA: 29s - loss: 4.1430 - acc: 0.10 - ETA: 29s - loss: 4.1450 - acc: 0.10 - ETA: 29s - loss: 4.1468 - acc: 0.10 - ETA: 28s - loss: 4.1449 - acc: 0.10 - ETA: 28s - loss: 4.1474 - acc: 0.10 - ETA: 28s - loss: 4.1491 - acc: 0.10 - ETA: 28s - loss: 4.1490 - acc: 0.10 - ETA: 28s - loss: 4.1492 - acc: 0.10 - ETA: 28s - loss: 4.1489 - acc: 0.10 - ETA: 28s - loss: 4.1487 - acc: 0.10 - ETA: 27s - loss: 4.1501 - acc: 0.10 - ETA: 27s - loss: 4.1496 - acc: 0.10 - ETA: 27s - loss: 4.1502 - acc: 0.10 - ETA: 27s - loss: 4.1503 - acc: 0.10 - ETA: 27s - loss: 4.1473 - acc: 0.10 - ETA: 27s - loss: 4.1471 - acc: 0.10 - ETA: 26s - loss: 4.1444 - acc: 0.10 - ETA: 26s - loss: 4.1458 - acc: 0.10 - ETA: 26s - loss: 4.1462 - acc: 0.10 - ETA: 26s - loss: 4.1455 - acc: 0.10 - ETA: 26s - loss: 4.1463 - acc: 0.10 - ETA: 26s - loss: 4.1455 - acc: 0.10 - ETA: 25s - loss: 4.1456 - acc: 0.10 - ETA: 25s - loss: 4.1470 - acc: 0.10 - ETA: 25s - loss: 4.1488 - acc: 0.10 - ETA: 25s - loss: 4.1482 - acc: 0.10 - ETA: 25s - loss: 4.1490 - acc: 0.10 - ETA: 25s - loss: 4.1501 - acc: 0.10 - ETA: 24s - loss: 4.1498 - acc: 0.10 - ETA: 24s - loss: 4.1483 - acc: 0.10 - ETA: 24s - loss: 4.1499 - acc: 0.10 - ETA: 24s - loss: 4.1506 - acc: 0.10 - ETA: 24s - loss: 4.1486 - acc: 0.10 - ETA: 24s - loss: 4.1492 - acc: 0.10 - ETA: 24s - loss: 4.1490 - acc: 0.10 - ETA: 23s - loss: 4.1513 - acc: 0.10 - ETA: 23s - loss: 4.1519 - acc: 0.10 - ETA: 23s - loss: 4.1514 - acc: 0.10 - ETA: 23s - loss: 4.1516 - acc: 0.10 - ETA: 23s - loss: 4.1506 - acc: 0.10 - ETA: 23s - loss: 4.1509 - acc: 0.10 - ETA: 22s - loss: 4.1520 - acc: 0.10 - ETA: 22s - loss: 4.1508 - acc: 0.10 - ETA: 22s - loss: 4.1511 - acc: 0.10 - ETA: 22s - loss: 4.1507 - acc: 0.10 - ETA: 22s - loss: 4.1496 - acc: 0.10 - ETA: 22s - loss: 4.1521 - acc: 0.10 - ETA: 21s - loss: 4.1514 - acc: 0.10 - ETA: 21s - loss: 4.1526 - acc: 0.10 - ETA: 21s - loss: 4.1501 - acc: 0.10 - ETA: 21s - loss: 4.1517 - acc: 0.10 - ETA: 21s - loss: 4.1520 - acc: 0.10 - ETA: 21s - loss: 4.1511 - acc: 0.10 - ETA: 20s - loss: 4.1508 - acc: 0.10 - ETA: 20s - loss: 4.1513 - acc: 0.10 - ETA: 20s - loss: 4.1512 - acc: 0.10 - ETA: 20s - loss: 4.1531 - acc: 0.10 - ETA: 20s - loss: 4.1536 - acc: 0.10 - ETA: 20s - loss: 4.1528 - acc: 0.10 - ETA: 20s - loss: 4.1535 - acc: 0.10 - ETA: 19s - loss: 4.1546 - acc: 0.10 - ETA: 19s - loss: 4.1559 - acc: 0.10 - ETA: 19s - loss: 4.1547 - acc: 0.10 - ETA: 19s - loss: 4.1557 - acc: 0.10 - ETA: 19s - loss: 4.1557 - acc: 0.10 - ETA: 19s - loss: 4.1551 - acc: 0.1060"
     ]
    },
    {
     "name": "stdout",
     "output_type": "stream",
     "text": [
      "6680/6680 [==============================] - ETA: 18s - loss: 4.1578 - acc: 0.10 - ETA: 18s - loss: 4.1594 - acc: 0.10 - ETA: 18s - loss: 4.1601 - acc: 0.10 - ETA: 18s - loss: 4.1602 - acc: 0.10 - ETA: 18s - loss: 4.1599 - acc: 0.10 - ETA: 18s - loss: 4.1597 - acc: 0.10 - ETA: 17s - loss: 4.1607 - acc: 0.10 - ETA: 17s - loss: 4.1619 - acc: 0.10 - ETA: 17s - loss: 4.1632 - acc: 0.10 - ETA: 17s - loss: 4.1642 - acc: 0.10 - ETA: 17s - loss: 4.1640 - acc: 0.10 - ETA: 17s - loss: 4.1638 - acc: 0.10 - ETA: 16s - loss: 4.1635 - acc: 0.10 - ETA: 16s - loss: 4.1642 - acc: 0.10 - ETA: 16s - loss: 4.1632 - acc: 0.10 - ETA: 16s - loss: 4.1636 - acc: 0.10 - ETA: 16s - loss: 4.1630 - acc: 0.10 - ETA: 16s - loss: 4.1628 - acc: 0.10 - ETA: 16s - loss: 4.1620 - acc: 0.10 - ETA: 15s - loss: 4.1624 - acc: 0.10 - ETA: 15s - loss: 4.1640 - acc: 0.10 - ETA: 15s - loss: 4.1642 - acc: 0.10 - ETA: 15s - loss: 4.1651 - acc: 0.10 - ETA: 15s - loss: 4.1652 - acc: 0.10 - ETA: 15s - loss: 4.1659 - acc: 0.10 - ETA: 14s - loss: 4.1654 - acc: 0.10 - ETA: 14s - loss: 4.1645 - acc: 0.10 - ETA: 14s - loss: 4.1652 - acc: 0.10 - ETA: 14s - loss: 4.1655 - acc: 0.10 - ETA: 14s - loss: 4.1675 - acc: 0.10 - ETA: 14s - loss: 4.1667 - acc: 0.10 - ETA: 13s - loss: 4.1653 - acc: 0.10 - ETA: 13s - loss: 4.1671 - acc: 0.10 - ETA: 13s - loss: 4.1677 - acc: 0.10 - ETA: 13s - loss: 4.1668 - acc: 0.10 - ETA: 13s - loss: 4.1675 - acc: 0.10 - ETA: 13s - loss: 4.1689 - acc: 0.10 - ETA: 12s - loss: 4.1688 - acc: 0.10 - ETA: 12s - loss: 4.1692 - acc: 0.10 - ETA: 12s - loss: 4.1707 - acc: 0.10 - ETA: 12s - loss: 4.1700 - acc: 0.10 - ETA: 12s - loss: 4.1710 - acc: 0.10 - ETA: 12s - loss: 4.1708 - acc: 0.10 - ETA: 12s - loss: 4.1701 - acc: 0.10 - ETA: 11s - loss: 4.1702 - acc: 0.10 - ETA: 11s - loss: 4.1713 - acc: 0.10 - ETA: 11s - loss: 4.1690 - acc: 0.10 - ETA: 11s - loss: 4.1689 - acc: 0.10 - ETA: 11s - loss: 4.1701 - acc: 0.10 - ETA: 11s - loss: 4.1718 - acc: 0.10 - ETA: 10s - loss: 4.1726 - acc: 0.10 - ETA: 10s - loss: 4.1709 - acc: 0.10 - ETA: 10s - loss: 4.1723 - acc: 0.10 - ETA: 10s - loss: 4.1719 - acc: 0.10 - ETA: 10s - loss: 4.1722 - acc: 0.10 - ETA: 10s - loss: 4.1738 - acc: 0.10 - ETA: 9s - loss: 4.1733 - acc: 0.1020 - ETA: 9s - loss: 4.1730 - acc: 0.101 - ETA: 9s - loss: 4.1731 - acc: 0.101 - ETA: 9s - loss: 4.1731 - acc: 0.101 - ETA: 9s - loss: 4.1736 - acc: 0.101 - ETA: 9s - loss: 4.1739 - acc: 0.101 - ETA: 8s - loss: 4.1741 - acc: 0.101 - ETA: 8s - loss: 4.1747 - acc: 0.101 - ETA: 8s - loss: 4.1760 - acc: 0.100 - ETA: 8s - loss: 4.1769 - acc: 0.100 - ETA: 8s - loss: 4.1770 - acc: 0.100 - ETA: 8s - loss: 4.1768 - acc: 0.100 - ETA: 8s - loss: 4.1767 - acc: 0.100 - ETA: 7s - loss: 4.1759 - acc: 0.100 - ETA: 7s - loss: 4.1757 - acc: 0.100 - ETA: 7s - loss: 4.1773 - acc: 0.100 - ETA: 7s - loss: 4.1773 - acc: 0.100 - ETA: 7s - loss: 4.1777 - acc: 0.100 - ETA: 7s - loss: 4.1774 - acc: 0.100 - ETA: 6s - loss: 4.1773 - acc: 0.100 - ETA: 6s - loss: 4.1765 - acc: 0.100 - ETA: 6s - loss: 4.1765 - acc: 0.099 - ETA: 6s - loss: 4.1765 - acc: 0.099 - ETA: 6s - loss: 4.1775 - acc: 0.099 - ETA: 6s - loss: 4.1770 - acc: 0.099 - ETA: 5s - loss: 4.1775 - acc: 0.099 - ETA: 5s - loss: 4.1776 - acc: 0.099 - ETA: 5s - loss: 4.1781 - acc: 0.099 - ETA: 5s - loss: 4.1782 - acc: 0.099 - ETA: 5s - loss: 4.1779 - acc: 0.099 - ETA: 5s - loss: 4.1783 - acc: 0.099 - ETA: 4s - loss: 4.1780 - acc: 0.099 - ETA: 4s - loss: 4.1780 - acc: 0.099 - ETA: 4s - loss: 4.1772 - acc: 0.099 - ETA: 4s - loss: 4.1775 - acc: 0.099 - ETA: 4s - loss: 4.1774 - acc: 0.099 - ETA: 4s - loss: 4.1778 - acc: 0.099 - ETA: 4s - loss: 4.1775 - acc: 0.099 - ETA: 3s - loss: 4.1778 - acc: 0.099 - ETA: 3s - loss: 4.1783 - acc: 0.099 - ETA: 3s - loss: 4.1785 - acc: 0.099 - ETA: 3s - loss: 4.1774 - acc: 0.099 - ETA: 3s - loss: 4.1771 - acc: 0.099 - ETA: 3s - loss: 4.1770 - acc: 0.099 - ETA: 2s - loss: 4.1758 - acc: 0.099 - ETA: 2s - loss: 4.1752 - acc: 0.099 - ETA: 2s - loss: 4.1753 - acc: 0.099 - ETA: 2s - loss: 4.1750 - acc: 0.099 - ETA: 2s - loss: 4.1752 - acc: 0.099 - ETA: 2s - loss: 4.1758 - acc: 0.099 - ETA: 1s - loss: 4.1757 - acc: 0.099 - ETA: 1s - loss: 4.1753 - acc: 0.099 - ETA: 1s - loss: 4.1753 - acc: 0.098 - ETA: 1s - loss: 4.1756 - acc: 0.099 - ETA: 1s - loss: 4.1761 - acc: 0.099 - ETA: 1s - loss: 4.1766 - acc: 0.099 - ETA: 0s - loss: 4.1775 - acc: 0.098 - ETA: 0s - loss: 4.1780 - acc: 0.098 - ETA: 0s - loss: 4.1771 - acc: 0.098 - ETA: 0s - loss: 4.1760 - acc: 0.099 - ETA: 0s - loss: 4.1759 - acc: 0.099 - ETA: 0s - loss: 4.1760 - acc: 0.099 - 56s 8ms/step - loss: 4.1756 - acc: 0.0993 - val_loss: 4.4448 - val_acc: 0.0683\n",
      "\n",
      "Epoch 00007: val_loss improved from 4.69375 to 4.44485, saving model to ../saved_models/weights.best.from_scratch.hdf5\n"
     ]
    },
    {
     "data": {
      "text/plain": [
       "<keras.callbacks.History at 0x224894b0978>"
      ]
     },
     "execution_count": 53,
     "metadata": {},
     "output_type": "execute_result"
    }
   ],
   "source": [
    "from keras.callbacks import ModelCheckpoint  \n",
    "\n",
    "### TODO: specify the number of epochs that you would like to use to train the model.\n",
    "\n",
    "epochs = 7\n",
    "\n",
    "### Do NOT modify the code below this line.\n",
    "\n",
    "checkpointer = ModelCheckpoint(filepath='../saved_models/weights.best.from_scratch.hdf5', \n",
    "                               verbose=1, save_best_only=True)\n",
    "\n",
    "model.fit(train_tensors, train_targets, \n",
    "          validation_data=(valid_tensors, valid_targets),\n",
    "          epochs=epochs, batch_size=20, callbacks=[checkpointer], verbose=1)"
   ]
  },
  {
   "cell_type": "markdown",
   "metadata": {},
   "source": [
    "### Load the Model with the Best Validation Loss"
   ]
  },
  {
   "cell_type": "code",
   "execution_count": 54,
   "metadata": {},
   "outputs": [],
   "source": [
    "model.load_weights('../saved_models/weights.best.from_scratch.hdf5')"
   ]
  },
  {
   "cell_type": "markdown",
   "metadata": {},
   "source": [
    "### Test the Model\n",
    "\n",
    "Try out your model on the test dataset of dog images.  Ensure that your test accuracy is greater than 1%."
   ]
  },
  {
   "cell_type": "code",
   "execution_count": 55,
   "metadata": {},
   "outputs": [
    {
     "name": "stdout",
     "output_type": "stream",
     "text": [
      "Test accuracy: 5.3828%\n"
     ]
    }
   ],
   "source": [
    "# get index of predicted dog breed for each image in test set\n",
    "dog_breed_predictions = [np.argmax(model.predict(np.expand_dims(tensor, axis=0))) for tensor in test_tensors]\n",
    "\n",
    "# report test accuracy\n",
    "test_accuracy = 100*np.sum(np.array(dog_breed_predictions)==np.argmax(test_targets, axis=1))/len(dog_breed_predictions)\n",
    "print('Test accuracy: %.4f%%' % test_accuracy)"
   ]
  },
  {
   "cell_type": "markdown",
   "metadata": {},
   "source": [
    "---\n",
    "<a id='step4'></a>\n",
    "## Step 4: Use a CNN to Classify Dog Breeds\n",
    "\n",
    "To reduce training time without sacrificing accuracy, we show you how to train a CNN using transfer learning.  In the following step, you will get a chance to use transfer learning to train your own CNN.\n",
    "\n",
    "### Obtain Bottleneck Features"
   ]
  },
  {
   "cell_type": "code",
   "execution_count": 56,
   "metadata": {},
   "outputs": [],
   "source": [
    "bottleneck_features = np.load('../bottleneck_features/DogVGG16Data.npz')\n",
    "train_VGG16 = bottleneck_features['train']\n",
    "valid_VGG16 = bottleneck_features['valid']\n",
    "test_VGG16 = bottleneck_features['test']"
   ]
  },
  {
   "cell_type": "markdown",
   "metadata": {},
   "source": [
    "### Model Architecture\n",
    "\n",
    "The model uses the the pre-trained VGG-16 model as a fixed feature extractor, where the last convolutional output of VGG-16 is fed as input to our model.  We only add a global average pooling layer and a fully connected layer, where the latter contains one node for each dog category and is equipped with a softmax."
   ]
  },
  {
   "cell_type": "code",
   "execution_count": 57,
   "metadata": {},
   "outputs": [
    {
     "name": "stdout",
     "output_type": "stream",
     "text": [
      "Model: \"sequential_6\"\n",
      "_________________________________________________________________\n",
      "Layer (type)                 Output Shape              Param #   \n",
      "=================================================================\n",
      "global_average_pooling2d_2 ( (None, 512)               0         \n",
      "_________________________________________________________________\n",
      "dense_10 (Dense)             (None, 133)               68229     \n",
      "=================================================================\n",
      "Total params: 68,229\n",
      "Trainable params: 68,229\n",
      "Non-trainable params: 0\n",
      "_________________________________________________________________\n"
     ]
    }
   ],
   "source": [
    "VGG16_model = Sequential()\n",
    "VGG16_model.add(GlobalAveragePooling2D(input_shape=train_VGG16.shape[1:]))\n",
    "VGG16_model.add(Dense(133, activation='softmax'))\n",
    "\n",
    "VGG16_model.summary()"
   ]
  },
  {
   "cell_type": "markdown",
   "metadata": {},
   "source": [
    "### Compile the Model"
   ]
  },
  {
   "cell_type": "code",
   "execution_count": 58,
   "metadata": {},
   "outputs": [],
   "source": [
    "VGG16_model.compile(loss='categorical_crossentropy', optimizer='rmsprop', metrics=['accuracy'])"
   ]
  },
  {
   "cell_type": "markdown",
   "metadata": {},
   "source": [
    "### Train the Model"
   ]
  },
  {
   "cell_type": "code",
   "execution_count": 59,
   "metadata": {
    "scrolled": true
   },
   "outputs": [
    {
     "name": "stdout",
     "output_type": "stream",
     "text": [
      "Train on 6680 samples, validate on 835 samples\n",
      "Epoch 1/20\n",
      "6680/6680 [==============================] - ETA: 10:29 - loss: 15.6832 - acc: 0.0000e+0 - ETA: 1:10 - loss: 14.6015 - acc: 0.0222    - ETA: 31s - loss: 14.5375 - acc: 0.0200 - ETA: 20s - loss: 14.2659 - acc: 0.021 - ETA: 14s - loss: 14.1452 - acc: 0.031 - ETA: 11s - loss: 14.0589 - acc: 0.032 - ETA: 9s - loss: 13.9519 - acc: 0.032 - ETA: 7s - loss: 13.8538 - acc: 0.04 - ETA: 6s - loss: 13.6686 - acc: 0.04 - ETA: 5s - loss: 13.5612 - acc: 0.05 - ETA: 5s - loss: 13.4573 - acc: 0.05 - ETA: 4s - loss: 13.3802 - acc: 0.06 - ETA: 4s - loss: 13.2096 - acc: 0.06 - ETA: 3s - loss: 13.1561 - acc: 0.07 - ETA: 3s - loss: 13.1026 - acc: 0.07 - ETA: 2s - loss: 12.9833 - acc: 0.07 - ETA: 2s - loss: 12.8987 - acc: 0.08 - ETA: 2s - loss: 12.7866 - acc: 0.08 - ETA: 2s - loss: 12.6672 - acc: 0.09 - ETA: 1s - loss: 12.5737 - acc: 0.09 - ETA: 1s - loss: 12.5038 - acc: 0.10 - ETA: 1s - loss: 12.4453 - acc: 0.10 - ETA: 1s - loss: 12.3837 - acc: 0.10 - ETA: 1s - loss: 12.3397 - acc: 0.11 - ETA: 0s - loss: 12.2711 - acc: 0.11 - ETA: 0s - loss: 12.1956 - acc: 0.11 - ETA: 0s - loss: 12.1269 - acc: 0.11 - ETA: 0s - loss: 12.0778 - acc: 0.12 - ETA: 0s - loss: 12.0162 - acc: 0.12 - ETA: 0s - loss: 11.9720 - acc: 0.12 - ETA: 0s - loss: 11.9005 - acc: 0.13 - 4s 590us/step - loss: 11.8712 - acc: 0.1331 - val_loss: 9.9316 - val_acc: 0.2395\n",
      "\n",
      "Epoch 00001: val_loss improved from inf to 9.93157, saving model to ../saved_models/weights.best.VGG16.hdf5\n",
      "Epoch 2/20\n",
      "6680/6680 [==============================] - ETA: 1s - loss: 8.6346 - acc: 0.350 - ETA: 1s - loss: 9.7821 - acc: 0.277 - ETA: 1s - loss: 9.5453 - acc: 0.293 - ETA: 1s - loss: 9.3832 - acc: 0.303 - ETA: 1s - loss: 9.4926 - acc: 0.301 - ETA: 1s - loss: 9.5384 - acc: 0.293 - ETA: 1s - loss: 9.4299 - acc: 0.297 - ETA: 1s - loss: 9.6159 - acc: 0.290 - ETA: 1s - loss: 9.6516 - acc: 0.285 - ETA: 1s - loss: 9.6371 - acc: 0.286 - ETA: 1s - loss: 9.5442 - acc: 0.293 - ETA: 1s - loss: 9.5407 - acc: 0.293 - ETA: 1s - loss: 9.5023 - acc: 0.298 - ETA: 0s - loss: 9.4978 - acc: 0.298 - ETA: 0s - loss: 9.5579 - acc: 0.298 - ETA: 0s - loss: 9.5666 - acc: 0.299 - ETA: 0s - loss: 9.5240 - acc: 0.301 - ETA: 0s - loss: 9.4732 - acc: 0.305 - ETA: 0s - loss: 9.4574 - acc: 0.306 - ETA: 0s - loss: 9.4859 - acc: 0.305 - ETA: 0s - loss: 9.4869 - acc: 0.305 - ETA: 0s - loss: 9.4995 - acc: 0.305 - ETA: 0s - loss: 9.5104 - acc: 0.304 - ETA: 0s - loss: 9.4990 - acc: 0.307 - ETA: 0s - loss: 9.4799 - acc: 0.307 - ETA: 0s - loss: 9.4317 - acc: 0.310 - ETA: 0s - loss: 9.3858 - acc: 0.312 - ETA: 0s - loss: 9.3463 - acc: 0.315 - ETA: 0s - loss: 9.3143 - acc: 0.317 - ETA: 0s - loss: 9.2861 - acc: 0.318 - ETA: 0s - loss: 9.2788 - acc: 0.319 - ETA: 0s - loss: 9.2406 - acc: 0.322 - ETA: 0s - loss: 9.1935 - acc: 0.325 - 2s 278us/step - loss: 9.2030 - acc: 0.3250 - val_loss: 9.1792 - val_acc: 0.3066\n",
      "\n",
      "Epoch 00002: val_loss improved from 9.93157 to 9.17920, saving model to ../saved_models/weights.best.VGG16.hdf5\n",
      "Epoch 3/20\n",
      "6680/6680 [==============================] - ETA: 1s - loss: 10.9103 - acc: 0.25 - ETA: 1s - loss: 9.1102 - acc: 0.3682 - ETA: 1s - loss: 8.8634 - acc: 0.385 - ETA: 1s - loss: 8.9672 - acc: 0.374 - ETA: 1s - loss: 8.9182 - acc: 0.377 - ETA: 1s - loss: 8.7245 - acc: 0.388 - ETA: 1s - loss: 8.6168 - acc: 0.396 - ETA: 1s - loss: 8.6165 - acc: 0.401 - ETA: 1s - loss: 8.6116 - acc: 0.399 - ETA: 1s - loss: 8.6554 - acc: 0.396 - ETA: 1s - loss: 8.7140 - acc: 0.391 - ETA: 1s - loss: 8.7193 - acc: 0.391 - ETA: 1s - loss: 8.6734 - acc: 0.393 - ETA: 1s - loss: 8.6244 - acc: 0.393 - ETA: 0s - loss: 8.6230 - acc: 0.394 - ETA: 0s - loss: 8.5836 - acc: 0.397 - ETA: 0s - loss: 8.6194 - acc: 0.397 - ETA: 0s - loss: 8.6213 - acc: 0.396 - ETA: 0s - loss: 8.6214 - acc: 0.395 - ETA: 0s - loss: 8.5824 - acc: 0.396 - ETA: 0s - loss: 8.6361 - acc: 0.394 - ETA: 0s - loss: 8.6505 - acc: 0.392 - ETA: 0s - loss: 8.6495 - acc: 0.393 - ETA: 0s - loss: 8.6039 - acc: 0.396 - ETA: 0s - loss: 8.6515 - acc: 0.393 - ETA: 0s - loss: 8.6289 - acc: 0.395 - ETA: 0s - loss: 8.6443 - acc: 0.393 - ETA: 0s - loss: 8.6120 - acc: 0.396 - ETA: 0s - loss: 8.6230 - acc: 0.396 - ETA: 0s - loss: 8.5973 - acc: 0.397 - ETA: 0s - loss: 8.5781 - acc: 0.398 - ETA: 0s - loss: 8.5462 - acc: 0.399 - ETA: 0s - loss: 8.5659 - acc: 0.398 - 2s 275us/step - loss: 8.5655 - acc: 0.3988 - val_loss: 8.8821 - val_acc: 0.3557\n",
      "\n",
      "Epoch 00003: val_loss improved from 9.17920 to 8.88210, saving model to ../saved_models/weights.best.VGG16.hdf5\n",
      "Epoch 4/20\n",
      "6680/6680 [==============================] - ETA: 1s - loss: 10.1280 - acc: 0.30 - ETA: 1s - loss: 8.3277 - acc: 0.4364 - ETA: 1s - loss: 8.6653 - acc: 0.417 - ETA: 1s - loss: 8.6149 - acc: 0.419 - ETA: 1s - loss: 8.5455 - acc: 0.417 - ETA: 1s - loss: 8.4948 - acc: 0.421 - ETA: 1s - loss: 8.4050 - acc: 0.426 - ETA: 1s - loss: 8.4810 - acc: 0.422 - ETA: 1s - loss: 8.4410 - acc: 0.423 - ETA: 1s - loss: 8.4015 - acc: 0.428 - ETA: 1s - loss: 8.4454 - acc: 0.429 - ETA: 1s - loss: 8.4391 - acc: 0.431 - ETA: 1s - loss: 8.4874 - acc: 0.427 - ETA: 0s - loss: 8.4739 - acc: 0.427 - ETA: 0s - loss: 8.4531 - acc: 0.428 - ETA: 0s - loss: 8.5068 - acc: 0.425 - ETA: 0s - loss: 8.5104 - acc: 0.425 - ETA: 0s - loss: 8.4967 - acc: 0.426 - ETA: 0s - loss: 8.4496 - acc: 0.426 - ETA: 0s - loss: 8.4553 - acc: 0.426 - ETA: 0s - loss: 8.4767 - acc: 0.425 - ETA: 0s - loss: 8.4186 - acc: 0.429 - ETA: 0s - loss: 8.3833 - acc: 0.431 - ETA: 0s - loss: 8.3695 - acc: 0.431 - ETA: 0s - loss: 8.3908 - acc: 0.429 - ETA: 0s - loss: 8.3965 - acc: 0.428 - ETA: 0s - loss: 8.3615 - acc: 0.431 - ETA: 0s - loss: 8.3649 - acc: 0.431 - ETA: 0s - loss: 8.3441 - acc: 0.432 - ETA: 0s - loss: 8.3446 - acc: 0.433 - ETA: 0s - loss: 8.3216 - acc: 0.434 - ETA: 0s - loss: 8.3179 - acc: 0.435 - 2s 272us/step - loss: 8.3199 - acc: 0.4350 - val_loss: 8.7598 - val_acc: 0.3737\n",
      "\n",
      "Epoch 00004: val_loss improved from 8.88210 to 8.75982, saving model to ../saved_models/weights.best.VGG16.hdf5\n",
      "Epoch 5/20\n",
      "6680/6680 [==============================] - ETA: 1s - loss: 6.7666 - acc: 0.500 - ETA: 1s - loss: 7.7723 - acc: 0.495 - ETA: 1s - loss: 7.9849 - acc: 0.478 - ETA: 1s - loss: 8.4686 - acc: 0.443 - ETA: 1s - loss: 8.3173 - acc: 0.452 - ETA: 1s - loss: 8.0738 - acc: 0.470 - ETA: 1s - loss: 8.2053 - acc: 0.458 - ETA: 1s - loss: 8.2934 - acc: 0.452 - ETA: 1s - loss: 8.3231 - acc: 0.451 - ETA: 1s - loss: 8.2347 - acc: 0.457 - ETA: 1s - loss: 8.2835 - acc: 0.454 - ETA: 1s - loss: 8.1517 - acc: 0.461 - ETA: 1s - loss: 8.0583 - acc: 0.467 - ETA: 1s - loss: 8.1212 - acc: 0.463 - ETA: 1s - loss: 8.1334 - acc: 0.463 - ETA: 0s - loss: 8.1081 - acc: 0.464 - ETA: 0s - loss: 8.0588 - acc: 0.467 - ETA: 0s - loss: 8.0650 - acc: 0.466 - ETA: 0s - loss: 8.1115 - acc: 0.463 - ETA: 0s - loss: 8.1072 - acc: 0.462 - ETA: 0s - loss: 8.1261 - acc: 0.461 - ETA: 0s - loss: 8.1253 - acc: 0.460 - ETA: 0s - loss: 8.1425 - acc: 0.458 - ETA: 0s - loss: 8.1638 - acc: 0.457 - ETA: 0s - loss: 8.1704 - acc: 0.457 - ETA: 0s - loss: 8.1798 - acc: 0.457 - ETA: 0s - loss: 8.2059 - acc: 0.455 - ETA: 0s - loss: 8.1742 - acc: 0.457 - ETA: 0s - loss: 8.1641 - acc: 0.458 - ETA: 0s - loss: 8.1622 - acc: 0.458 - ETA: 0s - loss: 8.1550 - acc: 0.458 - ETA: 0s - loss: 8.1649 - acc: 0.457 - ETA: 0s - loss: 8.1912 - acc: 0.455 - ETA: 0s - loss: 8.1865 - acc: 0.455 - 2s 288us/step - loss: 8.1833 - acc: 0.4558 - val_loss: 8.6940 - val_acc: 0.3772\n",
      "\n",
      "Epoch 00005: val_loss improved from 8.75982 to 8.69397, saving model to ../saved_models/weights.best.VGG16.hdf5\n",
      "Epoch 6/20\n"
     ]
    },
    {
     "name": "stdout",
     "output_type": "stream",
     "text": [
      "6680/6680 [==============================] - ETA: 1s - loss: 10.5636 - acc: 0.30 - ETA: 1s - loss: 7.3853 - acc: 0.5273 - ETA: 1s - loss: 7.7229 - acc: 0.495 - ETA: 1s - loss: 7.5612 - acc: 0.498 - ETA: 1s - loss: 7.9067 - acc: 0.476 - ETA: 1s - loss: 7.8202 - acc: 0.483 - ETA: 1s - loss: 7.7931 - acc: 0.485 - ETA: 1s - loss: 7.8269 - acc: 0.483 - ETA: 1s - loss: 7.9265 - acc: 0.476 - ETA: 1s - loss: 7.8962 - acc: 0.479 - ETA: 1s - loss: 7.8914 - acc: 0.478 - ETA: 1s - loss: 7.8876 - acc: 0.479 - ETA: 1s - loss: 7.8451 - acc: 0.480 - ETA: 1s - loss: 7.8347 - acc: 0.481 - ETA: 1s - loss: 7.8752 - acc: 0.477 - ETA: 0s - loss: 7.8883 - acc: 0.477 - ETA: 0s - loss: 7.8877 - acc: 0.477 - ETA: 0s - loss: 7.8777 - acc: 0.476 - ETA: 0s - loss: 7.8539 - acc: 0.479 - ETA: 0s - loss: 7.8279 - acc: 0.480 - ETA: 0s - loss: 7.7781 - acc: 0.483 - ETA: 0s - loss: 7.8049 - acc: 0.481 - ETA: 0s - loss: 7.8531 - acc: 0.478 - ETA: 0s - loss: 7.8565 - acc: 0.477 - ETA: 0s - loss: 7.8547 - acc: 0.476 - ETA: 0s - loss: 7.8881 - acc: 0.474 - ETA: 0s - loss: 7.9102 - acc: 0.472 - ETA: 0s - loss: 7.9272 - acc: 0.470 - ETA: 0s - loss: 7.9174 - acc: 0.471 - ETA: 0s - loss: 7.9041 - acc: 0.473 - ETA: 0s - loss: 7.9097 - acc: 0.471 - ETA: 0s - loss: 7.8958 - acc: 0.473 - ETA: 0s - loss: 7.8970 - acc: 0.473 - ETA: 0s - loss: 7.8989 - acc: 0.473 - 2s 288us/step - loss: 7.9003 - acc: 0.4732 - val_loss: 8.3199 - val_acc: 0.3988\n",
      "\n",
      "Epoch 00006: val_loss improved from 8.69397 to 8.31993, saving model to ../saved_models/weights.best.VGG16.hdf5\n",
      "Epoch 7/20\n",
      "6680/6680 [==============================] - ETA: 1s - loss: 8.9199 - acc: 0.400 - ETA: 1s - loss: 7.7085 - acc: 0.481 - ETA: 1s - loss: 8.0160 - acc: 0.475 - ETA: 1s - loss: 8.0946 - acc: 0.467 - ETA: 1s - loss: 8.2015 - acc: 0.458 - ETA: 1s - loss: 8.0021 - acc: 0.469 - ETA: 1s - loss: 7.7960 - acc: 0.478 - ETA: 1s - loss: 7.7146 - acc: 0.484 - ETA: 1s - loss: 7.7952 - acc: 0.480 - ETA: 1s - loss: 7.7173 - acc: 0.487 - ETA: 1s - loss: 7.6698 - acc: 0.489 - ETA: 1s - loss: 7.7114 - acc: 0.489 - ETA: 1s - loss: 7.8027 - acc: 0.482 - ETA: 1s - loss: 7.7675 - acc: 0.484 - ETA: 0s - loss: 7.7057 - acc: 0.486 - ETA: 0s - loss: 7.7025 - acc: 0.486 - ETA: 0s - loss: 7.6610 - acc: 0.489 - ETA: 0s - loss: 7.6654 - acc: 0.489 - ETA: 0s - loss: 7.6233 - acc: 0.490 - ETA: 0s - loss: 7.6640 - acc: 0.487 - ETA: 0s - loss: 7.6672 - acc: 0.487 - ETA: 0s - loss: 7.6730 - acc: 0.487 - ETA: 0s - loss: 7.6958 - acc: 0.484 - ETA: 0s - loss: 7.6860 - acc: 0.485 - ETA: 0s - loss: 7.6978 - acc: 0.485 - ETA: 0s - loss: 7.6814 - acc: 0.485 - ETA: 0s - loss: 7.6780 - acc: 0.484 - ETA: 0s - loss: 7.6776 - acc: 0.485 - ETA: 0s - loss: 7.6930 - acc: 0.483 - ETA: 0s - loss: 7.6735 - acc: 0.485 - ETA: 0s - loss: 7.6791 - acc: 0.486 - ETA: 0s - loss: 7.6583 - acc: 0.487 - ETA: 0s - loss: 7.6501 - acc: 0.487 - 2s 288us/step - loss: 7.6478 - acc: 0.4873 - val_loss: 8.1472 - val_acc: 0.4024\n",
      "\n",
      "Epoch 00007: val_loss improved from 8.31993 to 8.14718, saving model to ../saved_models/weights.best.VGG16.hdf5\n",
      "Epoch 8/20\n",
      "6680/6680 [==============================] - ETA: 1s - loss: 8.8726 - acc: 0.450 - ETA: 1s - loss: 7.3831 - acc: 0.529 - ETA: 1s - loss: 7.6476 - acc: 0.508 - ETA: 1s - loss: 7.7153 - acc: 0.500 - ETA: 1s - loss: 7.6057 - acc: 0.503 - ETA: 1s - loss: 7.6399 - acc: 0.499 - ETA: 1s - loss: 7.6530 - acc: 0.495 - ETA: 1s - loss: 7.6533 - acc: 0.494 - ETA: 1s - loss: 7.6506 - acc: 0.496 - ETA: 1s - loss: 7.5235 - acc: 0.502 - ETA: 1s - loss: 7.4815 - acc: 0.506 - ETA: 1s - loss: 7.4273 - acc: 0.509 - ETA: 1s - loss: 7.4515 - acc: 0.509 - ETA: 1s - loss: 7.4151 - acc: 0.512 - ETA: 0s - loss: 7.4586 - acc: 0.510 - ETA: 0s - loss: 7.4749 - acc: 0.510 - ETA: 0s - loss: 7.4925 - acc: 0.508 - ETA: 0s - loss: 7.5167 - acc: 0.507 - ETA: 0s - loss: 7.4719 - acc: 0.509 - ETA: 0s - loss: 7.4646 - acc: 0.509 - ETA: 0s - loss: 7.4196 - acc: 0.511 - ETA: 0s - loss: 7.4489 - acc: 0.509 - ETA: 0s - loss: 7.4388 - acc: 0.509 - ETA: 0s - loss: 7.4228 - acc: 0.510 - ETA: 0s - loss: 7.4588 - acc: 0.508 - ETA: 0s - loss: 7.5129 - acc: 0.505 - ETA: 0s - loss: 7.5138 - acc: 0.505 - ETA: 0s - loss: 7.4884 - acc: 0.507 - ETA: 0s - loss: 7.4668 - acc: 0.508 - ETA: 0s - loss: 7.4735 - acc: 0.508 - ETA: 0s - loss: 7.4523 - acc: 0.509 - ETA: 0s - loss: 7.4573 - acc: 0.508 - 2s 274us/step - loss: 7.4262 - acc: 0.5100 - val_loss: 8.0396 - val_acc: 0.4072\n",
      "\n",
      "Epoch 00008: val_loss improved from 8.14718 to 8.03956, saving model to ../saved_models/weights.best.VGG16.hdf5\n",
      "Epoch 9/20\n",
      "6680/6680 [==============================] - ETA: 1s - loss: 7.4351 - acc: 0.500 - ETA: 1s - loss: 6.8163 - acc: 0.550 - ETA: 1s - loss: 6.9390 - acc: 0.543 - ETA: 1s - loss: 6.9007 - acc: 0.547 - ETA: 1s - loss: 6.8809 - acc: 0.547 - ETA: 1s - loss: 7.0493 - acc: 0.540 - ETA: 1s - loss: 7.0171 - acc: 0.541 - ETA: 1s - loss: 7.0571 - acc: 0.537 - ETA: 1s - loss: 7.1105 - acc: 0.534 - ETA: 1s - loss: 7.1056 - acc: 0.533 - ETA: 1s - loss: 7.1604 - acc: 0.528 - ETA: 1s - loss: 7.1350 - acc: 0.530 - ETA: 0s - loss: 7.0884 - acc: 0.532 - ETA: 0s - loss: 7.1057 - acc: 0.530 - ETA: 0s - loss: 7.0975 - acc: 0.530 - ETA: 0s - loss: 7.1466 - acc: 0.527 - ETA: 0s - loss: 7.1810 - acc: 0.524 - ETA: 0s - loss: 7.1592 - acc: 0.524 - ETA: 0s - loss: 7.1571 - acc: 0.523 - ETA: 0s - loss: 7.1636 - acc: 0.521 - ETA: 0s - loss: 7.1202 - acc: 0.522 - ETA: 0s - loss: 7.0878 - acc: 0.524 - ETA: 0s - loss: 7.0853 - acc: 0.524 - ETA: 0s - loss: 7.0971 - acc: 0.522 - ETA: 0s - loss: 7.1206 - acc: 0.522 - ETA: 0s - loss: 7.1333 - acc: 0.521 - ETA: 0s - loss: 7.1268 - acc: 0.520 - ETA: 0s - loss: 7.1507 - acc: 0.518 - ETA: 0s - loss: 7.1404 - acc: 0.519 - ETA: 0s - loss: 7.1343 - acc: 0.519 - ETA: 0s - loss: 7.1149 - acc: 0.520 - 2s 265us/step - loss: 7.1092 - acc: 0.5211 - val_loss: 7.7486 - val_acc: 0.4132\n",
      "\n",
      "Epoch 00009: val_loss improved from 8.03956 to 7.74863, saving model to ../saved_models/weights.best.VGG16.hdf5\n",
      "Epoch 10/20\n",
      "6680/6680 [==============================] - ETA: 1s - loss: 5.3566 - acc: 0.650 - ETA: 1s - loss: 7.0752 - acc: 0.540 - ETA: 1s - loss: 7.4091 - acc: 0.504 - ETA: 1s - loss: 6.8635 - acc: 0.539 - ETA: 1s - loss: 6.8731 - acc: 0.537 - ETA: 1s - loss: 6.7615 - acc: 0.545 - ETA: 1s - loss: 6.7837 - acc: 0.543 - ETA: 1s - loss: 6.7517 - acc: 0.547 - ETA: 1s - loss: 6.7821 - acc: 0.547 - ETA: 1s - loss: 6.8464 - acc: 0.543 - ETA: 1s - loss: 6.7801 - acc: 0.547 - ETA: 1s - loss: 6.8615 - acc: 0.543 - ETA: 1s - loss: 6.8470 - acc: 0.544 - ETA: 0s - loss: 6.8639 - acc: 0.543 - ETA: 0s - loss: 6.8290 - acc: 0.545 - ETA: 0s - loss: 6.8445 - acc: 0.543 - ETA: 0s - loss: 6.8142 - acc: 0.545 - ETA: 0s - loss: 6.8259 - acc: 0.544 - ETA: 0s - loss: 6.7969 - acc: 0.545 - ETA: 0s - loss: 6.7986 - acc: 0.545 - ETA: 0s - loss: 6.7750 - acc: 0.546 - ETA: 0s - loss: 6.8023 - acc: 0.545 - ETA: 0s - loss: 6.8096 - acc: 0.545 - ETA: 0s - loss: 6.8122 - acc: 0.546 - ETA: 0s - loss: 6.8205 - acc: 0.545 - ETA: 0s - loss: 6.8101 - acc: 0.545 - ETA: 0s - loss: 6.7966 - acc: 0.547 - ETA: 0s - loss: 6.7941 - acc: 0.547 - ETA: 0s - loss: 6.7994 - acc: 0.546 - ETA: 0s - loss: 6.8078 - acc: 0.546 - ETA: 0s - loss: 6.8175 - acc: 0.545 - ETA: 0s - loss: 6.8372 - acc: 0.543 - ETA: 0s - loss: 6.8356 - acc: 0.544 - 2s 277us/step - loss: 6.8310 - acc: 0.5448 - val_loss: 7.5498 - val_acc: 0.4311\n",
      "\n",
      "Epoch 00010: val_loss improved from 7.74863 to 7.54976, saving model to ../saved_models/weights.best.VGG16.hdf5\n",
      "Epoch 11/20\n"
     ]
    },
    {
     "name": "stdout",
     "output_type": "stream",
     "text": [
      "6680/6680 [==============================] - ETA: 1s - loss: 6.4870 - acc: 0.600 - ETA: 1s - loss: 7.0367 - acc: 0.545 - ETA: 1s - loss: 6.9997 - acc: 0.547 - ETA: 1s - loss: 6.9884 - acc: 0.542 - ETA: 1s - loss: 7.0032 - acc: 0.545 - ETA: 1s - loss: 6.9193 - acc: 0.551 - ETA: 1s - loss: 6.7863 - acc: 0.561 - ETA: 1s - loss: 6.7790 - acc: 0.562 - ETA: 1s - loss: 6.6776 - acc: 0.567 - ETA: 1s - loss: 6.5876 - acc: 0.574 - ETA: 1s - loss: 6.5684 - acc: 0.574 - ETA: 1s - loss: 6.4992 - acc: 0.577 - ETA: 1s - loss: 6.5682 - acc: 0.572 - ETA: 1s - loss: 6.6446 - acc: 0.567 - ETA: 0s - loss: 6.6814 - acc: 0.564 - ETA: 0s - loss: 6.7219 - acc: 0.562 - ETA: 0s - loss: 6.7092 - acc: 0.563 - ETA: 0s - loss: 6.6772 - acc: 0.565 - ETA: 0s - loss: 6.6612 - acc: 0.566 - ETA: 0s - loss: 6.6759 - acc: 0.565 - ETA: 0s - loss: 6.6894 - acc: 0.564 - ETA: 0s - loss: 6.7288 - acc: 0.562 - ETA: 0s - loss: 6.7057 - acc: 0.563 - ETA: 0s - loss: 6.7098 - acc: 0.563 - ETA: 0s - loss: 6.6871 - acc: 0.563 - ETA: 0s - loss: 6.6790 - acc: 0.564 - ETA: 0s - loss: 6.7037 - acc: 0.562 - ETA: 0s - loss: 6.7203 - acc: 0.561 - ETA: 0s - loss: 6.7282 - acc: 0.560 - ETA: 0s - loss: 6.7444 - acc: 0.559 - ETA: 0s - loss: 6.7381 - acc: 0.559 - ETA: 0s - loss: 6.7539 - acc: 0.558 - 2s 279us/step - loss: 6.7430 - acc: 0.5590 - val_loss: 7.5874 - val_acc: 0.4395\n",
      "\n",
      "Epoch 00011: val_loss did not improve from 7.54976\n",
      "Epoch 12/20\n",
      "6680/6680 [==============================] - ETA: 1s - loss: 5.6718 - acc: 0.650 - ETA: 1s - loss: 5.9871 - acc: 0.616 - ETA: 1s - loss: 6.1622 - acc: 0.597 - ETA: 1s - loss: 6.5875 - acc: 0.563 - ETA: 1s - loss: 6.4128 - acc: 0.579 - ETA: 1s - loss: 6.5166 - acc: 0.570 - ETA: 1s - loss: 6.4347 - acc: 0.578 - ETA: 1s - loss: 6.5312 - acc: 0.574 - ETA: 1s - loss: 6.6030 - acc: 0.570 - ETA: 1s - loss: 6.5780 - acc: 0.570 - ETA: 1s - loss: 6.5820 - acc: 0.569 - ETA: 1s - loss: 6.5413 - acc: 0.571 - ETA: 1s - loss: 6.6193 - acc: 0.565 - ETA: 1s - loss: 6.6225 - acc: 0.565 - ETA: 1s - loss: 6.6136 - acc: 0.565 - ETA: 0s - loss: 6.5879 - acc: 0.567 - ETA: 0s - loss: 6.5932 - acc: 0.567 - ETA: 0s - loss: 6.5789 - acc: 0.568 - ETA: 0s - loss: 6.5785 - acc: 0.566 - ETA: 0s - loss: 6.5671 - acc: 0.566 - ETA: 0s - loss: 6.5696 - acc: 0.565 - ETA: 0s - loss: 6.6001 - acc: 0.563 - ETA: 0s - loss: 6.5936 - acc: 0.562 - ETA: 0s - loss: 6.5895 - acc: 0.563 - ETA: 0s - loss: 6.5928 - acc: 0.562 - ETA: 0s - loss: 6.6157 - acc: 0.561 - ETA: 0s - loss: 6.6236 - acc: 0.561 - ETA: 0s - loss: 6.6555 - acc: 0.559 - ETA: 0s - loss: 6.6319 - acc: 0.561 - ETA: 0s - loss: 6.6336 - acc: 0.561 - ETA: 0s - loss: 6.6276 - acc: 0.562 - ETA: 0s - loss: 6.6040 - acc: 0.563 - ETA: 0s - loss: 6.6047 - acc: 0.563 - 2s 283us/step - loss: 6.6077 - acc: 0.5641 - val_loss: 7.4005 - val_acc: 0.4611\n",
      "\n",
      "Epoch 00012: val_loss improved from 7.54976 to 7.40053, saving model to ../saved_models/weights.best.VGG16.hdf5\n",
      "Epoch 13/20\n",
      "6680/6680 [==============================] - ETA: 1s - loss: 7.2798 - acc: 0.550 - ETA: 1s - loss: 6.2941 - acc: 0.608 - ETA: 1s - loss: 6.3533 - acc: 0.595 - ETA: 1s - loss: 6.2155 - acc: 0.604 - ETA: 1s - loss: 6.3120 - acc: 0.593 - ETA: 1s - loss: 6.4313 - acc: 0.584 - ETA: 1s - loss: 6.4779 - acc: 0.580 - ETA: 1s - loss: 6.4030 - acc: 0.584 - ETA: 1s - loss: 6.3819 - acc: 0.583 - ETA: 1s - loss: 6.3238 - acc: 0.587 - ETA: 1s - loss: 6.3876 - acc: 0.584 - ETA: 1s - loss: 6.3782 - acc: 0.585 - ETA: 1s - loss: 6.3995 - acc: 0.584 - ETA: 0s - loss: 6.4989 - acc: 0.577 - ETA: 0s - loss: 6.5216 - acc: 0.575 - ETA: 0s - loss: 6.4763 - acc: 0.579 - ETA: 0s - loss: 6.4592 - acc: 0.580 - ETA: 0s - loss: 6.4484 - acc: 0.581 - ETA: 0s - loss: 6.4186 - acc: 0.583 - ETA: 0s - loss: 6.3926 - acc: 0.584 - ETA: 0s - loss: 6.4445 - acc: 0.581 - ETA: 0s - loss: 6.4403 - acc: 0.581 - ETA: 0s - loss: 6.4277 - acc: 0.582 - ETA: 0s - loss: 6.4319 - acc: 0.582 - ETA: 0s - loss: 6.4344 - acc: 0.582 - ETA: 0s - loss: 6.4492 - acc: 0.581 - ETA: 0s - loss: 6.4431 - acc: 0.582 - ETA: 0s - loss: 6.4461 - acc: 0.581 - ETA: 0s - loss: 6.4783 - acc: 0.579 - ETA: 0s - loss: 6.4524 - acc: 0.580 - ETA: 0s - loss: 6.5015 - acc: 0.577 - 2s 269us/step - loss: 6.4976 - acc: 0.5778 - val_loss: 7.4012 - val_acc: 0.4563\n",
      "\n",
      "Epoch 00013: val_loss did not improve from 7.40053\n",
      "Epoch 14/20\n",
      "6680/6680 [==============================] - ETA: 1s - loss: 8.0628 - acc: 0.500 - ETA: 1s - loss: 7.1508 - acc: 0.550 - ETA: 1s - loss: 6.2823 - acc: 0.602 - ETA: 1s - loss: 6.3091 - acc: 0.600 - ETA: 1s - loss: 6.1154 - acc: 0.612 - ETA: 1s - loss: 6.1462 - acc: 0.608 - ETA: 1s - loss: 6.2977 - acc: 0.599 - ETA: 1s - loss: 6.2834 - acc: 0.599 - ETA: 1s - loss: 6.2513 - acc: 0.601 - ETA: 1s - loss: 6.2946 - acc: 0.598 - ETA: 1s - loss: 6.2769 - acc: 0.599 - ETA: 1s - loss: 6.2850 - acc: 0.598 - ETA: 0s - loss: 6.2962 - acc: 0.597 - ETA: 0s - loss: 6.3060 - acc: 0.596 - ETA: 0s - loss: 6.3531 - acc: 0.594 - ETA: 0s - loss: 6.4259 - acc: 0.590 - ETA: 0s - loss: 6.3856 - acc: 0.592 - ETA: 0s - loss: 6.3712 - acc: 0.593 - ETA: 0s - loss: 6.3715 - acc: 0.593 - ETA: 0s - loss: 6.4212 - acc: 0.590 - ETA: 0s - loss: 6.4513 - acc: 0.588 - ETA: 0s - loss: 6.4458 - acc: 0.589 - ETA: 0s - loss: 6.4316 - acc: 0.589 - ETA: 0s - loss: 6.4745 - acc: 0.586 - ETA: 0s - loss: 6.4796 - acc: 0.585 - ETA: 0s - loss: 6.4813 - acc: 0.585 - ETA: 0s - loss: 6.4870 - acc: 0.584 - ETA: 0s - loss: 6.4825 - acc: 0.584 - ETA: 0s - loss: 6.4771 - acc: 0.585 - ETA: 0s - loss: 6.4685 - acc: 0.586 - ETA: 0s - loss: 6.4630 - acc: 0.586 - 2s 264us/step - loss: 6.4537 - acc: 0.5870 - val_loss: 7.3894 - val_acc: 0.4659\n",
      "\n",
      "Epoch 00014: val_loss improved from 7.40053 to 7.38945, saving model to ../saved_models/weights.best.VGG16.hdf5\n",
      "Epoch 15/20\n",
      "6680/6680 [==============================] - ETA: 1s - loss: 4.8365 - acc: 0.700 - ETA: 1s - loss: 6.4548 - acc: 0.600 - ETA: 1s - loss: 6.5415 - acc: 0.590 - ETA: 1s - loss: 6.4386 - acc: 0.595 - ETA: 1s - loss: 6.3377 - acc: 0.598 - ETA: 1s - loss: 6.3938 - acc: 0.596 - ETA: 1s - loss: 6.5203 - acc: 0.588 - ETA: 1s - loss: 6.4417 - acc: 0.592 - ETA: 1s - loss: 6.4615 - acc: 0.591 - ETA: 1s - loss: 6.4642 - acc: 0.591 - ETA: 1s - loss: 6.4499 - acc: 0.592 - ETA: 1s - loss: 6.3745 - acc: 0.596 - ETA: 1s - loss: 6.4683 - acc: 0.590 - ETA: 0s - loss: 6.4675 - acc: 0.590 - ETA: 0s - loss: 6.4721 - acc: 0.590 - ETA: 0s - loss: 6.4910 - acc: 0.589 - ETA: 0s - loss: 6.5234 - acc: 0.587 - ETA: 0s - loss: 6.5110 - acc: 0.588 - ETA: 0s - loss: 6.5064 - acc: 0.588 - ETA: 0s - loss: 6.4923 - acc: 0.589 - ETA: 0s - loss: 6.4776 - acc: 0.590 - ETA: 0s - loss: 6.4756 - acc: 0.590 - ETA: 0s - loss: 6.5259 - acc: 0.588 - ETA: 0s - loss: 6.5505 - acc: 0.586 - ETA: 0s - loss: 6.5358 - acc: 0.587 - ETA: 0s - loss: 6.4968 - acc: 0.589 - ETA: 0s - loss: 6.5013 - acc: 0.589 - ETA: 0s - loss: 6.4903 - acc: 0.589 - ETA: 0s - loss: 6.4734 - acc: 0.590 - ETA: 0s - loss: 6.4716 - acc: 0.590 - ETA: 0s - loss: 6.4821 - acc: 0.589 - ETA: 0s - loss: 6.4521 - acc: 0.591 - 2s 272us/step - loss: 6.4306 - acc: 0.5924 - val_loss: 7.3627 - val_acc: 0.4683\n",
      "\n",
      "Epoch 00015: val_loss improved from 7.38945 to 7.36269, saving model to ../saved_models/weights.best.VGG16.hdf5\n",
      "Epoch 16/20\n"
     ]
    },
    {
     "name": "stdout",
     "output_type": "stream",
     "text": [
      "6680/6680 [==============================] - ETA: 2s - loss: 6.4480 - acc: 0.600 - ETA: 1s - loss: 6.1001 - acc: 0.613 - ETA: 1s - loss: 6.5555 - acc: 0.585 - ETA: 1s - loss: 6.5754 - acc: 0.585 - ETA: 1s - loss: 6.2584 - acc: 0.603 - ETA: 1s - loss: 6.2379 - acc: 0.606 - ETA: 1s - loss: 6.1774 - acc: 0.608 - ETA: 1s - loss: 6.0773 - acc: 0.612 - ETA: 1s - loss: 6.0314 - acc: 0.614 - ETA: 1s - loss: 5.9903 - acc: 0.615 - ETA: 1s - loss: 6.1028 - acc: 0.609 - ETA: 1s - loss: 6.0894 - acc: 0.609 - ETA: 1s - loss: 6.1655 - acc: 0.605 - ETA: 0s - loss: 6.1614 - acc: 0.605 - ETA: 0s - loss: 6.2200 - acc: 0.600 - ETA: 0s - loss: 6.2416 - acc: 0.599 - ETA: 0s - loss: 6.2333 - acc: 0.599 - ETA: 0s - loss: 6.3340 - acc: 0.593 - ETA: 0s - loss: 6.2909 - acc: 0.595 - ETA: 0s - loss: 6.3126 - acc: 0.594 - ETA: 0s - loss: 6.2826 - acc: 0.595 - ETA: 0s - loss: 6.3004 - acc: 0.594 - ETA: 0s - loss: 6.3467 - acc: 0.590 - ETA: 0s - loss: 6.3751 - acc: 0.589 - ETA: 0s - loss: 6.3682 - acc: 0.589 - ETA: 0s - loss: 6.3440 - acc: 0.590 - ETA: 0s - loss: 6.3502 - acc: 0.589 - ETA: 0s - loss: 6.3520 - acc: 0.589 - ETA: 0s - loss: 6.3276 - acc: 0.591 - ETA: 0s - loss: 6.3344 - acc: 0.591 - ETA: 0s - loss: 6.3234 - acc: 0.592 - ETA: 0s - loss: 6.3223 - acc: 0.592 - ETA: 0s - loss: 6.3335 - acc: 0.591 - 2s 286us/step - loss: 6.3255 - acc: 0.5924 - val_loss: 7.2348 - val_acc: 0.4719\n",
      "\n",
      "Epoch 00016: val_loss improved from 7.36269 to 7.23475, saving model to ../saved_models/weights.best.VGG16.hdf5\n",
      "Epoch 17/20\n",
      "6680/6680 [==============================] - ETA: 1s - loss: 6.4478 - acc: 0.600 - ETA: 1s - loss: 6.0408 - acc: 0.613 - ETA: 1s - loss: 6.2665 - acc: 0.593 - ETA: 1s - loss: 6.3649 - acc: 0.587 - ETA: 1s - loss: 6.3194 - acc: 0.593 - ETA: 1s - loss: 6.1498 - acc: 0.605 - ETA: 1s - loss: 6.0486 - acc: 0.611 - ETA: 1s - loss: 6.0521 - acc: 0.610 - ETA: 1s - loss: 6.0962 - acc: 0.609 - ETA: 1s - loss: 6.0657 - acc: 0.612 - ETA: 1s - loss: 6.0763 - acc: 0.612 - ETA: 1s - loss: 6.1116 - acc: 0.610 - ETA: 1s - loss: 6.0534 - acc: 0.613 - ETA: 1s - loss: 6.0612 - acc: 0.613 - ETA: 1s - loss: 6.0889 - acc: 0.612 - ETA: 1s - loss: 6.1002 - acc: 0.611 - ETA: 1s - loss: 6.1008 - acc: 0.611 - ETA: 1s - loss: 6.1351 - acc: 0.609 - ETA: 0s - loss: 6.0991 - acc: 0.610 - ETA: 0s - loss: 6.1604 - acc: 0.606 - ETA: 0s - loss: 6.1869 - acc: 0.605 - ETA: 0s - loss: 6.2278 - acc: 0.603 - ETA: 0s - loss: 6.2364 - acc: 0.602 - ETA: 0s - loss: 6.2096 - acc: 0.605 - ETA: 0s - loss: 6.2327 - acc: 0.602 - ETA: 0s - loss: 6.2570 - acc: 0.601 - ETA: 0s - loss: 6.2372 - acc: 0.602 - ETA: 0s - loss: 6.2239 - acc: 0.602 - ETA: 0s - loss: 6.2471 - acc: 0.601 - ETA: 0s - loss: 6.2245 - acc: 0.603 - ETA: 0s - loss: 6.2359 - acc: 0.602 - ETA: 0s - loss: 6.2679 - acc: 0.600 - ETA: 0s - loss: 6.2436 - acc: 0.601 - ETA: 0s - loss: 6.2377 - acc: 0.602 - ETA: 0s - loss: 6.2565 - acc: 0.600 - 2s 298us/step - loss: 6.2625 - acc: 0.6001 - val_loss: 7.2135 - val_acc: 0.4766\n",
      "\n",
      "Epoch 00017: val_loss improved from 7.23475 to 7.21346, saving model to ../saved_models/weights.best.VGG16.hdf5\n",
      "Epoch 18/20\n",
      "6680/6680 [==============================] - ETA: 2s - loss: 4.8356 - acc: 0.700 - ETA: 2s - loss: 6.2845 - acc: 0.605 - ETA: 2s - loss: 6.3513 - acc: 0.600 - ETA: 2s - loss: 6.2466 - acc: 0.608 - ETA: 2s - loss: 6.2105 - acc: 0.611 - ETA: 2s - loss: 6.3883 - acc: 0.598 - ETA: 1s - loss: 6.2482 - acc: 0.607 - ETA: 1s - loss: 6.2279 - acc: 0.606 - ETA: 1s - loss: 6.3206 - acc: 0.601 - ETA: 1s - loss: 6.2973 - acc: 0.603 - ETA: 1s - loss: 6.2433 - acc: 0.606 - ETA: 1s - loss: 6.2918 - acc: 0.603 - ETA: 1s - loss: 6.2930 - acc: 0.603 - ETA: 1s - loss: 6.2349 - acc: 0.606 - ETA: 1s - loss: 6.2488 - acc: 0.606 - ETA: 1s - loss: 6.2249 - acc: 0.607 - ETA: 1s - loss: 6.3083 - acc: 0.602 - ETA: 1s - loss: 6.3041 - acc: 0.602 - ETA: 1s - loss: 6.2494 - acc: 0.606 - ETA: 1s - loss: 6.2951 - acc: 0.602 - ETA: 1s - loss: 6.3022 - acc: 0.601 - ETA: 1s - loss: 6.2662 - acc: 0.604 - ETA: 1s - loss: 6.2369 - acc: 0.605 - ETA: 0s - loss: 6.2603 - acc: 0.604 - ETA: 0s - loss: 6.2784 - acc: 0.603 - ETA: 0s - loss: 6.2488 - acc: 0.604 - ETA: 0s - loss: 6.2196 - acc: 0.606 - ETA: 0s - loss: 6.1772 - acc: 0.608 - ETA: 0s - loss: 6.1666 - acc: 0.609 - ETA: 0s - loss: 6.1441 - acc: 0.611 - ETA: 0s - loss: 6.1489 - acc: 0.610 - ETA: 0s - loss: 6.1634 - acc: 0.609 - ETA: 0s - loss: 6.1451 - acc: 0.610 - ETA: 0s - loss: 6.1540 - acc: 0.610 - ETA: 0s - loss: 6.1610 - acc: 0.609 - ETA: 0s - loss: 6.1671 - acc: 0.609 - ETA: 0s - loss: 6.1897 - acc: 0.607 - 2s 317us/step - loss: 6.1924 - acc: 0.6073 - val_loss: 7.1662 - val_acc: 0.4790\n",
      "\n",
      "Epoch 00018: val_loss improved from 7.21346 to 7.16623, saving model to ../saved_models/weights.best.VGG16.hdf5\n",
      "Epoch 19/20\n",
      "6680/6680 [==============================] - ETA: 1s - loss: 5.7040 - acc: 0.650 - ETA: 1s - loss: 5.5105 - acc: 0.654 - ETA: 1s - loss: 5.5400 - acc: 0.654 - ETA: 1s - loss: 5.6365 - acc: 0.648 - ETA: 1s - loss: 5.7815 - acc: 0.640 - ETA: 1s - loss: 5.6183 - acc: 0.649 - ETA: 1s - loss: 5.7980 - acc: 0.637 - ETA: 1s - loss: 5.9027 - acc: 0.630 - ETA: 1s - loss: 5.8935 - acc: 0.630 - ETA: 1s - loss: 5.9804 - acc: 0.625 - ETA: 1s - loss: 5.8859 - acc: 0.629 - ETA: 1s - loss: 5.9038 - acc: 0.628 - ETA: 0s - loss: 5.9714 - acc: 0.624 - ETA: 0s - loss: 6.0194 - acc: 0.621 - ETA: 0s - loss: 5.9670 - acc: 0.624 - ETA: 0s - loss: 5.9780 - acc: 0.623 - ETA: 0s - loss: 6.0307 - acc: 0.620 - ETA: 0s - loss: 6.1049 - acc: 0.615 - ETA: 0s - loss: 6.1158 - acc: 0.613 - ETA: 0s - loss: 6.1021 - acc: 0.614 - ETA: 0s - loss: 6.1477 - acc: 0.611 - ETA: 0s - loss: 6.1731 - acc: 0.609 - ETA: 0s - loss: 6.1696 - acc: 0.609 - ETA: 0s - loss: 6.1429 - acc: 0.611 - ETA: 0s - loss: 6.1699 - acc: 0.609 - ETA: 0s - loss: 6.1510 - acc: 0.610 - ETA: 0s - loss: 6.1329 - acc: 0.611 - ETA: 0s - loss: 6.1500 - acc: 0.610 - ETA: 0s - loss: 6.1619 - acc: 0.609 - ETA: 0s - loss: 6.1748 - acc: 0.608 - ETA: 0s - loss: 6.1799 - acc: 0.607 - 2s 263us/step - loss: 6.1771 - acc: 0.6079 - val_loss: 7.2446 - val_acc: 0.4778\n",
      "\n",
      "Epoch 00019: val_loss did not improve from 7.16623\n",
      "Epoch 20/20\n",
      "6680/6680 [==============================] - ETA: 1s - loss: 4.8583 - acc: 0.700 - ETA: 1s - loss: 6.2800 - acc: 0.608 - ETA: 1s - loss: 6.5737 - acc: 0.591 - ETA: 1s - loss: 6.2984 - acc: 0.604 - ETA: 1s - loss: 6.2229 - acc: 0.609 - ETA: 1s - loss: 6.0166 - acc: 0.622 - ETA: 1s - loss: 6.0871 - acc: 0.617 - ETA: 1s - loss: 6.1421 - acc: 0.613 - ETA: 1s - loss: 6.1634 - acc: 0.613 - ETA: 1s - loss: 6.1392 - acc: 0.614 - ETA: 1s - loss: 6.1148 - acc: 0.616 - ETA: 1s - loss: 6.2109 - acc: 0.610 - ETA: 0s - loss: 6.1948 - acc: 0.611 - ETA: 0s - loss: 6.2451 - acc: 0.608 - ETA: 0s - loss: 6.2943 - acc: 0.604 - ETA: 0s - loss: 6.2459 - acc: 0.607 - ETA: 0s - loss: 6.2088 - acc: 0.609 - ETA: 0s - loss: 6.1845 - acc: 0.611 - ETA: 0s - loss: 6.2184 - acc: 0.608 - ETA: 0s - loss: 6.1972 - acc: 0.610 - ETA: 0s - loss: 6.2072 - acc: 0.609 - ETA: 0s - loss: 6.2224 - acc: 0.608 - ETA: 0s - loss: 6.2179 - acc: 0.608 - ETA: 0s - loss: 6.1452 - acc: 0.612 - ETA: 0s - loss: 6.1620 - acc: 0.611 - ETA: 0s - loss: 6.1388 - acc: 0.612 - ETA: 0s - loss: 6.1140 - acc: 0.614 - ETA: 0s - loss: 6.1160 - acc: 0.614 - ETA: 0s - loss: 6.1381 - acc: 0.613 - ETA: 0s - loss: 6.1248 - acc: 0.613 - ETA: 0s - loss: 6.1507 - acc: 0.611 - 2s 265us/step - loss: 6.1484 - acc: 0.6117 - val_loss: 7.2701 - val_acc: 0.4695\n",
      "\n",
      "Epoch 00020: val_loss did not improve from 7.16623\n"
     ]
    },
    {
     "data": {
      "text/plain": [
       "<keras.callbacks.History at 0x2270401ce80>"
      ]
     },
     "execution_count": 59,
     "metadata": {},
     "output_type": "execute_result"
    }
   ],
   "source": [
    "checkpointer = ModelCheckpoint(filepath='../saved_models/weights.best.VGG16.hdf5', \n",
    "                               verbose=1, save_best_only=True)\n",
    "\n",
    "VGG16_model.fit(train_VGG16, train_targets, \n",
    "          validation_data=(valid_VGG16, valid_targets),\n",
    "          epochs=20, batch_size=20, callbacks=[checkpointer], verbose=1)"
   ]
  },
  {
   "cell_type": "markdown",
   "metadata": {},
   "source": [
    "### Load the Model with the Best Validation Loss"
   ]
  },
  {
   "cell_type": "code",
   "execution_count": 60,
   "metadata": {},
   "outputs": [],
   "source": [
    "VGG16_model.load_weights('../saved_models/weights.best.VGG16.hdf5')"
   ]
  },
  {
   "cell_type": "markdown",
   "metadata": {},
   "source": [
    "### Test the Model\n",
    "\n",
    "Now, we can use the CNN to test how well it identifies breed within our test dataset of dog images.  We print the test accuracy below."
   ]
  },
  {
   "cell_type": "code",
   "execution_count": 61,
   "metadata": {},
   "outputs": [
    {
     "name": "stdout",
     "output_type": "stream",
     "text": [
      "Test accuracy: 47.3684%\n"
     ]
    }
   ],
   "source": [
    "# get index of predicted dog breed for each image in test set\n",
    "VGG16_predictions = [np.argmax(VGG16_model.predict(np.expand_dims(feature, axis=0))) for feature in test_VGG16]\n",
    "\n",
    "# report test accuracy\n",
    "test_accuracy = 100*np.sum(np.array(VGG16_predictions)==np.argmax(test_targets, axis=1))/len(VGG16_predictions)\n",
    "print('Test accuracy: %.4f%%' % test_accuracy)"
   ]
  },
  {
   "cell_type": "markdown",
   "metadata": {},
   "source": [
    "### Predict Dog Breed with the Model"
   ]
  },
  {
   "cell_type": "code",
   "execution_count": 32,
   "metadata": {},
   "outputs": [],
   "source": [
    "from extract_bottleneck_features import *\n",
    "\n",
    "def VGG16_predict_breed(img_path):\n",
    "    # extract bottleneck features\n",
    "    bottleneck_feature = extract_VGG16(path_to_tensor(img_path))\n",
    "    # obtain predicted vector\n",
    "    predicted_vector = VGG16_model.predict(bottleneck_feature)\n",
    "    # return dog breed that is predicted by the model\n",
    "    return dog_names[np.argmax(predicted_vector)]"
   ]
  },
  {
   "cell_type": "markdown",
   "metadata": {},
   "source": [
    "---\n",
    "<a id='step5'></a>\n",
    "## Step 5: Create a CNN to Classify Dog Breeds (using Transfer Learning)\n",
    "\n",
    "You will now use transfer learning to create a CNN that can identify dog breed from images.  Your CNN must attain at least 60% accuracy on the test set.\n",
    "\n",
    "In Step 4, we used transfer learning to create a CNN using VGG-16 bottleneck features.  In this section, you must use the bottleneck features from a different pre-trained model.  To make things easier for you, we have pre-computed the features for all of the networks that are currently available in Keras:\n",
    "- [VGG-19](https://s3-us-west-1.amazonaws.com/udacity-aind/dog-project/DogVGG19Data.npz) bottleneck features\n",
    "- [ResNet-50](https://s3-us-west-1.amazonaws.com/udacity-aind/dog-project/DogResnet50Data.npz) bottleneck features\n",
    "- [Inception](https://s3-us-west-1.amazonaws.com/udacity-aind/dog-project/DogInceptionV3Data.npz) bottleneck features\n",
    "- [Xception](https://s3-us-west-1.amazonaws.com/udacity-aind/dog-project/DogXceptionData.npz) bottleneck features\n",
    "\n",
    "The files are encoded as such:\n",
    "\n",
    "    Dog{network}Data.npz\n",
    "    \n",
    "where `{network}`, in the above filename, can be one of `VGG19`, `Resnet50`, `InceptionV3`, or `Xception`.  Pick one of the above architectures, download the corresponding bottleneck features, and store the downloaded file in the `bottleneck_features/` folder in the repository.\n",
    "\n",
    "### (IMPLEMENTATION) Obtain Bottleneck Features\n",
    "\n",
    "In the code block below, extract the bottleneck features corresponding to the train, test, and validation sets by running the following:\n",
    "\n",
    "    bottleneck_features = np.load('bottleneck_features/Dog{network}Data.npz')\n",
    "    train_{network} = bottleneck_features['train']\n",
    "    valid_{network} = bottleneck_features['valid']\n",
    "    test_{network} = bottleneck_features['test']"
   ]
  },
  {
   "cell_type": "code",
   "execution_count": null,
   "metadata": {
    "collapsed": true
   },
   "outputs": [],
   "source": [
    "### TODO: Obtain bottleneck features from another pre-trained CNN."
   ]
  },
  {
   "cell_type": "markdown",
   "metadata": {},
   "source": [
    "### (IMPLEMENTATION) Model Architecture\n",
    "\n",
    "Create a CNN to classify dog breed.  At the end of your code cell block, summarize the layers of your model by executing the line:\n",
    "    \n",
    "        <your model's name>.summary()\n",
    "   \n",
    "__Question 5:__ Outline the steps you took to get to your final CNN architecture and your reasoning at each step.  Describe why you think the architecture is suitable for the current problem.\n",
    "\n",
    "__Answer:__ \n",
    "\n"
   ]
  },
  {
   "cell_type": "code",
   "execution_count": null,
   "metadata": {
    "collapsed": true
   },
   "outputs": [],
   "source": [
    "### TODO: Define your architecture."
   ]
  },
  {
   "cell_type": "markdown",
   "metadata": {},
   "source": [
    "### (IMPLEMENTATION) Compile the Model"
   ]
  },
  {
   "cell_type": "code",
   "execution_count": null,
   "metadata": {
    "collapsed": true
   },
   "outputs": [],
   "source": [
    "### TODO: Compile the model."
   ]
  },
  {
   "cell_type": "markdown",
   "metadata": {},
   "source": [
    "### (IMPLEMENTATION) Train the Model\n",
    "\n",
    "Train your model in the code cell below.  Use model checkpointing to save the model that attains the best validation loss.  \n",
    "\n",
    "You are welcome to [augment the training data](https://blog.keras.io/building-powerful-image-classification-models-using-very-little-data.html), but this is not a requirement. "
   ]
  },
  {
   "cell_type": "code",
   "execution_count": null,
   "metadata": {
    "collapsed": true
   },
   "outputs": [],
   "source": [
    "### TODO: Train the model."
   ]
  },
  {
   "cell_type": "markdown",
   "metadata": {},
   "source": [
    "### (IMPLEMENTATION) Load the Model with the Best Validation Loss"
   ]
  },
  {
   "cell_type": "code",
   "execution_count": null,
   "metadata": {
    "collapsed": true
   },
   "outputs": [],
   "source": [
    "### TODO: Load the model weights with the best validation loss."
   ]
  },
  {
   "cell_type": "markdown",
   "metadata": {},
   "source": [
    "### (IMPLEMENTATION) Test the Model\n",
    "\n",
    "Try out your model on the test dataset of dog images. Ensure that your test accuracy is greater than 60%."
   ]
  },
  {
   "cell_type": "code",
   "execution_count": null,
   "metadata": {
    "collapsed": true
   },
   "outputs": [],
   "source": [
    "### TODO: Calculate classification accuracy on the test dataset."
   ]
  },
  {
   "cell_type": "markdown",
   "metadata": {},
   "source": [
    "### (IMPLEMENTATION) Predict Dog Breed with the Model\n",
    "\n",
    "Write a function that takes an image path as input and returns the dog breed (`Affenpinscher`, `Afghan_hound`, etc) that is predicted by your model.  \n",
    "\n",
    "Similar to the analogous function in Step 5, your function should have three steps:\n",
    "1. Extract the bottleneck features corresponding to the chosen CNN model.\n",
    "2. Supply the bottleneck features as input to the model to return the predicted vector.  Note that the argmax of this prediction vector gives the index of the predicted dog breed.\n",
    "3. Use the `dog_names` array defined in Step 0 of this notebook to return the corresponding breed.\n",
    "\n",
    "The functions to extract the bottleneck features can be found in `extract_bottleneck_features.py`, and they have been imported in an earlier code cell.  To obtain the bottleneck features corresponding to your chosen CNN architecture, you need to use the function\n",
    "\n",
    "    extract_{network}\n",
    "    \n",
    "where `{network}`, in the above filename, should be one of `VGG19`, `Resnet50`, `InceptionV3`, or `Xception`."
   ]
  },
  {
   "cell_type": "code",
   "execution_count": null,
   "metadata": {
    "collapsed": true
   },
   "outputs": [],
   "source": [
    "### TODO: Write a function that takes a path to an image as input\n",
    "### and returns the dog breed that is predicted by the model."
   ]
  },
  {
   "cell_type": "markdown",
   "metadata": {},
   "source": [
    "---\n",
    "<a id='step6'></a>\n",
    "## Step 6: Write your Algorithm\n",
    "\n",
    "Write an algorithm that accepts a file path to an image and first determines whether the image contains a human, dog, or neither.  Then,\n",
    "- if a __dog__ is detected in the image, return the predicted breed.\n",
    "- if a __human__ is detected in the image, return the resembling dog breed.\n",
    "- if __neither__ is detected in the image, provide output that indicates an error.\n",
    "\n",
    "You are welcome to write your own functions for detecting humans and dogs in images, but feel free to use the `face_detector` and `dog_detector` functions developed above.  You are __required__ to use your CNN from Step 5 to predict dog breed.  \n",
    "\n",
    "A sample image and output for our algorithm is provided below, but feel free to design your own user experience!\n",
    "\n",
    "![Sample Human Output](images/sample_human_2.png)\n",
    "\n",
    "This photo looks like an Afghan Hound.\n",
    "### (IMPLEMENTATION) Write your Algorithm"
   ]
  },
  {
   "cell_type": "code",
   "execution_count": null,
   "metadata": {
    "collapsed": true
   },
   "outputs": [],
   "source": [
    "### TODO: Write your algorithm.\n",
    "### Feel free to use as many code cells as needed."
   ]
  },
  {
   "cell_type": "markdown",
   "metadata": {},
   "source": [
    "---\n",
    "<a id='step7'></a>\n",
    "## Step 7: Test Your Algorithm\n",
    "\n",
    "In this section, you will take your new algorithm for a spin!  What kind of dog does the algorithm think that __you__ look like?  If you have a dog, does it predict your dog's breed accurately?  If you have a cat, does it mistakenly think that your cat is a dog?\n",
    "\n",
    "### (IMPLEMENTATION) Test Your Algorithm on Sample Images!\n",
    "\n",
    "Test your algorithm at least six images on your computer.  Feel free to use any images you like.  Use at least two human and two dog images.  \n",
    "\n",
    "__Question 6:__ Is the output better than you expected :) ?  Or worse :( ?  Provide at least three possible points of improvement for your algorithm.\n",
    "\n",
    "__Answer:__ "
   ]
  },
  {
   "cell_type": "code",
   "execution_count": null,
   "metadata": {
    "collapsed": true
   },
   "outputs": [],
   "source": [
    "## TODO: Execute your algorithm from Step 6 on\n",
    "## at least 6 images on your computer.\n",
    "## Feel free to use as many code cells as needed."
   ]
  }
 ],
 "metadata": {
  "anaconda-cloud": {},
  "kernelspec": {
   "display_name": "Python 3",
   "language": "python",
   "name": "python3"
  },
  "language_info": {
   "codemirror_mode": {
    "name": "ipython",
    "version": 3
   },
   "file_extension": ".py",
   "mimetype": "text/x-python",
   "name": "python",
   "nbconvert_exporter": "python",
   "pygments_lexer": "ipython3",
   "version": "3.6.9"
  }
 },
 "nbformat": 4,
 "nbformat_minor": 1
}
